{
  "cells": [
    {
      "cell_type": "markdown",
      "metadata": {
        "id": "CE016gf7PrUS"
      },
      "source": [
        "# **Data Cleaning**"
      ]
    },
    {
      "cell_type": "markdown",
      "metadata": {
        "id": "jSk6vaiTNdjV"
      },
      "source": [
        "## **Import Package**"
      ]
    },
    {
      "cell_type": "code",
      "execution_count": 1,
      "metadata": {
        "id": "p0kdTMqFNdVu"
      },
      "outputs": [],
      "source": [
        "import pandas as pd\n",
        "import numpy as np\n",
        "import seaborn as sns\n",
        "import matplotlib.pyplot as plt\n",
        "%matplotlib inline\n",
        "\n",
        "# Import additional files with statistical functions\n",
        "import sys\n",
        "import os"
      ]
    },
    {
      "cell_type": "markdown",
      "metadata": {
        "id": "ZoLHunh8NRWP"
      },
      "source": [
        "### **Data**"
      ]
    },
    {
      "cell_type": "code",
      "execution_count": 2,
      "metadata": {
        "colab": {
          "base_uri": "https://localhost:8080/",
          "height": 721
        },
        "id": "0_0uiLnNNOP_",
        "outputId": "49fdb3d1-2a5a-4b69-933d-11228b495eeb"
      },
      "outputs": [
        {
          "data": {
            "text/html": [
              "<div>\n",
              "<style scoped>\n",
              "    .dataframe tbody tr th:only-of-type {\n",
              "        vertical-align: middle;\n",
              "    }\n",
              "\n",
              "    .dataframe tbody tr th {\n",
              "        vertical-align: top;\n",
              "    }\n",
              "\n",
              "    .dataframe thead th {\n",
              "        text-align: right;\n",
              "    }\n",
              "</style>\n",
              "<table border=\"1\" class=\"dataframe\">\n",
              "  <thead>\n",
              "    <tr style=\"text-align: right;\">\n",
              "      <th></th>\n",
              "      <th>Nomor</th>\n",
              "      <th>AR_Type</th>\n",
              "      <th>Cust Name</th>\n",
              "      <th>Segment</th>\n",
              "      <th>Bidang_Baku</th>\n",
              "      <th>Tipe</th>\n",
              "      <th>Layanan</th>\n",
              "      <th>Bandwidth</th>\n",
              "      <th>Biaya_Sewa</th>\n",
              "      <th>Address Terminating</th>\n",
              "      <th>SBU_Ter</th>\n",
              "      <th>AL_Status</th>\n",
              "      <th>Kabupaten/Kota</th>\n",
              "      <th>Wilayah</th>\n",
              "    </tr>\n",
              "  </thead>\n",
              "  <tbody>\n",
              "    <tr>\n",
              "      <th>0</th>\n",
              "      <td>1</td>\n",
              "      <td>Change Tariff</td>\n",
              "      <td>DINAS KOMUNIKASI DAN INFORMATIKA STATISTIK DAN...</td>\n",
              "      <td>Government</td>\n",
              "      <td>NaN</td>\n",
              "      <td>NaN</td>\n",
              "      <td>Bronze</td>\n",
              "      <td>Units</td>\n",
              "      <td>190000.0</td>\n",
              "      <td>(Kantor Kecamatan Singgahan) Jojogan, Mulyoagu...</td>\n",
              "      <td>SBU REG JAWA BAGIAN TIMUR</td>\n",
              "      <td>Active</td>\n",
              "      <td>Kabupaten</td>\n",
              "      <td>Tuban</td>\n",
              "    </tr>\n",
              "    <tr>\n",
              "      <th>1</th>\n",
              "      <td>2</td>\n",
              "      <td>Change Tariff</td>\n",
              "      <td>DINAS KOMUNIKASI DAN INFORMATIKA STATISTIK DAN...</td>\n",
              "      <td>Government</td>\n",
              "      <td>NaN</td>\n",
              "      <td>NaN</td>\n",
              "      <td>Bronze</td>\n",
              "      <td>Units</td>\n",
              "      <td>190000.0</td>\n",
              "      <td>(Kantor Kecamatan Plumpang) Jl. Raya Plumpang ...</td>\n",
              "      <td>SBU REG JAWA BAGIAN TIMUR</td>\n",
              "      <td>Active</td>\n",
              "      <td>Kabupaten</td>\n",
              "      <td>Tuban</td>\n",
              "    </tr>\n",
              "    <tr>\n",
              "      <th>2</th>\n",
              "      <td>3</td>\n",
              "      <td>Change Tariff</td>\n",
              "      <td>DINAS KOMUNIKASI DAN INFORMATIKA STATISTIK DAN...</td>\n",
              "      <td>Government</td>\n",
              "      <td>NaN</td>\n",
              "      <td>NaN</td>\n",
              "      <td>Bronze</td>\n",
              "      <td>Units</td>\n",
              "      <td>190000.0</td>\n",
              "      <td>(Kantor Kecamatan Parengan) Jl. Cokrokusumo No...</td>\n",
              "      <td>SBU REG JAWA BAGIAN TIMUR</td>\n",
              "      <td>Active</td>\n",
              "      <td>Kabupaten</td>\n",
              "      <td>Tuban</td>\n",
              "    </tr>\n",
              "    <tr>\n",
              "      <th>3</th>\n",
              "      <td>4</td>\n",
              "      <td>Change Tariff</td>\n",
              "      <td>DINAS KOMUNIKASI DAN INFORMATIKA STATISTIK DAN...</td>\n",
              "      <td>Government</td>\n",
              "      <td>NaN</td>\n",
              "      <td>NaN</td>\n",
              "      <td>Bronze</td>\n",
              "      <td>Units</td>\n",
              "      <td>190000.0</td>\n",
              "      <td>(Kantor Kecamatan Kerek) Jalan Raya Kresek No....</td>\n",
              "      <td>SBU REG JAWA BAGIAN TIMUR</td>\n",
              "      <td>Active</td>\n",
              "      <td>Kabupaten</td>\n",
              "      <td>Tuban</td>\n",
              "    </tr>\n",
              "    <tr>\n",
              "      <th>4</th>\n",
              "      <td>5</td>\n",
              "      <td>Change Tariff</td>\n",
              "      <td>DINAS KOMUNIKASI DAN INFORMATIKA STATISTIK DAN...</td>\n",
              "      <td>Government</td>\n",
              "      <td>NaN</td>\n",
              "      <td>NaN</td>\n",
              "      <td>Bronze</td>\n",
              "      <td>Units</td>\n",
              "      <td>190000.0</td>\n",
              "      <td>(Kantor Kecamatan Kenduruan) Jl. Blora No. 01,...</td>\n",
              "      <td>SBU REG JAWA BAGIAN TIMUR</td>\n",
              "      <td>Active</td>\n",
              "      <td>Kabupaten</td>\n",
              "      <td>Tuban</td>\n",
              "    </tr>\n",
              "  </tbody>\n",
              "</table>\n",
              "</div>"
            ],
            "text/plain": [
              "   Nomor        AR_Type                                          Cust Name  \\\n",
              "0      1  Change Tariff  DINAS KOMUNIKASI DAN INFORMATIKA STATISTIK DAN...   \n",
              "1      2  Change Tariff  DINAS KOMUNIKASI DAN INFORMATIKA STATISTIK DAN...   \n",
              "2      3  Change Tariff  DINAS KOMUNIKASI DAN INFORMATIKA STATISTIK DAN...   \n",
              "3      4  Change Tariff  DINAS KOMUNIKASI DAN INFORMATIKA STATISTIK DAN...   \n",
              "4      5  Change Tariff  DINAS KOMUNIKASI DAN INFORMATIKA STATISTIK DAN...   \n",
              "\n",
              "      Segment Bidang_Baku Tipe Layanan Bandwidth  Biaya_Sewa  \\\n",
              "0  Government         NaN  NaN  Bronze     Units    190000.0   \n",
              "1  Government         NaN  NaN  Bronze     Units    190000.0   \n",
              "2  Government         NaN  NaN  Bronze     Units    190000.0   \n",
              "3  Government         NaN  NaN  Bronze     Units    190000.0   \n",
              "4  Government         NaN  NaN  Bronze     Units    190000.0   \n",
              "\n",
              "                                 Address Terminating  \\\n",
              "0  (Kantor Kecamatan Singgahan) Jojogan, Mulyoagu...   \n",
              "1  (Kantor Kecamatan Plumpang) Jl. Raya Plumpang ...   \n",
              "2  (Kantor Kecamatan Parengan) Jl. Cokrokusumo No...   \n",
              "3  (Kantor Kecamatan Kerek) Jalan Raya Kresek No....   \n",
              "4  (Kantor Kecamatan Kenduruan) Jl. Blora No. 01,...   \n",
              "\n",
              "                     SBU_Ter AL_Status Kabupaten/Kota Wilayah  \n",
              "0  SBU REG JAWA BAGIAN TIMUR    Active      Kabupaten   Tuban  \n",
              "1  SBU REG JAWA BAGIAN TIMUR    Active      Kabupaten   Tuban  \n",
              "2  SBU REG JAWA BAGIAN TIMUR    Active      Kabupaten   Tuban  \n",
              "3  SBU REG JAWA BAGIAN TIMUR    Active      Kabupaten   Tuban  \n",
              "4  SBU REG JAWA BAGIAN TIMUR    Active      Kabupaten   Tuban  "
            ]
          },
          "execution_count": 2,
          "metadata": {},
          "output_type": "execute_result"
        }
      ],
      "source": [
        "data = pd.read_excel('DATA AR JANUARI - MEI 2023 - FIX - Copy.xlsx')\n",
        "data.head()"
      ]
    },
    {
      "cell_type": "markdown",
      "metadata": {
        "id": "UbkoSYHfqO_m"
      },
      "source": [
        "## **Feature Engineering**"
      ]
    },
    {
      "cell_type": "code",
      "execution_count": 3,
      "metadata": {
        "colab": {
          "base_uri": "https://localhost:8080/",
          "height": 617
        },
        "id": "ar-CEdqjUfhI",
        "outputId": "72a8f598-635a-4c20-ad3d-598b6c87f7e1"
      },
      "outputs": [
        {
          "data": {
            "text/html": [
              "<div>\n",
              "<style scoped>\n",
              "    .dataframe tbody tr th:only-of-type {\n",
              "        vertical-align: middle;\n",
              "    }\n",
              "\n",
              "    .dataframe tbody tr th {\n",
              "        vertical-align: top;\n",
              "    }\n",
              "\n",
              "    .dataframe thead th {\n",
              "        text-align: right;\n",
              "    }\n",
              "</style>\n",
              "<table border=\"1\" class=\"dataframe\">\n",
              "  <thead>\n",
              "    <tr style=\"text-align: right;\">\n",
              "      <th></th>\n",
              "      <th>Nomor</th>\n",
              "      <th>AR_Type</th>\n",
              "      <th>Cust Name</th>\n",
              "      <th>Segment</th>\n",
              "      <th>Bidang_Baku</th>\n",
              "      <th>Tipe</th>\n",
              "      <th>Layanan</th>\n",
              "      <th>Bandwidth</th>\n",
              "      <th>Biaya_Sewa</th>\n",
              "      <th>Address Terminating</th>\n",
              "      <th>SBU_Ter</th>\n",
              "      <th>AL_Status</th>\n",
              "      <th>Kabupaten/Kota</th>\n",
              "      <th>Wilayah</th>\n",
              "    </tr>\n",
              "  </thead>\n",
              "  <tbody>\n",
              "    <tr>\n",
              "      <th>216</th>\n",
              "      <td>738</td>\n",
              "      <td>Upgrade</td>\n",
              "      <td>DESA MACAN PUTIH</td>\n",
              "      <td>Government</td>\n",
              "      <td>Administrasi Pemerintahan, Pertahanan Dan Jami...</td>\n",
              "      <td>Internet</td>\n",
              "      <td>Internet Broadband Corporate</td>\n",
              "      <td>50</td>\n",
              "      <td>552252.25</td>\n",
              "      <td>Dusun Macan Putih Utara RT 001 RW 003 Macan Pu...</td>\n",
              "      <td>SBU REG JAWA BAGIAN TIMUR</td>\n",
              "      <td>Active</td>\n",
              "      <td>Kabupaten</td>\n",
              "      <td>Banyuwangi</td>\n",
              "    </tr>\n",
              "    <tr>\n",
              "      <th>217</th>\n",
              "      <td>738</td>\n",
              "      <td>New</td>\n",
              "      <td>DINAS PEMBERDAYAAN MASYARAKAT DAN DESA KABUPAT...</td>\n",
              "      <td>Government</td>\n",
              "      <td>Administrasi Pemerintahan, Pertahanan Dan Jami...</td>\n",
              "      <td>Internet</td>\n",
              "      <td>Internet Broadband Corporate</td>\n",
              "      <td>50</td>\n",
              "      <td>0.00</td>\n",
              "      <td>Kantor DPMD Kab. Banyuwangi Jl. AdiSucipto, Tu...</td>\n",
              "      <td>SBU REG JAWA BAGIAN TIMUR</td>\n",
              "      <td>Active</td>\n",
              "      <td>Kabupaten</td>\n",
              "      <td>Banyuwangi</td>\n",
              "    </tr>\n",
              "    <tr>\n",
              "      <th>218</th>\n",
              "      <td>738</td>\n",
              "      <td>New</td>\n",
              "      <td>SMP NEGERI 1 NGLEGOK BLITAR</td>\n",
              "      <td>Education</td>\n",
              "      <td>Pendidikan</td>\n",
              "      <td>Internet</td>\n",
              "      <td>Internet Broadband Corporate</td>\n",
              "      <td>100</td>\n",
              "      <td>1800000.00</td>\n",
              "      <td>Jl. SMP Desa Dayu,Nglegok ,Kabupaten Blitar ,J...</td>\n",
              "      <td>SBU REG JAWA BAGIAN TIMUR</td>\n",
              "      <td>Active</td>\n",
              "      <td>Kabupaten</td>\n",
              "      <td>Blitar</td>\n",
              "    </tr>\n",
              "    <tr>\n",
              "      <th>219</th>\n",
              "      <td>738</td>\n",
              "      <td>New</td>\n",
              "      <td>DESA TEBALO KECAMATAN MANYAR KAB. GRESIK</td>\n",
              "      <td>Government</td>\n",
              "      <td>Administrasi Pemerintahan, Pertahanan Dan Jami...</td>\n",
              "      <td>Internet</td>\n",
              "      <td>Internet Broadband Corporate</td>\n",
              "      <td>20</td>\n",
              "      <td>520000.00</td>\n",
              "      <td>Kantor Balai Desa Tebalo Jalan Raya Masjid Jam...</td>\n",
              "      <td>SBU REG JAWA BAGIAN TIMUR</td>\n",
              "      <td>Active</td>\n",
              "      <td>Kabupaten</td>\n",
              "      <td>Gresik</td>\n",
              "    </tr>\n",
              "    <tr>\n",
              "      <th>236</th>\n",
              "      <td>738</td>\n",
              "      <td>Change Tariff</td>\n",
              "      <td>BENDAHARA PENGELUARAN DINAS KOMUNIKASI DAN INF...</td>\n",
              "      <td>Government</td>\n",
              "      <td>Administrasi Pemerintahan, Pertahanan Dan Jami...</td>\n",
              "      <td>Internet</td>\n",
              "      <td>Internet Broadband Corporate</td>\n",
              "      <td>50</td>\n",
              "      <td>2522522.52</td>\n",
              "      <td>Kantor Kecamatan Ujungpangkah, Jl. Sitarda, Pa...</td>\n",
              "      <td>SBU REG JAWA BAGIAN TIMUR</td>\n",
              "      <td>Active</td>\n",
              "      <td>Kabupaten</td>\n",
              "      <td>Gresik</td>\n",
              "    </tr>\n",
              "  </tbody>\n",
              "</table>\n",
              "</div>"
            ],
            "text/plain": [
              "     Nomor        AR_Type                                          Cust Name  \\\n",
              "216    738        Upgrade                                   DESA MACAN PUTIH   \n",
              "217    738            New  DINAS PEMBERDAYAAN MASYARAKAT DAN DESA KABUPAT...   \n",
              "218    738            New                        SMP NEGERI 1 NGLEGOK BLITAR   \n",
              "219    738            New           DESA TEBALO KECAMATAN MANYAR KAB. GRESIK   \n",
              "236    738  Change Tariff  BENDAHARA PENGELUARAN DINAS KOMUNIKASI DAN INF...   \n",
              "\n",
              "        Segment                                        Bidang_Baku      Tipe  \\\n",
              "216  Government  Administrasi Pemerintahan, Pertahanan Dan Jami...  Internet   \n",
              "217  Government  Administrasi Pemerintahan, Pertahanan Dan Jami...  Internet   \n",
              "218   Education                                         Pendidikan  Internet   \n",
              "219  Government  Administrasi Pemerintahan, Pertahanan Dan Jami...  Internet   \n",
              "236  Government  Administrasi Pemerintahan, Pertahanan Dan Jami...  Internet   \n",
              "\n",
              "                          Layanan Bandwidth  Biaya_Sewa  \\\n",
              "216  Internet Broadband Corporate        50   552252.25   \n",
              "217  Internet Broadband Corporate        50        0.00   \n",
              "218  Internet Broadband Corporate       100  1800000.00   \n",
              "219  Internet Broadband Corporate        20   520000.00   \n",
              "236  Internet Broadband Corporate        50  2522522.52   \n",
              "\n",
              "                                   Address Terminating  \\\n",
              "216  Dusun Macan Putih Utara RT 001 RW 003 Macan Pu...   \n",
              "217  Kantor DPMD Kab. Banyuwangi Jl. AdiSucipto, Tu...   \n",
              "218  Jl. SMP Desa Dayu,Nglegok ,Kabupaten Blitar ,J...   \n",
              "219  Kantor Balai Desa Tebalo Jalan Raya Masjid Jam...   \n",
              "236  Kantor Kecamatan Ujungpangkah, Jl. Sitarda, Pa...   \n",
              "\n",
              "                       SBU_Ter AL_Status Kabupaten/Kota     Wilayah  \n",
              "216  SBU REG JAWA BAGIAN TIMUR    Active      Kabupaten  Banyuwangi  \n",
              "217  SBU REG JAWA BAGIAN TIMUR    Active      Kabupaten  Banyuwangi  \n",
              "218  SBU REG JAWA BAGIAN TIMUR    Active      Kabupaten      Blitar  \n",
              "219  SBU REG JAWA BAGIAN TIMUR    Active      Kabupaten      Gresik  \n",
              "236  SBU REG JAWA BAGIAN TIMUR    Active      Kabupaten      Gresik  "
            ]
          },
          "execution_count": 3,
          "metadata": {},
          "output_type": "execute_result"
        }
      ],
      "source": [
        "#drop rows that contain specific 'value' in 'column_name'\n",
        "data2 = data[(data.Bandwidth != \"Units\") & (data.Layanan != \"Penambahan IPv4 Publik Internet Corporate\")]\n",
        "data3 = data2[data2.AL_Status == \"Active\"]\n",
        "data4 = data3[data3.SBU_Ter == \"SBU REG JAWA BAGIAN TIMUR\"]\n",
        "data5 = data4[data4.AR_Type != \"Trial\"]\n",
        "data5.head()"
      ]
    },
    {
      "cell_type": "code",
      "execution_count": 4,
      "metadata": {
        "colab": {
          "base_uri": "https://localhost:8080/",
          "height": 250
        },
        "id": "StR7YDpT3IRj",
        "outputId": "e5264ad2-326c-4aa6-baf1-eb73a708b6d7"
      },
      "outputs": [
        {
          "data": {
            "text/html": [
              "<div>\n",
              "<style scoped>\n",
              "    .dataframe tbody tr th:only-of-type {\n",
              "        vertical-align: middle;\n",
              "    }\n",
              "\n",
              "    .dataframe tbody tr th {\n",
              "        vertical-align: top;\n",
              "    }\n",
              "\n",
              "    .dataframe thead th {\n",
              "        text-align: right;\n",
              "    }\n",
              "</style>\n",
              "<table border=\"1\" class=\"dataframe\">\n",
              "  <thead>\n",
              "    <tr style=\"text-align: right;\">\n",
              "      <th></th>\n",
              "      <th>AR_Type</th>\n",
              "      <th>Bidang_Baku</th>\n",
              "      <th>Tipe</th>\n",
              "      <th>Layanan</th>\n",
              "      <th>Bandwidth</th>\n",
              "      <th>Biaya_Sewa</th>\n",
              "      <th>Kabupaten/Kota</th>\n",
              "      <th>Wilayah</th>\n",
              "    </tr>\n",
              "  </thead>\n",
              "  <tbody>\n",
              "    <tr>\n",
              "      <th>216</th>\n",
              "      <td>Upgrade</td>\n",
              "      <td>Administrasi Pemerintahan, Pertahanan Dan Jami...</td>\n",
              "      <td>Internet</td>\n",
              "      <td>Internet Broadband Corporate</td>\n",
              "      <td>50</td>\n",
              "      <td>552252.25</td>\n",
              "      <td>Kabupaten</td>\n",
              "      <td>Banyuwangi</td>\n",
              "    </tr>\n",
              "    <tr>\n",
              "      <th>217</th>\n",
              "      <td>New</td>\n",
              "      <td>Administrasi Pemerintahan, Pertahanan Dan Jami...</td>\n",
              "      <td>Internet</td>\n",
              "      <td>Internet Broadband Corporate</td>\n",
              "      <td>50</td>\n",
              "      <td>0.00</td>\n",
              "      <td>Kabupaten</td>\n",
              "      <td>Banyuwangi</td>\n",
              "    </tr>\n",
              "    <tr>\n",
              "      <th>218</th>\n",
              "      <td>New</td>\n",
              "      <td>Pendidikan</td>\n",
              "      <td>Internet</td>\n",
              "      <td>Internet Broadband Corporate</td>\n",
              "      <td>100</td>\n",
              "      <td>1800000.00</td>\n",
              "      <td>Kabupaten</td>\n",
              "      <td>Blitar</td>\n",
              "    </tr>\n",
              "    <tr>\n",
              "      <th>219</th>\n",
              "      <td>New</td>\n",
              "      <td>Administrasi Pemerintahan, Pertahanan Dan Jami...</td>\n",
              "      <td>Internet</td>\n",
              "      <td>Internet Broadband Corporate</td>\n",
              "      <td>20</td>\n",
              "      <td>520000.00</td>\n",
              "      <td>Kabupaten</td>\n",
              "      <td>Gresik</td>\n",
              "    </tr>\n",
              "    <tr>\n",
              "      <th>236</th>\n",
              "      <td>Change Tariff</td>\n",
              "      <td>Administrasi Pemerintahan, Pertahanan Dan Jami...</td>\n",
              "      <td>Internet</td>\n",
              "      <td>Internet Broadband Corporate</td>\n",
              "      <td>50</td>\n",
              "      <td>2522522.52</td>\n",
              "      <td>Kabupaten</td>\n",
              "      <td>Gresik</td>\n",
              "    </tr>\n",
              "  </tbody>\n",
              "</table>\n",
              "</div>"
            ],
            "text/plain": [
              "           AR_Type                                        Bidang_Baku  \\\n",
              "216        Upgrade  Administrasi Pemerintahan, Pertahanan Dan Jami...   \n",
              "217            New  Administrasi Pemerintahan, Pertahanan Dan Jami...   \n",
              "218            New                                         Pendidikan   \n",
              "219            New  Administrasi Pemerintahan, Pertahanan Dan Jami...   \n",
              "236  Change Tariff  Administrasi Pemerintahan, Pertahanan Dan Jami...   \n",
              "\n",
              "         Tipe                       Layanan Bandwidth  Biaya_Sewa  \\\n",
              "216  Internet  Internet Broadband Corporate        50   552252.25   \n",
              "217  Internet  Internet Broadband Corporate        50        0.00   \n",
              "218  Internet  Internet Broadband Corporate       100  1800000.00   \n",
              "219  Internet  Internet Broadband Corporate        20   520000.00   \n",
              "236  Internet  Internet Broadband Corporate        50  2522522.52   \n",
              "\n",
              "    Kabupaten/Kota     Wilayah  \n",
              "216      Kabupaten  Banyuwangi  \n",
              "217      Kabupaten  Banyuwangi  \n",
              "218      Kabupaten      Blitar  \n",
              "219      Kabupaten      Gresik  \n",
              "236      Kabupaten      Gresik  "
            ]
          },
          "execution_count": 4,
          "metadata": {},
          "output_type": "execute_result"
        }
      ],
      "source": [
        "data6 = data5.drop(['Nomor', 'Segment','Cust Name', 'Address Terminating', 'SBU_Ter', 'AL_Status'], axis=1)\n",
        "data6.head()"
      ]
    },
    {
      "cell_type": "code",
      "execution_count": 5,
      "metadata": {
        "id": "fLkeNzhy-NFg"
      },
      "outputs": [
        {
          "data": {
            "text/plain": [
              "New              435\n",
              "Upgrade          115\n",
              "Change Tariff     48\n",
              "Downgrade         30\n",
              "Relocation        13\n",
              "Name: AR_Type, dtype: int64"
            ]
          },
          "execution_count": 5,
          "metadata": {},
          "output_type": "execute_result"
        }
      ],
      "source": [
        "data6['AR_Type'].value_counts()"
      ]
    },
    {
      "cell_type": "code",
      "execution_count": 6,
      "metadata": {
        "colab": {
          "base_uri": "https://localhost:8080/"
        },
        "id": "6_v3ijX0QRr5",
        "outputId": "1ff3f2dc-5945-44e4-9ab0-cd128f9707c0"
      },
      "outputs": [
        {
          "data": {
            "text/plain": [
              "Administrasi Pemerintahan, Pertahanan Dan Jaminan Sosial Wajib                 530\n",
              "Pendidikan                                                                      34\n",
              "Industri Pengolahan                                                             27\n",
              "Informasi dan Komunikasi                                                        16\n",
              "Aktivitas Kesehatan Manusia Dan Aktivitas Sosial                                 8\n",
              "Pengadaan Listrik, Gas, Uap/Air Panas Dan Udara Dingin                           7\n",
              "Perdagangan Besar Dan Eceran; Reparasi Dan Perawatan Mobil Dan Sepeda Motor      3\n",
              "Aktivitas Keuangan dan Asuransi                                                  3\n",
              "Kesenian, Hiburan, dan Rekreasi                                                  3\n",
              "Pertanian, Kehutanan dan Perikanan                                               3\n",
              "Real Estat                                                                       3\n",
              "Aktivitas Profesional, Ilmiah Dan Teknis                                         2\n",
              "Pengangkutan dan Pergudangan                                                     2\n",
              "Name: Bidang_Baku, dtype: int64"
            ]
          },
          "execution_count": 6,
          "metadata": {},
          "output_type": "execute_result"
        }
      ],
      "source": [
        "data6['Bidang_Baku'].value_counts()"
      ]
    },
    {
      "cell_type": "code",
      "execution_count": 7,
      "metadata": {
        "colab": {
          "base_uri": "https://localhost:8080/"
        },
        "id": "wZ4y5Fji_Fc7",
        "outputId": "6d568b09-ac73-435d-b462-074e10b64414"
      },
      "outputs": [
        {
          "data": {
            "text/plain": [
              "Internet    525\n",
              "Network     116\n",
              "Name: Tipe, dtype: int64"
            ]
          },
          "execution_count": 7,
          "metadata": {},
          "output_type": "execute_result"
        }
      ],
      "source": [
        "data6['Tipe'].value_counts()"
      ]
    },
    {
      "cell_type": "code",
      "execution_count": 8,
      "metadata": {
        "colab": {
          "base_uri": "https://localhost:8080/"
        },
        "id": "2kWO1Ia4_e7A",
        "outputId": "a3b3db4b-a16b-4e61-bc28-acd4d54815eb"
      },
      "outputs": [
        {
          "data": {
            "text/plain": [
              "Kota         397\n",
              "Kabupaten    244\n",
              "Name: Kabupaten/Kota, dtype: int64"
            ]
          },
          "execution_count": 8,
          "metadata": {},
          "output_type": "execute_result"
        }
      ],
      "source": [
        "data6['Kabupaten/Kota'].value_counts()"
      ]
    },
    {
      "cell_type": "code",
      "execution_count": 9,
      "metadata": {
        "colab": {
          "base_uri": "https://localhost:8080/"
        },
        "id": "uGitC9_KU7DE",
        "outputId": "a3b282c6-a9be-4d37-e700-ca1346bbe98f"
      },
      "outputs": [
        {
          "data": {
            "text/plain": [
              "Internet Broadband Corporate    367\n",
              "Internet Corporate              150\n",
              "Metronet                         98\n",
              "IP VPN                           18\n",
              "IP Transit                        6\n",
              "IP Transit IIX                    2\n",
              "Name: Layanan, dtype: int64"
            ]
          },
          "execution_count": 9,
          "metadata": {},
          "output_type": "execute_result"
        }
      ],
      "source": [
        "data6['Layanan'].value_counts()"
      ]
    },
    {
      "cell_type": "code",
      "execution_count": 10,
      "metadata": {
        "colab": {
          "base_uri": "https://localhost:8080/"
        },
        "id": "BGs5lvSWn6BF",
        "outputId": "da63080a-f23e-412b-dd0b-9c28f25a594d"
      },
      "outputs": [
        {
          "data": {
            "text/plain": [
              "20.000      299\n",
              "10.000       85\n",
              "50.000       77\n",
              "15.000       76\n",
              "100.000      36\n",
              "40.000       11\n",
              "30.000        8\n",
              "5.000         7\n",
              "1.000         7\n",
              "80.000        5\n",
              "200.000       4\n",
              "25.000        3\n",
              "60.000        3\n",
              "70.000        3\n",
              "150.000       2\n",
              "2.000         2\n",
              "1200.000      2\n",
              "28.000        1\n",
              "400.000       1\n",
              "0.512         1\n",
              "700.000       1\n",
              "55.000        1\n",
              "27.000        1\n",
              "170.000       1\n",
              "75.000        1\n",
              "1000.000      1\n",
              "35.000        1\n",
              "3.000         1\n",
              "Name: Bandwidth, dtype: int64"
            ]
          },
          "execution_count": 10,
          "metadata": {},
          "output_type": "execute_result"
        }
      ],
      "source": [
        "data6['Bandwidth'].value_counts()"
      ]
    },
    {
      "cell_type": "code",
      "execution_count": 11,
      "metadata": {
        "colab": {
          "base_uri": "https://localhost:8080/"
        },
        "id": "ZL4kInV34BUc",
        "outputId": "090064d7-d4dc-4031-9bcb-595e197316fa"
      },
      "outputs": [
        {
          "data": {
            "text/plain": [
              "Mojokerto      285\n",
              "Malang         119\n",
              "Bondowoso       56\n",
              "Gresik          40\n",
              "Tuban           32\n",
              "Surabaya        22\n",
              "Trenggalek      12\n",
              "Kediri          11\n",
              "Blitar           8\n",
              "Jember           7\n",
              "Tulungagung      6\n",
              "Pasuruan         6\n",
              "Sidoarjo         6\n",
              "Ponorogo         5\n",
              "Madiun           4\n",
              "Lamongan         3\n",
              "Banyuwangi       3\n",
              "Sumenep          3\n",
              "Pacitan          3\n",
              "Bojonegoro       2\n",
              "Batu             2\n",
              "Jombang          2\n",
              "Nganjuk          1\n",
              "Probolinggo      1\n",
              "Situbondo        1\n",
              "Pamekasan        1\n",
              "Name: Wilayah, dtype: int64"
            ]
          },
          "execution_count": 11,
          "metadata": {},
          "output_type": "execute_result"
        }
      ],
      "source": [
        "data6['Wilayah'].value_counts()"
      ]
    },
    {
      "cell_type": "markdown",
      "metadata": {
        "id": "mHxYPTuGNG9b"
      },
      "source": [
        "## **Preprocessing**"
      ]
    },
    {
      "cell_type": "code",
      "execution_count": 12,
      "metadata": {
        "colab": {
          "base_uri": "https://localhost:8080/"
        },
        "id": "yaDvHa81j3Fu",
        "outputId": "eb80e4ab-e0f5-4dc9-83dd-cb0cfb0fd23a"
      },
      "outputs": [
        {
          "name": "stdout",
          "output_type": "stream",
          "text": [
            "<class 'pandas.core.frame.DataFrame'>\n",
            "Int64Index: 641 entries, 216 to 1815\n",
            "Data columns (total 8 columns):\n",
            " #   Column          Non-Null Count  Dtype  \n",
            "---  ------          --------------  -----  \n",
            " 0   AR_Type         641 non-null    object \n",
            " 1   Bidang_Baku     641 non-null    object \n",
            " 2   Tipe            641 non-null    object \n",
            " 3   Layanan         641 non-null    object \n",
            " 4   Bandwidth       641 non-null    object \n",
            " 5   Biaya_Sewa      641 non-null    float64\n",
            " 6   Kabupaten/Kota  641 non-null    object \n",
            " 7   Wilayah         641 non-null    object \n",
            "dtypes: float64(1), object(7)\n",
            "memory usage: 45.1+ KB\n"
          ]
        }
      ],
      "source": [
        "data6.info() #informasi dataset"
      ]
    },
    {
      "cell_type": "code",
      "execution_count": 13,
      "metadata": {
        "colab": {
          "base_uri": "https://localhost:8080/"
        },
        "id": "DWoW9qyyMkHZ",
        "outputId": "386e9235-020a-4dc9-e718-426f290010f7"
      },
      "outputs": [
        {
          "data": {
            "text/plain": [
              "AR_Type           0\n",
              "Bidang_Baku       0\n",
              "Tipe              0\n",
              "Layanan           0\n",
              "Bandwidth         0\n",
              "Biaya_Sewa        0\n",
              "Kabupaten/Kota    0\n",
              "Wilayah           0\n",
              "dtype: int64"
            ]
          },
          "execution_count": 13,
          "metadata": {},
          "output_type": "execute_result"
        }
      ],
      "source": [
        "# Cek missing value\n",
        "data6.isnull().sum()"
      ]
    },
    {
      "cell_type": "code",
      "execution_count": 14,
      "metadata": {
        "colab": {
          "base_uri": "https://localhost:8080/",
          "height": 0
        },
        "id": "-4XELaJgpl_1",
        "outputId": "f9632e4d-d422-4e4d-91dc-5445f6b78f75"
      },
      "outputs": [
        {
          "name": "stdout",
          "output_type": "stream",
          "text": [
            "[[ 4.  0.  0.  3.  0.  0.]\n",
            " [ 2.  0.  0.  3.  0.  0.]\n",
            " [ 2.  7.  0.  3.  0.  2.]\n",
            " ...\n",
            " [ 4.  0.  1.  5.  0. 23.]\n",
            " [ 4.  5.  1.  5.  0. 24.]\n",
            " [ 3.  0.  1.  5.  0. 24.]]\n"
          ]
        }
      ],
      "source": [
        "# example of a ordinal encoding\n",
        "from numpy import asarray\n",
        "from sklearn.preprocessing import OrdinalEncoder\n",
        "# Select the columns for ordinal encoding\n",
        "data7 = data6\n",
        "\n",
        "# Define ordinal encoder\n",
        "encoder = OrdinalEncoder()\n",
        "\n",
        "# Perform ordinal encoding\n",
        "data7[[\"AR_Type\",\"Bidang_Baku\",\"Tipe\",\"Layanan\",\"Kabupaten/Kota\",\"Wilayah\"]] = encoder.fit_transform(data7[[\"AR_Type\",\"Bidang_Baku\",\"Tipe\",\"Layanan\",\"Kabupaten/Kota\",\"Wilayah\"]])\n",
        "\n",
        "# Print the encoded dataset\n",
        "print(encoder.fit_transform(data7[[\"AR_Type\",\"Bidang_Baku\",\"Tipe\",\"Layanan\",\"Kabupaten/Kota\",\"Wilayah\"]]))"
      ]
    },
    {
      "cell_type": "code",
      "execution_count": 15,
      "metadata": {
        "colab": {
          "base_uri": "https://localhost:8080/"
        },
        "id": "MOqd5FX-tcGv",
        "outputId": "cd777872-5825-4da0-cb7c-ee5558fb187f"
      },
      "outputs": [
        {
          "name": "stdout",
          "output_type": "stream",
          "text": [
            "<class 'pandas.core.frame.DataFrame'>\n",
            "Int64Index: 641 entries, 216 to 1815\n",
            "Data columns (total 8 columns):\n",
            " #   Column          Non-Null Count  Dtype  \n",
            "---  ------          --------------  -----  \n",
            " 0   AR_Type         641 non-null    float64\n",
            " 1   Bidang_Baku     641 non-null    float64\n",
            " 2   Tipe            641 non-null    float64\n",
            " 3   Layanan         641 non-null    float64\n",
            " 4   Bandwidth       641 non-null    object \n",
            " 5   Biaya_Sewa      641 non-null    float64\n",
            " 6   Kabupaten/Kota  641 non-null    float64\n",
            " 7   Wilayah         641 non-null    float64\n",
            "dtypes: float64(7), object(1)\n",
            "memory usage: 45.1+ KB\n"
          ]
        }
      ],
      "source": [
        "data7.info() #informasi dataset"
      ]
    },
    {
      "cell_type": "code",
      "execution_count": 16,
      "metadata": {
        "colab": {
          "base_uri": "https://localhost:8080/"
        },
        "id": "Qrkwz7DNuBWJ",
        "outputId": "fd1fe28f-119f-4ccf-f40d-fba5f2fe888d"
      },
      "outputs": [
        {
          "name": "stdout",
          "output_type": "stream",
          "text": [
            "<class 'pandas.core.frame.DataFrame'>\n",
            "Int64Index: 641 entries, 216 to 1815\n",
            "Data columns (total 8 columns):\n",
            " #   Column          Non-Null Count  Dtype  \n",
            "---  ------          --------------  -----  \n",
            " 0   AR_Type         641 non-null    int32  \n",
            " 1   Bidang_Baku     641 non-null    int32  \n",
            " 2   Tipe            641 non-null    int32  \n",
            " 3   Layanan         641 non-null    int32  \n",
            " 4   Bandwidth       641 non-null    float64\n",
            " 5   Biaya_Sewa      641 non-null    float64\n",
            " 6   Kabupaten/Kota  641 non-null    int32  \n",
            " 7   Wilayah         641 non-null    int32  \n",
            "dtypes: float64(2), int32(6)\n",
            "memory usage: 30.0 KB\n"
          ]
        }
      ],
      "source": [
        "# converting  from float to int\n",
        "data7[\"AR_Type\"] = data7[\"AR_Type\"].astype(int)\n",
        "data7[\"Bidang_Baku\"] = data7[\"Bidang_Baku\"].astype(int)\n",
        "data7[\"Tipe\"] = data7[\"Tipe\"].astype(int)\n",
        "data7[\"Layanan\"] = data7[\"Layanan\"].astype(int)\n",
        "data7[\"Bandwidth\"] = data7[\"AR_Type\"].astype(float)\n",
        "data7[\"Kabupaten/Kota\"] = data7[\"Kabupaten/Kota\"].astype(int)\n",
        "data7[\"Wilayah\"] = data7[\"Wilayah\"].astype(int)\n",
        "\n",
        "data7.info() #informasi dataset"
      ]
    },
    {
      "cell_type": "markdown",
      "metadata": {
        "id": "gp3DRNPEPxrl"
      },
      "source": [
        "# **Exploratory Data Analysis (EDA)**"
      ]
    },
    {
      "cell_type": "markdown",
      "metadata": {
        "id": "8AE9bPm6PJc3"
      },
      "source": [
        "## **Descriptive Analysis**"
      ]
    },
    {
      "cell_type": "code",
      "execution_count": 17,
      "metadata": {
        "colab": {
          "base_uri": "https://localhost:8080/"
        },
        "id": "dTz8EFgKPJc4",
        "outputId": "8b8b1abe-03c7-4b21-9e54-254252a624e5"
      },
      "outputs": [
        {
          "name": "stdout",
          "output_type": "stream",
          "text": [
            "          AR_Type  Bidang_Baku        Tipe     Layanan   Bandwidth  \\\n",
            "count  641.000000   641.000000  641.000000  641.000000  641.000000   \n",
            "mean     2.182527     0.993760    0.180967    3.477379    2.182527   \n",
            "std      1.025948     2.409608    0.385292    0.862339    1.025948   \n",
            "min      0.000000     0.000000    0.000000    0.000000    0.000000   \n",
            "25%      2.000000     0.000000    0.000000    3.000000    2.000000   \n",
            "50%      2.000000     0.000000    0.000000    3.000000    2.000000   \n",
            "75%      2.000000     0.000000    0.000000    4.000000    2.000000   \n",
            "max      4.000000    12.000000    1.000000    5.000000    4.000000   \n",
            "\n",
            "         Biaya_Sewa  Kabupaten/Kota     Wilayah  \n",
            "count  6.410000e+02      641.000000  641.000000  \n",
            "mean   2.157327e+06        0.619345   11.750390  \n",
            "std    5.980578e+06        0.485927    5.293578  \n",
            "min    0.000000e+00        0.000000    0.000000  \n",
            "25%    2.972973e+05        0.000000   11.000000  \n",
            "50%    8.000000e+05        1.000000   12.000000  \n",
            "75%    1.773874e+06        1.000000   12.000000  \n",
            "max    8.167568e+07        1.000000   25.000000  \n"
          ]
        }
      ],
      "source": [
        "# Summary statistics\n",
        "summary_stats = data7.describe()\n",
        "print(summary_stats)"
      ]
    },
    {
      "cell_type": "markdown",
      "metadata": {
        "id": "XbjcijTIPJlg"
      },
      "source": [
        "## **Plot Histogram**"
      ]
    },
    {
      "cell_type": "code",
      "execution_count": 18,
      "metadata": {
        "colab": {
          "base_uri": "https://localhost:8080/",
          "height": 455
        },
        "id": "xtI-cTC-ypX2",
        "outputId": "22ac4e9a-1002-4e03-f2c7-72d27a32c232"
      },
      "outputs": [
        {
          "data": {
            "image/png": "[encoded data removed]",
            "text/plain": [
              "<Figure size 640x480 with 1 Axes>"
            ]
          },
          "metadata": {},
          "output_type": "display_data"
        }
      ],
      "source": [
        "# Density plot\n",
        "fig, ax = plt.subplots()\n",
        "\n",
        "sns.kdeplot(data7[data7[\"AR_Type\"]==\"Change Tariff\"][\"Biaya_Sewa\"], fill=True, color=\"blue\", label=\"Change Tariff\", ax=ax)\n",
        "sns.kdeplot(data7[data7[\"AR_Type\"]==\"Downgrade\"][\"Biaya_Sewa\"], fill=True, color=\"green\", label=\"Downgrade\", ax=ax)\n",
        "sns.kdeplot(data7[data7[\"AR_Type\"]==\"New\"][\"Biaya_Sewa\"], fill=True, color=\"red\", label=\"New\", ax=ax)\n",
        "sns.kdeplot(data7[data7[\"AR_Type\"]==\"Relocation\"][\"Biaya_Sewa\"], fill=True, color=\"yellow\", label=\"Relocation\", ax=ax)\n",
        "sns.kdeplot(data7[data7[\"AR_Type\"]==\"Upgrade\"][\"Biaya_Sewa\"], fill=True, color=\"pink\", label=\"Upgrade\", ax=ax)\n",
        "sns.kdeplot(data7[data7[\"AR_Type\"]==\"Trial\"][\"Biaya_Sewa\"], fill=True, color=\"purple\", label=\"Trial\", ax=ax)\n",
        "\n",
        "ax.set_xlabel(\"Biaya_Sewa\")\n",
        "ax.set_ylabel(\"Density\")\n",
        "\n",
        "plt.show()"
      ]
    },
    {
      "cell_type": "code",
      "execution_count": 19,
      "metadata": {
        "colab": {
          "base_uri": "https://localhost:8080/",
          "height": 472
        },
        "id": "Vv_VCIWfw8-4",
        "outputId": "89558554-6761-4964-c43d-f9f46eeeb4cc"
      },
      "outputs": [
        {
          "data": {
            "image/png": "[encoded data removed]",
            "text/plain": [
              "<Figure size 640x480 with 1 Axes>"
            ]
          },
          "metadata": {},
          "output_type": "display_data"
        }
      ],
      "source": [
        "# Histogram of a Biaya_Sewa\n",
        "plt.hist(data6['Biaya_Sewa'], bins=10)\n",
        "plt.xlabel('Biaya_Sewa')\n",
        "plt.ylabel('Frequency')\n",
        "plt.title('Histogram of Biaya_Sewa')\n",
        "plt.show()"
      ]
    },
    {
      "cell_type": "code",
      "execution_count": 20,
      "metadata": {
        "colab": {
          "base_uri": "https://localhost:8080/",
          "height": 1000
        },
        "id": "HUs6Yio0xFa0",
        "outputId": "82f160b7-1234-437b-ee3e-20b556cd825f"
      },
      "outputs": [
        {
          "data": {
            "image/png": "[encoded data removed]",
            "text/plain": [
              "<Figure size 800x3600 with 6 Axes>"
            ]
          },
          "metadata": {},
          "output_type": "display_data"
        }
      ],
      "source": [
        "# Select the categorical variables\n",
        "categorical_vars = ['AR_Type', 'Bidang_Baku', 'Layanan', 'Bandwidth', 'Kabupaten/Kota', 'Wilayah']\n",
        "\n",
        "# Create subplots for each categorical variable\n",
        "fig, axes = plt.subplots(len(categorical_vars), 1, figsize=(8, 6 * len(categorical_vars)))\n",
        "for i, var in enumerate(categorical_vars):\n",
        "    sns.countplot(x=var, data=data7, ax=axes[i])\n",
        "    axes[i].set_xlabel(var)\n",
        "    axes[i].set_ylabel('Count')\n",
        "    axes[i].set_title(f'Distribution of {var}')\n",
        "    axes[i].tick_params(axis='x', rotation=45)\n",
        "\n",
        "plt.tight_layout()\n",
        "plt.show()"
      ]
    },
    {
      "cell_type": "code",
      "execution_count": 21,
      "metadata": {
        "colab": {
          "base_uri": "https://localhost:8080/",
          "height": 653
        },
        "id": "FoynYosu_Vho",
        "outputId": "578bb149-a0c7-4109-df5f-2cf3abd4e4cd"
      },
      "outputs": [],
      "source": [
        "# # Grouped bar chart\n",
        "# fig, ax = plt.subplots()\n",
        "\n",
        "# sns.catplot(\"Layanan\", hue=\"AR_Type\", data=data7, kind=\"object\", ax=ax)\n",
        "\n",
        "# plt.close(2) # catplot creates an extra figure we don't need\n",
        "\n",
        "# ax.legend(title=\"Passenger Class\")\n",
        "# #ax.set_xticklabels([\"did not survive\", \"survived\"])\n",
        "# ax.set_xlabel(\"\")\n",
        "\n",
        "# fig.suptitle(\"Layanan vs. AR Type\");"
      ]
    },
    {
      "cell_type": "code",
      "execution_count": 22,
      "metadata": {
        "colab": {
          "base_uri": "https://localhost:8080/",
          "height": 549
        },
        "id": "t7QhZgLHxIXK",
        "outputId": "1edeb6ea-91a8-4e24-d43a-596bf00d7cb6"
      },
      "outputs": [
        {
          "data": {
            "image/png": "[encoded data removed]",
            "text/plain": [
              "<Figure size 640x480 with 2 Axes>"
            ]
          },
          "metadata": {},
          "output_type": "display_data"
        }
      ],
      "source": [
        "# Correlation matrix\n",
        "correlation_matrix = data7.corr()\n",
        "sns.heatmap(correlation_matrix, annot=True, cmap='coolwarm')\n",
        "plt.title('Correlation Matrix')\n",
        "plt.show()"
      ]
    },
    {
      "cell_type": "code",
      "execution_count": 23,
      "metadata": {
        "colab": {
          "base_uri": "https://localhost:8080/",
          "height": 472
        },
        "id": "ZDh6rmpsxLxy",
        "outputId": "91387579-7b1d-4e8f-81a9-0b34e2280e42"
      },
      "outputs": [
        {
          "data": {
            "image/png": "[encoded data removed]",
            "text/plain": [
              "<Figure size 640x480 with 1 Axes>"
            ]
          },
          "metadata": {},
          "output_type": "display_data"
        }
      ],
      "source": [
        "# Box plot of a Biaya_Sewa with potential outliers\n",
        "sns.boxplot(x='Biaya_Sewa', data=data)\n",
        "plt.xlabel('Biaya_Sewa')\n",
        "plt.title('Box Plot of Biaya_Sewa')\n",
        "plt.show()"
      ]
    },
    {
      "cell_type": "markdown",
      "metadata": {
        "id": "y277Ng-bQHdQ"
      },
      "source": [
        "## **Check Outliers**"
      ]
    },
    {
      "cell_type": "code",
      "execution_count": 24,
      "metadata": {
        "colab": {
          "base_uri": "https://localhost:8080/"
        },
        "id": "0_aGInBGEMIe",
        "outputId": "90e1ce9b-7fc9-4c23-8fee-271559864548"
      },
      "outputs": [
        {
          "name": "stdout",
          "output_type": "stream",
          "text": [
            "<class 'pandas.core.frame.DataFrame'>\n",
            "Int64Index: 641 entries, 216 to 1815\n",
            "Data columns (total 8 columns):\n",
            " #   Column          Non-Null Count  Dtype  \n",
            "---  ------          --------------  -----  \n",
            " 0   AR_Type         641 non-null    int32  \n",
            " 1   Bidang_Baku     641 non-null    int32  \n",
            " 2   Tipe            641 non-null    int32  \n",
            " 3   Layanan         641 non-null    int32  \n",
            " 4   Bandwidth       641 non-null    float64\n",
            " 5   Biaya_Sewa      641 non-null    float64\n",
            " 6   Kabupaten/Kota  641 non-null    int32  \n",
            " 7   Wilayah         641 non-null    int32  \n",
            "dtypes: float64(2), int32(6)\n",
            "memory usage: 30.0 KB\n",
            "None\n"
          ]
        }
      ],
      "source": [
        "# Fill NaN values with 0\n",
        "data7 = data7.fillna(0)\n",
        "\n",
        "# Check the updated dataset\n",
        "print(data7.info())"
      ]
    },
    {
      "cell_type": "code",
      "execution_count": 25,
      "metadata": {
        "colab": {
          "base_uri": "https://localhost:8080/"
        },
        "id": "VM7yHKqyQHdR",
        "outputId": "4f64591b-dd99-4df8-8332-7727660e5e78"
      },
      "outputs": [
        {
          "name": "stdout",
          "output_type": "stream",
          "text": [
            "Outliers:\n",
            "      AR_Type  Bidang_Baku  Tipe  Layanan  Bandwidth   Biaya_Sewa  \\\n",
            "280         4           10     0        3        4.0    575000.00   \n",
            "1286        2           11     0        4        2.0   7000000.00   \n",
            "1292        2           12     0        4        2.0   6000000.00   \n",
            "1325        4           11     0        4        4.0   4500000.00   \n",
            "1335        2           11     0        4        2.0   6500000.00   \n",
            "1341        4            9     0        4        4.0  13000000.00   \n",
            "1427        3           12     0        4        3.0   4800000.00   \n",
            "1447        2           12     0        4        2.0         0.00   \n",
            "1460        2            9     0        4        2.0   8000000.00   \n",
            "1485        4           10     1        2        4.0   1650000.00   \n",
            "1755        4           10     1        5        4.0  12000000.00   \n",
            "1475        0            0     0        0        0.0  48830630.60   \n",
            "1476        1            0     0        0        1.0   8500000.00   \n",
            "1477        4            4     0        0        4.0   7500000.00   \n",
            "1478        1            0     0        0        1.0  17117117.12   \n",
            "1479        2            0     0        0        2.0  81675675.68   \n",
            "1480        0            0     0        0        0.0   7750000.00   \n",
            "1288        4            8     0        4        4.0  23000000.00   \n",
            "1321        0            7     0        4        0.0  54016216.00   \n",
            "1448        2            0     0        4        2.0  81675675.68   \n",
            "1475        0            0     0        0        0.0  48830630.60   \n",
            "1479        2            0     0        0        2.0  81675675.68   \n",
            "\n",
            "      Kabupaten/Kota  Wilayah  \n",
            "280                0       10  \n",
            "1286               0        3  \n",
            "1292               1        1  \n",
            "1325               0        7  \n",
            "1335               0        8  \n",
            "1341               0        9  \n",
            "1427               1       11  \n",
            "1447               0       16  \n",
            "1460               1       22  \n",
            "1485               0        8  \n",
            "1755               1       22  \n",
            "1475               0        3  \n",
            "1476               0        6  \n",
            "1477               1       10  \n",
            "1478               0       14  \n",
            "1479               0       17  \n",
            "1480               1       22  \n",
            "1288               0        0  \n",
            "1321               0        6  \n",
            "1448               0       17  \n",
            "1475               0        3  \n",
            "1479               0       17  \n"
          ]
        }
      ],
      "source": [
        "import pandas as pd\n",
        "import numpy as np\n",
        "from scipy import stats\n",
        "\n",
        "# Select the numerical variables for outlier detection\n",
        "numerical_vars = ['AR_Type', 'Bidang_Baku', 'Layanan', 'Bandwidth', 'Biaya_Sewa', 'Kabupaten/Kota', 'Wilayah']\n",
        "\n",
        "# Detect outliers using z-score method\n",
        "outliers = []\n",
        "for var in numerical_vars:\n",
        "    z_scores = stats.zscore(data7[var])\n",
        "    threshold = 3  # Adjust this threshold as needed\n",
        "    var_outliers = data7[np.abs(z_scores) > threshold]\n",
        "    outliers.append(var_outliers)\n",
        "\n",
        "# Concatenate the outliers for all variables\n",
        "outliers = pd.concat(outliers)\n",
        "\n",
        "# Print the outliers\n",
        "print(\"Outliers:\")\n",
        "print(outliers)"
      ]
    },
    {
      "cell_type": "markdown",
      "metadata": {
        "id": "IeSOKp8KQHdS"
      },
      "source": [
        "## **Chi-Square Tests**"
      ]
    },
    {
      "cell_type": "code",
      "execution_count": 26,
      "metadata": {
        "colab": {
          "base_uri": "https://localhost:8080/"
        },
        "id": "4vwngmuIQHdT",
        "outputId": "2afda3f5-0c2a-4a48-f2e1-0ff9765344f4"
      },
      "outputs": [
        {
          "data": {
            "text/plain": [
              "Index(['AR_Type', 'Bidang_Baku', 'Tipe', 'Layanan', 'Bandwidth', 'Biaya_Sewa',\n",
              "       'Kabupaten/Kota', 'Wilayah'],\n",
              "      dtype='object')"
            ]
          },
          "execution_count": 26,
          "metadata": {},
          "output_type": "execute_result"
        }
      ],
      "source": [
        "data7.columns"
      ]
    },
    {
      "cell_type": "markdown",
      "metadata": {
        "id": "PGuFXOK3vQH5"
      },
      "source": [
        "**AR_Type**"
      ]
    },
    {
      "cell_type": "code",
      "execution_count": 27,
      "metadata": {
        "colab": {
          "base_uri": "https://localhost:8080/",
          "height": 237
        },
        "id": "7NMbi48ZnWzH",
        "outputId": "df8226fb-e1ff-4797-8fdf-c598eb1764a3"
      },
      "outputs": [
        {
          "data": {
            "text/html": [
              "<div>\n",
              "<style scoped>\n",
              "    .dataframe tbody tr th:only-of-type {\n",
              "        vertical-align: middle;\n",
              "    }\n",
              "\n",
              "    .dataframe tbody tr th {\n",
              "        vertical-align: top;\n",
              "    }\n",
              "\n",
              "    .dataframe thead th {\n",
              "        text-align: right;\n",
              "    }\n",
              "</style>\n",
              "<table border=\"1\" class=\"dataframe\">\n",
              "  <thead>\n",
              "    <tr style=\"text-align: right;\">\n",
              "      <th>Layanan</th>\n",
              "      <th>0</th>\n",
              "      <th>1</th>\n",
              "      <th>2</th>\n",
              "      <th>3</th>\n",
              "      <th>4</th>\n",
              "      <th>5</th>\n",
              "    </tr>\n",
              "    <tr>\n",
              "      <th>AR_Type</th>\n",
              "      <th></th>\n",
              "      <th></th>\n",
              "      <th></th>\n",
              "      <th></th>\n",
              "      <th></th>\n",
              "      <th></th>\n",
              "    </tr>\n",
              "  </thead>\n",
              "  <tbody>\n",
              "    <tr>\n",
              "      <th>0</th>\n",
              "      <td>2</td>\n",
              "      <td>0</td>\n",
              "      <td>5</td>\n",
              "      <td>31</td>\n",
              "      <td>5</td>\n",
              "      <td>5</td>\n",
              "    </tr>\n",
              "    <tr>\n",
              "      <th>1</th>\n",
              "      <td>2</td>\n",
              "      <td>1</td>\n",
              "      <td>0</td>\n",
              "      <td>1</td>\n",
              "      <td>11</td>\n",
              "      <td>15</td>\n",
              "    </tr>\n",
              "    <tr>\n",
              "      <th>2</th>\n",
              "      <td>1</td>\n",
              "      <td>1</td>\n",
              "      <td>4</td>\n",
              "      <td>326</td>\n",
              "      <td>98</td>\n",
              "      <td>5</td>\n",
              "    </tr>\n",
              "    <tr>\n",
              "      <th>3</th>\n",
              "      <td>0</td>\n",
              "      <td>0</td>\n",
              "      <td>2</td>\n",
              "      <td>2</td>\n",
              "      <td>4</td>\n",
              "      <td>5</td>\n",
              "    </tr>\n",
              "    <tr>\n",
              "      <th>4</th>\n",
              "      <td>1</td>\n",
              "      <td>0</td>\n",
              "      <td>7</td>\n",
              "      <td>7</td>\n",
              "      <td>32</td>\n",
              "      <td>68</td>\n",
              "    </tr>\n",
              "  </tbody>\n",
              "</table>\n",
              "</div>"
            ],
            "text/plain": [
              "Layanan  0  1  2    3   4   5\n",
              "AR_Type                      \n",
              "0        2  0  5   31   5   5\n",
              "1        2  1  0    1  11  15\n",
              "2        1  1  4  326  98   5\n",
              "3        0  0  2    2   4   5\n",
              "4        1  0  7    7  32  68"
            ]
          },
          "execution_count": 27,
          "metadata": {},
          "output_type": "execute_result"
        }
      ],
      "source": [
        "cross_tab1 = pd.crosstab(data7['AR_Type'], data7['Layanan'])\n",
        "cross_tab1"
      ]
    },
    {
      "cell_type": "code",
      "execution_count": 28,
      "metadata": {
        "colab": {
          "base_uri": "https://localhost:8080/"
        },
        "id": "NM9XPjdfntfF",
        "outputId": "20b52522-30b4-429e-9634-e4eb7c62b55c"
      },
      "outputs": [
        {
          "name": "stdout",
          "output_type": "stream",
          "text": [
            "chi-squared = 389.2874390824918\n",
            "p-value= 3.3974665001115605e-70\n",
            "degrees of freedom = 20\n"
          ]
        }
      ],
      "source": [
        "chi_sq, p_val, dof, con_table = stats.chi2_contingency(cross_tab1)\n",
        "print(f'chi-squared = {chi_sq}')\n",
        "print(f'p-value= {p_val}')\n",
        "print(f'degrees of freedom = {dof}')"
      ]
    },
    {
      "cell_type": "markdown",
      "metadata": {
        "id": "77GaQquovbQh"
      },
      "source": [
        "**Bidang Baku**"
      ]
    },
    {
      "cell_type": "code",
      "execution_count": 29,
      "metadata": {
        "colab": {
          "base_uri": "https://localhost:8080/",
          "height": 488
        },
        "id": "uBkHNutXvbQj",
        "outputId": "78607697-ba1d-48ea-8e41-cf934f210902"
      },
      "outputs": [
        {
          "data": {
            "text/html": [
              "<div>\n",
              "<style scoped>\n",
              "    .dataframe tbody tr th:only-of-type {\n",
              "        vertical-align: middle;\n",
              "    }\n",
              "\n",
              "    .dataframe tbody tr th {\n",
              "        vertical-align: top;\n",
              "    }\n",
              "\n",
              "    .dataframe thead th {\n",
              "        text-align: right;\n",
              "    }\n",
              "</style>\n",
              "<table border=\"1\" class=\"dataframe\">\n",
              "  <thead>\n",
              "    <tr style=\"text-align: right;\">\n",
              "      <th>Layanan</th>\n",
              "      <th>0</th>\n",
              "      <th>1</th>\n",
              "      <th>2</th>\n",
              "      <th>3</th>\n",
              "      <th>4</th>\n",
              "      <th>5</th>\n",
              "    </tr>\n",
              "    <tr>\n",
              "      <th>Bidang_Baku</th>\n",
              "      <th></th>\n",
              "      <th></th>\n",
              "      <th></th>\n",
              "      <th></th>\n",
              "      <th></th>\n",
              "      <th></th>\n",
              "    </tr>\n",
              "  </thead>\n",
              "  <tbody>\n",
              "    <tr>\n",
              "      <th>0</th>\n",
              "      <td>5</td>\n",
              "      <td>2</td>\n",
              "      <td>9</td>\n",
              "      <td>340</td>\n",
              "      <td>93</td>\n",
              "      <td>81</td>\n",
              "    </tr>\n",
              "    <tr>\n",
              "      <th>1</th>\n",
              "      <td>0</td>\n",
              "      <td>0</td>\n",
              "      <td>1</td>\n",
              "      <td>1</td>\n",
              "      <td>5</td>\n",
              "      <td>1</td>\n",
              "    </tr>\n",
              "    <tr>\n",
              "      <th>2</th>\n",
              "      <td>0</td>\n",
              "      <td>0</td>\n",
              "      <td>0</td>\n",
              "      <td>2</td>\n",
              "      <td>1</td>\n",
              "      <td>0</td>\n",
              "    </tr>\n",
              "    <tr>\n",
              "      <th>3</th>\n",
              "      <td>0</td>\n",
              "      <td>0</td>\n",
              "      <td>0</td>\n",
              "      <td>1</td>\n",
              "      <td>1</td>\n",
              "      <td>0</td>\n",
              "    </tr>\n",
              "    <tr>\n",
              "      <th>4</th>\n",
              "      <td>1</td>\n",
              "      <td>0</td>\n",
              "      <td>0</td>\n",
              "      <td>2</td>\n",
              "      <td>13</td>\n",
              "      <td>11</td>\n",
              "    </tr>\n",
              "    <tr>\n",
              "      <th>5</th>\n",
              "      <td>0</td>\n",
              "      <td>0</td>\n",
              "      <td>7</td>\n",
              "      <td>0</td>\n",
              "      <td>5</td>\n",
              "      <td>4</td>\n",
              "    </tr>\n",
              "    <tr>\n",
              "      <th>6</th>\n",
              "      <td>0</td>\n",
              "      <td>0</td>\n",
              "      <td>0</td>\n",
              "      <td>2</td>\n",
              "      <td>1</td>\n",
              "      <td>0</td>\n",
              "    </tr>\n",
              "    <tr>\n",
              "      <th>7</th>\n",
              "      <td>0</td>\n",
              "      <td>0</td>\n",
              "      <td>0</td>\n",
              "      <td>15</td>\n",
              "      <td>19</td>\n",
              "      <td>0</td>\n",
              "    </tr>\n",
              "    <tr>\n",
              "      <th>8</th>\n",
              "      <td>0</td>\n",
              "      <td>0</td>\n",
              "      <td>0</td>\n",
              "      <td>3</td>\n",
              "      <td>4</td>\n",
              "      <td>0</td>\n",
              "    </tr>\n",
              "    <tr>\n",
              "      <th>9</th>\n",
              "      <td>0</td>\n",
              "      <td>0</td>\n",
              "      <td>0</td>\n",
              "      <td>0</td>\n",
              "      <td>2</td>\n",
              "      <td>0</td>\n",
              "    </tr>\n",
              "    <tr>\n",
              "      <th>10</th>\n",
              "      <td>0</td>\n",
              "      <td>0</td>\n",
              "      <td>1</td>\n",
              "      <td>1</td>\n",
              "      <td>0</td>\n",
              "      <td>1</td>\n",
              "    </tr>\n",
              "    <tr>\n",
              "      <th>11</th>\n",
              "      <td>0</td>\n",
              "      <td>0</td>\n",
              "      <td>0</td>\n",
              "      <td>0</td>\n",
              "      <td>3</td>\n",
              "      <td>0</td>\n",
              "    </tr>\n",
              "    <tr>\n",
              "      <th>12</th>\n",
              "      <td>0</td>\n",
              "      <td>0</td>\n",
              "      <td>0</td>\n",
              "      <td>0</td>\n",
              "      <td>3</td>\n",
              "      <td>0</td>\n",
              "    </tr>\n",
              "  </tbody>\n",
              "</table>\n",
              "</div>"
            ],
            "text/plain": [
              "Layanan      0  1  2    3   4   5\n",
              "Bidang_Baku                      \n",
              "0            5  2  9  340  93  81\n",
              "1            0  0  1    1   5   1\n",
              "2            0  0  0    2   1   0\n",
              "3            0  0  0    1   1   0\n",
              "4            1  0  0    2  13  11\n",
              "5            0  0  7    0   5   4\n",
              "6            0  0  0    2   1   0\n",
              "7            0  0  0   15  19   0\n",
              "8            0  0  0    3   4   0\n",
              "9            0  0  0    0   2   0\n",
              "10           0  0  1    1   0   1\n",
              "11           0  0  0    0   3   0\n",
              "12           0  0  0    0   3   0"
            ]
          },
          "execution_count": 29,
          "metadata": {},
          "output_type": "execute_result"
        }
      ],
      "source": [
        "cross_tab2 = pd.crosstab(data7['Bidang_Baku'], data7['Layanan'])\n",
        "cross_tab2"
      ]
    },
    {
      "cell_type": "code",
      "execution_count": 30,
      "metadata": {
        "colab": {
          "base_uri": "https://localhost:8080/"
        },
        "id": "PNoJ_7OyvbQk",
        "outputId": "e65c993a-b896-4e4d-a195-5c21c877b2af"
      },
      "outputs": [
        {
          "name": "stdout",
          "output_type": "stream",
          "text": [
            "chi-squared = 233.2368556282867\n",
            "p-value= 2.921132370029113e-22\n",
            "degrees of freedom = 60\n"
          ]
        }
      ],
      "source": [
        "chi_sq, p_val, dof, con_table = stats.chi2_contingency(cross_tab2)\n",
        "print(f'chi-squared = {chi_sq}')\n",
        "print(f'p-value= {p_val}')\n",
        "print(f'degrees of freedom = {dof}')"
      ]
    },
    {
      "cell_type": "markdown",
      "metadata": {
        "id": "RUjPH34Vvcow"
      },
      "source": [
        "**Tipe**"
      ]
    },
    {
      "cell_type": "code",
      "execution_count": 31,
      "metadata": {
        "colab": {
          "base_uri": "https://localhost:8080/",
          "height": 143
        },
        "id": "Z4Sy22RBvcpa",
        "outputId": "1211434d-12be-4bca-acd7-b4773bfe6ca3"
      },
      "outputs": [
        {
          "data": {
            "text/html": [
              "<div>\n",
              "<style scoped>\n",
              "    .dataframe tbody tr th:only-of-type {\n",
              "        vertical-align: middle;\n",
              "    }\n",
              "\n",
              "    .dataframe tbody tr th {\n",
              "        vertical-align: top;\n",
              "    }\n",
              "\n",
              "    .dataframe thead th {\n",
              "        text-align: right;\n",
              "    }\n",
              "</style>\n",
              "<table border=\"1\" class=\"dataframe\">\n",
              "  <thead>\n",
              "    <tr style=\"text-align: right;\">\n",
              "      <th>Layanan</th>\n",
              "      <th>0</th>\n",
              "      <th>1</th>\n",
              "      <th>2</th>\n",
              "      <th>3</th>\n",
              "      <th>4</th>\n",
              "      <th>5</th>\n",
              "    </tr>\n",
              "    <tr>\n",
              "      <th>Tipe</th>\n",
              "      <th></th>\n",
              "      <th></th>\n",
              "      <th></th>\n",
              "      <th></th>\n",
              "      <th></th>\n",
              "      <th></th>\n",
              "    </tr>\n",
              "  </thead>\n",
              "  <tbody>\n",
              "    <tr>\n",
              "      <th>0</th>\n",
              "      <td>6</td>\n",
              "      <td>2</td>\n",
              "      <td>0</td>\n",
              "      <td>367</td>\n",
              "      <td>150</td>\n",
              "      <td>0</td>\n",
              "    </tr>\n",
              "    <tr>\n",
              "      <th>1</th>\n",
              "      <td>0</td>\n",
              "      <td>0</td>\n",
              "      <td>18</td>\n",
              "      <td>0</td>\n",
              "      <td>0</td>\n",
              "      <td>98</td>\n",
              "    </tr>\n",
              "  </tbody>\n",
              "</table>\n",
              "</div>"
            ],
            "text/plain": [
              "Layanan  0  1   2    3    4   5\n",
              "Tipe                           \n",
              "0        6  2   0  367  150   0\n",
              "1        0  0  18    0    0  98"
            ]
          },
          "execution_count": 31,
          "metadata": {},
          "output_type": "execute_result"
        }
      ],
      "source": [
        "cross_tab2 = pd.crosstab(data7['Tipe'], data7['Layanan'])\n",
        "cross_tab2"
      ]
    },
    {
      "cell_type": "code",
      "execution_count": 32,
      "metadata": {
        "colab": {
          "base_uri": "https://localhost:8080/"
        },
        "id": "71eXwMDPvcpa",
        "outputId": "533b20eb-0853-4f22-8e18-be9c08efb8a8"
      },
      "outputs": [
        {
          "name": "stdout",
          "output_type": "stream",
          "text": [
            "chi-squared = 641.0\n",
            "p-value= 2.790971425743413e-136\n",
            "degrees of freedom = 5\n"
          ]
        }
      ],
      "source": [
        "chi_sq, p_val, dof, con_table = stats.chi2_contingency(cross_tab2)\n",
        "print(f'chi-squared = {chi_sq}')\n",
        "print(f'p-value= {p_val}')\n",
        "print(f'degrees of freedom = {dof}')"
      ]
    },
    {
      "cell_type": "markdown",
      "metadata": {
        "id": "mpGa2MPevc5a"
      },
      "source": [
        "**Bandwidth**"
      ]
    },
    {
      "cell_type": "code",
      "execution_count": 33,
      "metadata": {
        "colab": {
          "base_uri": "https://localhost:8080/",
          "height": 237
        },
        "id": "dhA-BNfovc5b",
        "outputId": "c3ea2f7c-6687-4cf6-bb0e-84251c237cb4"
      },
      "outputs": [
        {
          "data": {
            "text/html": [
              "<div>\n",
              "<style scoped>\n",
              "    .dataframe tbody tr th:only-of-type {\n",
              "        vertical-align: middle;\n",
              "    }\n",
              "\n",
              "    .dataframe tbody tr th {\n",
              "        vertical-align: top;\n",
              "    }\n",
              "\n",
              "    .dataframe thead th {\n",
              "        text-align: right;\n",
              "    }\n",
              "</style>\n",
              "<table border=\"1\" class=\"dataframe\">\n",
              "  <thead>\n",
              "    <tr style=\"text-align: right;\">\n",
              "      <th>Layanan</th>\n",
              "      <th>0</th>\n",
              "      <th>1</th>\n",
              "      <th>2</th>\n",
              "      <th>3</th>\n",
              "      <th>4</th>\n",
              "      <th>5</th>\n",
              "    </tr>\n",
              "    <tr>\n",
              "      <th>Bandwidth</th>\n",
              "      <th></th>\n",
              "      <th></th>\n",
              "      <th></th>\n",
              "      <th></th>\n",
              "      <th></th>\n",
              "      <th></th>\n",
              "    </tr>\n",
              "  </thead>\n",
              "  <tbody>\n",
              "    <tr>\n",
              "      <th>0.0</th>\n",
              "      <td>2</td>\n",
              "      <td>0</td>\n",
              "      <td>5</td>\n",
              "      <td>31</td>\n",
              "      <td>5</td>\n",
              "      <td>5</td>\n",
              "    </tr>\n",
              "    <tr>\n",
              "      <th>1.0</th>\n",
              "      <td>2</td>\n",
              "      <td>1</td>\n",
              "      <td>0</td>\n",
              "      <td>1</td>\n",
              "      <td>11</td>\n",
              "      <td>15</td>\n",
              "    </tr>\n",
              "    <tr>\n",
              "      <th>2.0</th>\n",
              "      <td>1</td>\n",
              "      <td>1</td>\n",
              "      <td>4</td>\n",
              "      <td>326</td>\n",
              "      <td>98</td>\n",
              "      <td>5</td>\n",
              "    </tr>\n",
              "    <tr>\n",
              "      <th>3.0</th>\n",
              "      <td>0</td>\n",
              "      <td>0</td>\n",
              "      <td>2</td>\n",
              "      <td>2</td>\n",
              "      <td>4</td>\n",
              "      <td>5</td>\n",
              "    </tr>\n",
              "    <tr>\n",
              "      <th>4.0</th>\n",
              "      <td>1</td>\n",
              "      <td>0</td>\n",
              "      <td>7</td>\n",
              "      <td>7</td>\n",
              "      <td>32</td>\n",
              "      <td>68</td>\n",
              "    </tr>\n",
              "  </tbody>\n",
              "</table>\n",
              "</div>"
            ],
            "text/plain": [
              "Layanan    0  1  2    3   4   5\n",
              "Bandwidth                      \n",
              "0.0        2  0  5   31   5   5\n",
              "1.0        2  1  0    1  11  15\n",
              "2.0        1  1  4  326  98   5\n",
              "3.0        0  0  2    2   4   5\n",
              "4.0        1  0  7    7  32  68"
            ]
          },
          "execution_count": 33,
          "metadata": {},
          "output_type": "execute_result"
        }
      ],
      "source": [
        "cross_tab3 = pd.crosstab(data7['Bandwidth'], data7['Layanan'])\n",
        "cross_tab3"
      ]
    },
    {
      "cell_type": "code",
      "execution_count": 34,
      "metadata": {
        "colab": {
          "base_uri": "https://localhost:8080/"
        },
        "id": "JEVSE-6mvc5c",
        "outputId": "2fbc65e9-f1f1-4a89-d90e-0c5c31259df2"
      },
      "outputs": [
        {
          "name": "stdout",
          "output_type": "stream",
          "text": [
            "chi-squared = 389.2874390824918\n",
            "p-value= 3.3974665001115605e-70\n",
            "degrees of freedom = 20\n"
          ]
        }
      ],
      "source": [
        "chi_sq, p_val, dof, con_table = stats.chi2_contingency(cross_tab3)\n",
        "print(f'chi-squared = {chi_sq}')\n",
        "print(f'p-value= {p_val}')\n",
        "print(f'degrees of freedom = {dof}')"
      ]
    },
    {
      "cell_type": "markdown",
      "metadata": {
        "id": "xnHvkONBvdK0"
      },
      "source": [
        "**Biaya_Sewa**"
      ]
    },
    {
      "cell_type": "code",
      "execution_count": 35,
      "metadata": {
        "colab": {
          "base_uri": "https://localhost:8080/",
          "height": 455
        },
        "id": "_jE9rYprvdK1",
        "outputId": "e6974459-5476-433b-ffb8-97a7a02d90c2"
      },
      "outputs": [
        {
          "data": {
            "text/html": [
              "<div>\n",
              "<style scoped>\n",
              "    .dataframe tbody tr th:only-of-type {\n",
              "        vertical-align: middle;\n",
              "    }\n",
              "\n",
              "    .dataframe tbody tr th {\n",
              "        vertical-align: top;\n",
              "    }\n",
              "\n",
              "    .dataframe thead th {\n",
              "        text-align: right;\n",
              "    }\n",
              "</style>\n",
              "<table border=\"1\" class=\"dataframe\">\n",
              "  <thead>\n",
              "    <tr style=\"text-align: right;\">\n",
              "      <th>Layanan</th>\n",
              "      <th>0</th>\n",
              "      <th>1</th>\n",
              "      <th>2</th>\n",
              "      <th>3</th>\n",
              "      <th>4</th>\n",
              "      <th>5</th>\n",
              "    </tr>\n",
              "    <tr>\n",
              "      <th>Biaya_Sewa</th>\n",
              "      <th></th>\n",
              "      <th></th>\n",
              "      <th></th>\n",
              "      <th></th>\n",
              "      <th></th>\n",
              "      <th></th>\n",
              "    </tr>\n",
              "  </thead>\n",
              "  <tbody>\n",
              "    <tr>\n",
              "      <th>0.00</th>\n",
              "      <td>0</td>\n",
              "      <td>0</td>\n",
              "      <td>1</td>\n",
              "      <td>20</td>\n",
              "      <td>2</td>\n",
              "      <td>0</td>\n",
              "    </tr>\n",
              "    <tr>\n",
              "      <th>200000.00</th>\n",
              "      <td>0</td>\n",
              "      <td>0</td>\n",
              "      <td>0</td>\n",
              "      <td>1</td>\n",
              "      <td>0</td>\n",
              "      <td>0</td>\n",
              "    </tr>\n",
              "    <tr>\n",
              "      <th>297297.30</th>\n",
              "      <td>0</td>\n",
              "      <td>0</td>\n",
              "      <td>0</td>\n",
              "      <td>276</td>\n",
              "      <td>0</td>\n",
              "      <td>0</td>\n",
              "    </tr>\n",
              "    <tr>\n",
              "      <th>400000.00</th>\n",
              "      <td>0</td>\n",
              "      <td>0</td>\n",
              "      <td>0</td>\n",
              "      <td>2</td>\n",
              "      <td>0</td>\n",
              "      <td>0</td>\n",
              "    </tr>\n",
              "    <tr>\n",
              "      <th>500000.00</th>\n",
              "      <td>0</td>\n",
              "      <td>0</td>\n",
              "      <td>0</td>\n",
              "      <td>1</td>\n",
              "      <td>0</td>\n",
              "      <td>0</td>\n",
              "    </tr>\n",
              "    <tr>\n",
              "      <th>...</th>\n",
              "      <td>...</td>\n",
              "      <td>...</td>\n",
              "      <td>...</td>\n",
              "      <td>...</td>\n",
              "      <td>...</td>\n",
              "      <td>...</td>\n",
              "    </tr>\n",
              "    <tr>\n",
              "      <th>19730630.63</th>\n",
              "      <td>0</td>\n",
              "      <td>0</td>\n",
              "      <td>0</td>\n",
              "      <td>0</td>\n",
              "      <td>0</td>\n",
              "      <td>1</td>\n",
              "    </tr>\n",
              "    <tr>\n",
              "      <th>23000000.00</th>\n",
              "      <td>0</td>\n",
              "      <td>0</td>\n",
              "      <td>0</td>\n",
              "      <td>0</td>\n",
              "      <td>1</td>\n",
              "      <td>0</td>\n",
              "    </tr>\n",
              "    <tr>\n",
              "      <th>48830630.60</th>\n",
              "      <td>1</td>\n",
              "      <td>0</td>\n",
              "      <td>0</td>\n",
              "      <td>0</td>\n",
              "      <td>0</td>\n",
              "      <td>0</td>\n",
              "    </tr>\n",
              "    <tr>\n",
              "      <th>54016216.00</th>\n",
              "      <td>0</td>\n",
              "      <td>0</td>\n",
              "      <td>0</td>\n",
              "      <td>0</td>\n",
              "      <td>1</td>\n",
              "      <td>0</td>\n",
              "    </tr>\n",
              "    <tr>\n",
              "      <th>81675675.68</th>\n",
              "      <td>1</td>\n",
              "      <td>0</td>\n",
              "      <td>0</td>\n",
              "      <td>0</td>\n",
              "      <td>1</td>\n",
              "      <td>0</td>\n",
              "    </tr>\n",
              "  </tbody>\n",
              "</table>\n",
              "<p>105 rows × 6 columns</p>\n",
              "</div>"
            ],
            "text/plain": [
              "Layanan      0  1  2    3  4  5\n",
              "Biaya_Sewa                     \n",
              "0.00         0  0  1   20  2  0\n",
              "200000.00    0  0  0    1  0  0\n",
              "297297.30    0  0  0  276  0  0\n",
              "400000.00    0  0  0    2  0  0\n",
              "500000.00    0  0  0    1  0  0\n",
              "...         .. .. ..  ... .. ..\n",
              "19730630.63  0  0  0    0  0  1\n",
              "23000000.00  0  0  0    0  1  0\n",
              "48830630.60  1  0  0    0  0  0\n",
              "54016216.00  0  0  0    0  1  0\n",
              "81675675.68  1  0  0    0  1  0\n",
              "\n",
              "[105 rows x 6 columns]"
            ]
          },
          "execution_count": 35,
          "metadata": {},
          "output_type": "execute_result"
        }
      ],
      "source": [
        "cross_tab4 = pd.crosstab(data7['Biaya_Sewa'], data7['Layanan'])\n",
        "cross_tab4"
      ]
    },
    {
      "cell_type": "code",
      "execution_count": 36,
      "metadata": {
        "colab": {
          "base_uri": "https://localhost:8080/"
        },
        "id": "StvSmE1yvdK2",
        "outputId": "9b29593b-af53-483d-cee9-45a29d2df9c6"
      },
      "outputs": [
        {
          "name": "stdout",
          "output_type": "stream",
          "text": [
            "chi-squared = 2381.2942738693623\n",
            "p-value= 2.9818716375806927e-235\n",
            "degrees of freedom = 520\n"
          ]
        }
      ],
      "source": [
        "chi_sq, p_val, dof, con_table = stats.chi2_contingency(cross_tab4)\n",
        "print(f'chi-squared = {chi_sq}')\n",
        "print(f'p-value= {p_val}')\n",
        "print(f'degrees of freedom = {dof}')"
      ]
    },
    {
      "cell_type": "markdown",
      "metadata": {
        "id": "20DYJ-rFvdd2"
      },
      "source": [
        "**Kabupaten/Kota**"
      ]
    },
    {
      "cell_type": "code",
      "execution_count": 37,
      "metadata": {
        "colab": {
          "base_uri": "https://localhost:8080/",
          "height": 143
        },
        "id": "aHdIvjcbvdd3",
        "outputId": "17fa3037-747b-4305-c26b-0527dfc3935a"
      },
      "outputs": [
        {
          "data": {
            "text/html": [
              "<div>\n",
              "<style scoped>\n",
              "    .dataframe tbody tr th:only-of-type {\n",
              "        vertical-align: middle;\n",
              "    }\n",
              "\n",
              "    .dataframe tbody tr th {\n",
              "        vertical-align: top;\n",
              "    }\n",
              "\n",
              "    .dataframe thead th {\n",
              "        text-align: right;\n",
              "    }\n",
              "</style>\n",
              "<table border=\"1\" class=\"dataframe\">\n",
              "  <thead>\n",
              "    <tr style=\"text-align: right;\">\n",
              "      <th>Layanan</th>\n",
              "      <th>0</th>\n",
              "      <th>1</th>\n",
              "      <th>2</th>\n",
              "      <th>3</th>\n",
              "      <th>4</th>\n",
              "      <th>5</th>\n",
              "    </tr>\n",
              "    <tr>\n",
              "      <th>Kabupaten/Kota</th>\n",
              "      <th></th>\n",
              "      <th></th>\n",
              "      <th></th>\n",
              "      <th></th>\n",
              "      <th></th>\n",
              "      <th></th>\n",
              "    </tr>\n",
              "  </thead>\n",
              "  <tbody>\n",
              "    <tr>\n",
              "      <th>0</th>\n",
              "      <td>4</td>\n",
              "      <td>2</td>\n",
              "      <td>11</td>\n",
              "      <td>77</td>\n",
              "      <td>59</td>\n",
              "      <td>91</td>\n",
              "    </tr>\n",
              "    <tr>\n",
              "      <th>1</th>\n",
              "      <td>2</td>\n",
              "      <td>0</td>\n",
              "      <td>7</td>\n",
              "      <td>290</td>\n",
              "      <td>91</td>\n",
              "      <td>7</td>\n",
              "    </tr>\n",
              "  </tbody>\n",
              "</table>\n",
              "</div>"
            ],
            "text/plain": [
              "Layanan         0  1   2    3   4   5\n",
              "Kabupaten/Kota                       \n",
              "0               4  2  11   77  59  91\n",
              "1               2  0   7  290  91   7"
            ]
          },
          "execution_count": 37,
          "metadata": {},
          "output_type": "execute_result"
        }
      ],
      "source": [
        "cross_tab5 = pd.crosstab(data7['Kabupaten/Kota'], data7['Layanan'])\n",
        "cross_tab5"
      ]
    },
    {
      "cell_type": "code",
      "execution_count": 38,
      "metadata": {
        "colab": {
          "base_uri": "https://localhost:8080/"
        },
        "id": "rSVPvjiGvdd4",
        "outputId": "1febd393-61a6-46be-c953-20f0e1790e09"
      },
      "outputs": [
        {
          "name": "stdout",
          "output_type": "stream",
          "text": [
            "chi-squared = 179.72329631456554\n",
            "p-value= 6.131072355627377e-37\n",
            "degrees of freedom = 5\n"
          ]
        }
      ],
      "source": [
        "chi_sq, p_val, dof, con_table = stats.chi2_contingency(cross_tab5)\n",
        "print(f'chi-squared = {chi_sq}')\n",
        "print(f'p-value= {p_val}')\n",
        "print(f'degrees of freedom = {dof}')"
      ]
    },
    {
      "cell_type": "markdown",
      "metadata": {
        "id": "LNKIBJXPvdrs"
      },
      "source": [
        "**Wilayah**"
      ]
    },
    {
      "cell_type": "code",
      "execution_count": 39,
      "metadata": {
        "colab": {
          "base_uri": "https://localhost:8080/",
          "height": 896
        },
        "id": "E9wYUX_8vdrs",
        "outputId": "78bb0a16-8e04-4c20-afd5-6bfe351c4e1c"
      },
      "outputs": [
        {
          "data": {
            "text/html": [
              "<div>\n",
              "<style scoped>\n",
              "    .dataframe tbody tr th:only-of-type {\n",
              "        vertical-align: middle;\n",
              "    }\n",
              "\n",
              "    .dataframe tbody tr th {\n",
              "        vertical-align: top;\n",
              "    }\n",
              "\n",
              "    .dataframe thead th {\n",
              "        text-align: right;\n",
              "    }\n",
              "</style>\n",
              "<table border=\"1\" class=\"dataframe\">\n",
              "  <thead>\n",
              "    <tr style=\"text-align: right;\">\n",
              "      <th>Layanan</th>\n",
              "      <th>0</th>\n",
              "      <th>1</th>\n",
              "      <th>2</th>\n",
              "      <th>3</th>\n",
              "      <th>4</th>\n",
              "      <th>5</th>\n",
              "    </tr>\n",
              "    <tr>\n",
              "      <th>Wilayah</th>\n",
              "      <th></th>\n",
              "      <th></th>\n",
              "      <th></th>\n",
              "      <th></th>\n",
              "      <th></th>\n",
              "      <th></th>\n",
              "    </tr>\n",
              "  </thead>\n",
              "  <tbody>\n",
              "    <tr>\n",
              "      <th>0</th>\n",
              "      <td>0</td>\n",
              "      <td>0</td>\n",
              "      <td>0</td>\n",
              "      <td>2</td>\n",
              "      <td>1</td>\n",
              "      <td>0</td>\n",
              "    </tr>\n",
              "    <tr>\n",
              "      <th>1</th>\n",
              "      <td>0</td>\n",
              "      <td>0</td>\n",
              "      <td>0</td>\n",
              "      <td>0</td>\n",
              "      <td>1</td>\n",
              "      <td>1</td>\n",
              "    </tr>\n",
              "    <tr>\n",
              "      <th>2</th>\n",
              "      <td>0</td>\n",
              "      <td>0</td>\n",
              "      <td>0</td>\n",
              "      <td>1</td>\n",
              "      <td>7</td>\n",
              "      <td>0</td>\n",
              "    </tr>\n",
              "    <tr>\n",
              "      <th>3</th>\n",
              "      <td>1</td>\n",
              "      <td>0</td>\n",
              "      <td>0</td>\n",
              "      <td>0</td>\n",
              "      <td>1</td>\n",
              "      <td>0</td>\n",
              "    </tr>\n",
              "    <tr>\n",
              "      <th>4</th>\n",
              "      <td>0</td>\n",
              "      <td>0</td>\n",
              "      <td>0</td>\n",
              "      <td>0</td>\n",
              "      <td>0</td>\n",
              "      <td>56</td>\n",
              "    </tr>\n",
              "    <tr>\n",
              "      <th>5</th>\n",
              "      <td>0</td>\n",
              "      <td>0</td>\n",
              "      <td>2</td>\n",
              "      <td>15</td>\n",
              "      <td>4</td>\n",
              "      <td>19</td>\n",
              "    </tr>\n",
              "    <tr>\n",
              "      <th>6</th>\n",
              "      <td>1</td>\n",
              "      <td>1</td>\n",
              "      <td>0</td>\n",
              "      <td>2</td>\n",
              "      <td>2</td>\n",
              "      <td>1</td>\n",
              "    </tr>\n",
              "    <tr>\n",
              "      <th>7</th>\n",
              "      <td>0</td>\n",
              "      <td>0</td>\n",
              "      <td>0</td>\n",
              "      <td>0</td>\n",
              "      <td>2</td>\n",
              "      <td>0</td>\n",
              "    </tr>\n",
              "    <tr>\n",
              "      <th>8</th>\n",
              "      <td>0</td>\n",
              "      <td>0</td>\n",
              "      <td>1</td>\n",
              "      <td>3</td>\n",
              "      <td>6</td>\n",
              "      <td>1</td>\n",
              "    </tr>\n",
              "    <tr>\n",
              "      <th>9</th>\n",
              "      <td>0</td>\n",
              "      <td>0</td>\n",
              "      <td>1</td>\n",
              "      <td>0</td>\n",
              "      <td>2</td>\n",
              "      <td>0</td>\n",
              "    </tr>\n",
              "    <tr>\n",
              "      <th>10</th>\n",
              "      <td>1</td>\n",
              "      <td>0</td>\n",
              "      <td>0</td>\n",
              "      <td>3</td>\n",
              "      <td>0</td>\n",
              "      <td>0</td>\n",
              "    </tr>\n",
              "    <tr>\n",
              "      <th>11</th>\n",
              "      <td>0</td>\n",
              "      <td>0</td>\n",
              "      <td>0</td>\n",
              "      <td>28</td>\n",
              "      <td>89</td>\n",
              "      <td>2</td>\n",
              "    </tr>\n",
              "    <tr>\n",
              "      <th>12</th>\n",
              "      <td>0</td>\n",
              "      <td>0</td>\n",
              "      <td>0</td>\n",
              "      <td>280</td>\n",
              "      <td>3</td>\n",
              "      <td>2</td>\n",
              "    </tr>\n",
              "    <tr>\n",
              "      <th>13</th>\n",
              "      <td>0</td>\n",
              "      <td>0</td>\n",
              "      <td>0</td>\n",
              "      <td>0</td>\n",
              "      <td>1</td>\n",
              "      <td>0</td>\n",
              "    </tr>\n",
              "    <tr>\n",
              "      <th>14</th>\n",
              "      <td>1</td>\n",
              "      <td>1</td>\n",
              "      <td>0</td>\n",
              "      <td>1</td>\n",
              "      <td>0</td>\n",
              "      <td>0</td>\n",
              "    </tr>\n",
              "    <tr>\n",
              "      <th>15</th>\n",
              "      <td>0</td>\n",
              "      <td>0</td>\n",
              "      <td>0</td>\n",
              "      <td>0</td>\n",
              "      <td>0</td>\n",
              "      <td>1</td>\n",
              "    </tr>\n",
              "    <tr>\n",
              "      <th>16</th>\n",
              "      <td>0</td>\n",
              "      <td>0</td>\n",
              "      <td>0</td>\n",
              "      <td>1</td>\n",
              "      <td>4</td>\n",
              "      <td>1</td>\n",
              "    </tr>\n",
              "    <tr>\n",
              "      <th>17</th>\n",
              "      <td>1</td>\n",
              "      <td>0</td>\n",
              "      <td>0</td>\n",
              "      <td>3</td>\n",
              "      <td>1</td>\n",
              "      <td>0</td>\n",
              "    </tr>\n",
              "    <tr>\n",
              "      <th>18</th>\n",
              "      <td>0</td>\n",
              "      <td>0</td>\n",
              "      <td>0</td>\n",
              "      <td>0</td>\n",
              "      <td>1</td>\n",
              "      <td>0</td>\n",
              "    </tr>\n",
              "    <tr>\n",
              "      <th>19</th>\n",
              "      <td>0</td>\n",
              "      <td>0</td>\n",
              "      <td>1</td>\n",
              "      <td>1</td>\n",
              "      <td>2</td>\n",
              "      <td>2</td>\n",
              "    </tr>\n",
              "    <tr>\n",
              "      <th>20</th>\n",
              "      <td>0</td>\n",
              "      <td>0</td>\n",
              "      <td>0</td>\n",
              "      <td>0</td>\n",
              "      <td>1</td>\n",
              "      <td>0</td>\n",
              "    </tr>\n",
              "    <tr>\n",
              "      <th>21</th>\n",
              "      <td>0</td>\n",
              "      <td>0</td>\n",
              "      <td>0</td>\n",
              "      <td>1</td>\n",
              "      <td>2</td>\n",
              "      <td>0</td>\n",
              "    </tr>\n",
              "    <tr>\n",
              "      <th>22</th>\n",
              "      <td>1</td>\n",
              "      <td>0</td>\n",
              "      <td>7</td>\n",
              "      <td>6</td>\n",
              "      <td>6</td>\n",
              "      <td>2</td>\n",
              "    </tr>\n",
              "    <tr>\n",
              "      <th>23</th>\n",
              "      <td>0</td>\n",
              "      <td>0</td>\n",
              "      <td>0</td>\n",
              "      <td>2</td>\n",
              "      <td>2</td>\n",
              "      <td>8</td>\n",
              "    </tr>\n",
              "    <tr>\n",
              "      <th>24</th>\n",
              "      <td>0</td>\n",
              "      <td>0</td>\n",
              "      <td>6</td>\n",
              "      <td>14</td>\n",
              "      <td>10</td>\n",
              "      <td>2</td>\n",
              "    </tr>\n",
              "    <tr>\n",
              "      <th>25</th>\n",
              "      <td>0</td>\n",
              "      <td>0</td>\n",
              "      <td>0</td>\n",
              "      <td>4</td>\n",
              "      <td>2</td>\n",
              "      <td>0</td>\n",
              "    </tr>\n",
              "  </tbody>\n",
              "</table>\n",
              "</div>"
            ],
            "text/plain": [
              "Layanan  0  1  2    3   4   5\n",
              "Wilayah                      \n",
              "0        0  0  0    2   1   0\n",
              "1        0  0  0    0   1   1\n",
              "2        0  0  0    1   7   0\n",
              "3        1  0  0    0   1   0\n",
              "4        0  0  0    0   0  56\n",
              "5        0  0  2   15   4  19\n",
              "6        1  1  0    2   2   1\n",
              "7        0  0  0    0   2   0\n",
              "8        0  0  1    3   6   1\n",
              "9        0  0  1    0   2   0\n",
              "10       1  0  0    3   0   0\n",
              "11       0  0  0   28  89   2\n",
              "12       0  0  0  280   3   2\n",
              "13       0  0  0    0   1   0\n",
              "14       1  1  0    1   0   0\n",
              "15       0  0  0    0   0   1\n",
              "16       0  0  0    1   4   1\n",
              "17       1  0  0    3   1   0\n",
              "18       0  0  0    0   1   0\n",
              "19       0  0  1    1   2   2\n",
              "20       0  0  0    0   1   0\n",
              "21       0  0  0    1   2   0\n",
              "22       1  0  7    6   6   2\n",
              "23       0  0  0    2   2   8\n",
              "24       0  0  6   14  10   2\n",
              "25       0  0  0    4   2   0"
            ]
          },
          "execution_count": 39,
          "metadata": {},
          "output_type": "execute_result"
        }
      ],
      "source": [
        "cross_tab6 = pd.crosstab(data7['Wilayah'], data7['Layanan'])\n",
        "cross_tab6"
      ]
    },
    {
      "cell_type": "code",
      "execution_count": 40,
      "metadata": {
        "colab": {
          "base_uri": "https://localhost:8080/"
        },
        "id": "-eCxdTAbvdrt",
        "outputId": "0dfa39e1-f2d9-4282-8deb-0de2f394e724"
      },
      "outputs": [
        {
          "name": "stdout",
          "output_type": "stream",
          "text": [
            "chi-squared = 1233.5918504330361\n",
            "p-value= 1.4700801628361204e-181\n",
            "degrees of freedom = 125\n"
          ]
        }
      ],
      "source": [
        "chi_sq, p_val, dof, con_table = stats.chi2_contingency(cross_tab6)\n",
        "print(f'chi-squared = {chi_sq}')\n",
        "print(f'p-value= {p_val}')\n",
        "print(f'degrees of freedom = {dof}')"
      ]
    },
    {
      "cell_type": "markdown",
      "metadata": {
        "id": "Og_soNqkQHsP"
      },
      "source": [
        "## **Save the DataFrame**"
      ]
    },
    {
      "cell_type": "code",
      "execution_count": null,
      "metadata": {
        "id": "e0rbbfTbQHsQ"
      },
      "outputs": [],
      "source": []
    },
    {
      "cell_type": "markdown",
      "metadata": {
        "id": "BJIU75jb28KR"
      },
      "source": [
        "#**Modeling**"
      ]
    },
    {
      "cell_type": "markdown",
      "metadata": {
        "id": "z_BS58s067EQ"
      },
      "source": [
        "## Split Data"
      ]
    },
    {
      "cell_type": "code",
      "execution_count": 41,
      "metadata": {
        "id": "QjQG49DJ7JzF"
      },
      "outputs": [],
      "source": [
        "import pandas as pd\n",
        "from imblearn.over_sampling import SMOTE\n",
        "from sklearn.pipeline import Pipeline\n",
        "from imblearn.pipeline import make_pipeline\n",
        "from sklearn.linear_model import LogisticRegression as LR\n",
        "import matplotlib.pyplot as plt\n",
        "from imblearn.over_sampling import RandomOverSampler\n",
        "from sklearn.compose import ColumnTransformer\n",
        "from sklearn.preprocessing import OneHotEncoder, StandardScaler, LabelEncoder\n",
        "from sklearn.linear_model import LogisticRegression #digunakan untuk membuat model multinomial logistic regression\n",
        "from sklearn.naive_bayes import GaussianNB #digunakan untuk membuat model naive bayes\n",
        "from sklearn.tree import DecisionTreeClassifier #digunakan untuk membuat model decision tree\n",
        "from sklearn.ensemble import RandomForestClassifier #digunakan untuk membuat model random forest\n",
        "from sklearn.model_selection import train_test_split\n",
        "from sklearn.metrics import accuracy_score,confusion_matrix,classification_report\n",
        "import joblib"
      ]
    },
    {
      "cell_type": "code",
      "execution_count": 42,
      "metadata": {
        "id": "PIPTyP9H69F_"
      },
      "outputs": [],
      "source": [
        "# Load the data into a DataFrame\n",
        "df = pd.DataFrame(data7)\n",
        "\n",
        "# Split the data into training and testing sets\n",
        "X = df.drop('Layanan', axis=1)\n",
        "y = df['Layanan']\n",
        "X_train, X_test, y_train, y_test = train_test_split(X, y, test_size=0.2, random_state=123)"
      ]
    },
    {
      "cell_type": "markdown",
      "metadata": {
        "id": "ARP6xaM41_5g"
      },
      "source": [
        "## Data Imbalance"
      ]
    },
    {
      "cell_type": "code",
      "execution_count": 43,
      "metadata": {
        "colab": {
          "base_uri": "https://localhost:8080/"
        },
        "id": "Z4HAfGWs2DIw",
        "outputId": "80e1c5d4-b6fc-4f09-bc5c-3e2747bed05a"
      },
      "outputs": [
        {
          "data": {
            "text/plain": [
              "3    0.568359\n",
              "4    0.240234\n",
              "5    0.154297\n",
              "2    0.027344\n",
              "0    0.007812\n",
              "1    0.001953\n",
              "Name: Layanan, dtype: float64"
            ]
          },
          "execution_count": 43,
          "metadata": {},
          "output_type": "execute_result"
        }
      ],
      "source": [
        "pd.Series(y_train).value_counts(normalize=True)"
      ]
    },
    {
      "cell_type": "markdown",
      "metadata": {
        "id": "AyLrO2g22ZV7"
      },
      "source": [
        "It is clear that train set is imbalanced. I will build first model with this data and later on try to balance it using SMOTE."
      ]
    },
    {
      "cell_type": "markdown",
      "metadata": {
        "id": "vMwrjyZD7XOu"
      },
      "source": [
        "## Baseline Model - Multinomial Logistic Regression"
      ]
    },
    {
      "cell_type": "code",
      "execution_count": 44,
      "metadata": {
        "colab": {
          "base_uri": "https://localhost:8080/"
        },
        "id": "mxZIqCpq3Oc-",
        "outputId": "be7a7741-f285-4ed4-9846-77efdf69decf"
      },
      "outputs": [
        {
          "data": {
            "text/plain": [
              "[]"
            ]
          },
          "execution_count": 44,
          "metadata": {},
          "output_type": "execute_result"
        }
      ],
      "source": [
        "cat_cols = X_train.select_dtypes(include='object').columns\n",
        "indices = []\n",
        "for col in cat_cols:\n",
        "    indices.append(X_train.columns.get_loc(col))\n",
        "indices"
      ]
    },
    {
      "cell_type": "code",
      "execution_count": 45,
      "metadata": {
        "id": "n1RV6T133X-P"
      },
      "outputs": [],
      "source": [
        "transformer = ColumnTransformer(transformers=[('categorical',\n",
        "                                               OneHotEncoder(handle_unknown = 'ignore'), indices)],\n",
        "                                remainder = 'passthrough')"
      ]
    },
    {
      "cell_type": "code",
      "execution_count": 60,
      "metadata": {
        "colab": {
          "base_uri": "https://localhost:8080/"
        },
        "id": "MD6bvtW5509U",
        "outputId": "a13f0ae5-ea9f-4c91-ba1f-2ff378f3b162"
      },
      "outputs": [
        {
          "name": "stdout",
          "output_type": "stream",
          "text": [
            "Train Set Accuracy: 82.42%\n",
            "Test Set Accuracy: 83.72%\n",
            "\n",
            "Confusion Matrix:\n",
            "[[ 1  0  0  3]\n",
            " [ 0 78  4  0]\n",
            " [ 0 13 10  0]\n",
            " [ 1  0  0 19]]\n",
            "\n",
            "Classification Report:\n",
            "              precision    recall  f1-score   support\n",
            "\n",
            "           2       0.50      0.25      0.33         4\n",
            "           3       0.86      0.95      0.90        82\n",
            "           4       0.71      0.43      0.54        23\n",
            "           5       0.86      0.95      0.90        20\n",
            "\n",
            "    accuracy                           0.84       129\n",
            "   macro avg       0.73      0.65      0.67       129\n",
            "weighted avg       0.82      0.84      0.82       129\n",
            "\n"
          ]
        }
      ],
      "source": [
        "# Perform multinomial logistic regression\n",
        "lr = LogisticRegression(multi_class='multinomial', solver='newton-cg', max_iter=20000)\n",
        "\n",
        "# Create the pipeline including the transformer, scaler, and logistic regression model\n",
        "base_model_pipe = make_pipeline(transformer, StandardScaler(with_mean=False), lr)\n",
        "\n",
        "# Fit the pipeline on the training data\n",
        "base_model_pipe.fit(X_train, y_train)\n",
        "\n",
        "# Make predictions on the test set\n",
        "y_test_pred = base_model_pipe.predict(X_test)\n",
        "y_train_pred = base_model_pipe.predict(X_train)\n",
        "\n",
        "# Calculate the accuracy of the model\n",
        "train_accuracy = accuracy_score(y_train, y_train_pred) * 100\n",
        "test_accuracy = accuracy_score(y_test, y_test_pred) * 100\n",
        "print(\"Train Set Accuracy: {:.2f}%\".format(train_accuracy))\n",
        "print(\"Test Set Accuracy: {:.2f}%\".format(test_accuracy))\n",
        "\n",
        "# Confusion matrix and classification report\n",
        "print(\"\\nConfusion Matrix:\\n{}\".format(confusion_matrix(y_test, y_test_pred)))\n",
        "print(\"\\nClassification Report:\\n{}\".format(classification_report(y_test, y_test_pred)))"
      ]
    },
    {
      "cell_type": "code",
      "execution_count": 47,
      "metadata": {
        "colab": {
          "base_uri": "https://localhost:8080/"
        },
        "id": "9n-e5TDDAl8Q",
        "outputId": "8eea9915-0ff9-4666-f22e-58aa7c4e5989"
      },
      "outputs": [
        {
          "name": "stdout",
          "output_type": "stream",
          "text": [
            "Number of values correctly predicted:\n",
            "True     420\n",
            "False     92\n",
            "Name: Layanan, dtype: int64\n"
          ]
        }
      ],
      "source": [
        "residuals = y_train == y_train_pred\n",
        "\n",
        "print('Number of values correctly predicted:')\n",
        "print(pd.Series(residuals).value_counts())"
      ]
    },
    {
      "cell_type": "code",
      "execution_count": 48,
      "metadata": {
        "colab": {
          "base_uri": "https://localhost:8080/"
        },
        "id": "XrckmuMwAw7a",
        "outputId": "d88152cc-78c5-4863-c5e3-59bde7eeb84f"
      },
      "outputs": [
        {
          "name": "stdout",
          "output_type": "stream",
          "text": [
            "Number of values correctly predicted:\n",
            "True     108\n",
            "False     21\n",
            "Name: Layanan, dtype: int64\n"
          ]
        }
      ],
      "source": [
        "residuals = y_test == y_test_pred\n",
        "\n",
        "print('Number of values correctly predicted:')\n",
        "print(pd.Series(residuals).value_counts())"
      ]
    },
    {
      "cell_type": "markdown",
      "metadata": {
        "id": "AclUtW44BbPv"
      },
      "source": [
        "## Multinomial Logistic Regression with Upsampled Data"
      ]
    },
    {
      "cell_type": "code",
      "execution_count": 49,
      "metadata": {
        "colab": {
          "base_uri": "https://localhost:8080/"
        },
        "id": "gIK4GpBSQkdZ",
        "outputId": "e8844e76-669e-4a3a-9253-5b174034d33a"
      },
      "outputs": [
        {
          "name": "stdout",
          "output_type": "stream",
          "text": [
            "Index(['AR_Type', 'Bidang_Baku', 'Tipe', 'Bandwidth', 'Biaya_Sewa',\n",
            "       'Kabupaten/Kota', 'Wilayah'],\n",
            "      dtype='object')\n"
          ]
        }
      ],
      "source": [
        "print(X.columns)"
      ]
    },
    {
      "cell_type": "code",
      "execution_count": 50,
      "metadata": {
        "colab": {
          "base_uri": "https://localhost:8080/",
          "height": 589
        },
        "id": "a5WlDEs_BIEM",
        "outputId": "5caea0ec-3972-4ed2-be24-4c08226c5702"
      },
      "outputs": [
        {
          "name": "stderr",
          "output_type": "stream",
          "text": [
            "c:\\Users\\ASUS\\anaconda3\\lib\\site-packages\\scipy\\optimize\\_linesearch.py:456: LineSearchWarning: The line search algorithm did not converge\n",
            "  warn('The line search algorithm did not converge', LineSearchWarning)\n",
            "c:\\Users\\ASUS\\anaconda3\\lib\\site-packages\\scipy\\optimize\\_linesearch.py:305: LineSearchWarning: The line search algorithm did not converge\n",
            "  warn('The line search algorithm did not converge', LineSearchWarning)\n"
          ]
        },
        {
          "name": "stdout",
          "output_type": "stream",
          "text": [
            "Train Set Accuracy: 73.33%\n",
            "Test Set Accuracy: 82.17%\n",
            "\n",
            "Confusion Matrix:\n",
            "[[ 3  0  0  1]\n",
            " [ 0 76  6  0]\n",
            " [ 0 13 10  0]\n",
            " [ 3  0  0 17]]\n",
            "\n",
            "Classification Report:\n",
            "              precision    recall  f1-score   support\n",
            "\n",
            "           2       0.50      0.75      0.60         4\n",
            "           3       0.85      0.93      0.89        82\n",
            "           4       0.62      0.43      0.51        23\n",
            "           5       0.94      0.85      0.89        20\n",
            "\n",
            "    accuracy                           0.82       129\n",
            "   macro avg       0.73      0.74      0.72       129\n",
            "weighted avg       0.82      0.82      0.81       129\n",
            "\n"
          ]
        },
        {
          "name": "stderr",
          "output_type": "stream",
          "text": [
            "c:\\Users\\ASUS\\anaconda3\\lib\\site-packages\\sklearn\\utils\\optimize.py:203: UserWarning: Line Search failed\n",
            "  warnings.warn(\"Line Search failed\")\n"
          ]
        },
        {
          "data": {
            "text/plain": [
              "['lr_model.pkl']"
            ]
          },
          "execution_count": 50,
          "metadata": {},
          "output_type": "execute_result"
        }
      ],
      "source": [
        "# Split the data into train and test sets\n",
        "X_train, X_test, y_train, y_test = train_test_split(X, y, test_size=0.2, random_state=42)\n",
        "\n",
        "# Calculate the minimum number of samples (n_samples) among the 199 classes\n",
        "n_samples = min([len(X_train[y_train == i]) for i in range(199)])\n",
        "\n",
        "# Choose a value for the n_neighbors parameter\n",
        "n_neighbors = 5  # Adjust this value as needed\n",
        "\n",
        "# Apply SMOTE if n_neighbors <= n_samples, otherwise apply RandomOverSampler\n",
        "if n_neighbors <= n_samples:\n",
        "    oversampler = SMOTE(sampling_strategy='not majority', k_neighbors=n_neighbors)\n",
        "else:\n",
        "    oversampler = RandomOverSampler(sampling_strategy='not majority')\n",
        "\n",
        "# Apply oversampling to the training data\n",
        "X_train_oversampled, y_train_oversampled = oversampler.fit_resample(X_train, y_train)\n",
        "\n",
        "# Create the logistic regression model\n",
        "lr = LogisticRegression(multi_class='multinomial', solver='newton-cg', max_iter=20000)\n",
        "\n",
        "# Fit the logistic regression model on the preprocessed training data\n",
        "lr.fit(X_train_oversampled, y_train_oversampled)\n",
        "\n",
        "# Make predictions on the test set\n",
        "y_test_pred = lr.predict(X_test)\n",
        "y_train_pred = lr.predict(X_train_oversampled)\n",
        "\n",
        "# Calculate the accuracy of the model\n",
        "train_accuracy = accuracy_score(y_train_oversampled, y_train_pred) * 100\n",
        "test_accuracy = accuracy_score(y_test, y_test_pred) * 100\n",
        "print(\"Train Set Accuracy: {:.2f}%\".format(train_accuracy))\n",
        "print(\"Test Set Accuracy: {:.2f}%\".format(test_accuracy))\n",
        "\n",
        "# Confusion matrix and classification report\n",
        "print(\"\\nConfusion Matrix:\\n{}\".format(confusion_matrix(y_test, y_test_pred)))\n",
        "print(\"\\nClassification Report:\\n{}\".format(classification_report(y_test, y_test_pred)))\n",
        "\n",
        "# Save the trained model as a .pkl file\n",
        "joblib.dump(lr, 'lr_model.pkl')"
      ]
    },
    {
      "cell_type": "code",
      "execution_count": 51,
      "metadata": {
        "id": "Sm0uklPxBIEf"
      },
      "outputs": [
        {
          "name": "stdout",
          "output_type": "stream",
          "text": [
            "Number of values correctly predicted:\n",
            "True     1254\n",
            "False     456\n",
            "Name: Layanan, dtype: int64\n"
          ]
        }
      ],
      "source": [
        "residuals = y_train_oversampled == y_train_pred\n",
        "\n",
        "print('Number of values correctly predicted:')\n",
        "print(pd.Series(residuals).value_counts())"
      ]
    },
    {
      "cell_type": "markdown",
      "metadata": {},
      "source": [
        "## Feature Importance Logistic Regression"
      ]
    },
    {
      "cell_type": "code",
      "execution_count": 52,
      "metadata": {},
      "outputs": [
        {
          "name": "stdout",
          "output_type": "stream",
          "text": [
            "<class 'pandas.core.frame.DataFrame'>\n",
            "Int64Index: 512 entries, 298 to 473\n",
            "Data columns (total 7 columns):\n",
            " #   Column          Non-Null Count  Dtype  \n",
            "---  ------          --------------  -----  \n",
            " 0   AR_Type         512 non-null    int32  \n",
            " 1   Bidang_Baku     512 non-null    int32  \n",
            " 2   Tipe            512 non-null    int32  \n",
            " 3   Bandwidth       512 non-null    float64\n",
            " 4   Biaya_Sewa      512 non-null    float64\n",
            " 5   Kabupaten/Kota  512 non-null    int32  \n",
            " 6   Wilayah         512 non-null    int32  \n",
            "dtypes: float64(2), int32(5)\n",
            "memory usage: 22.0 KB\n"
          ]
        }
      ],
      "source": [
        "X_train.info()"
      ]
    },
    {
      "cell_type": "code",
      "execution_count": 53,
      "metadata": {},
      "outputs": [
        {
          "ename": "ValueError",
          "evalue": "endog and exog matrices are different sizes",
          "output_type": "error",
          "traceback": [
            "\u001b[1;31m---------------------------------------------------------------------------\u001b[0m",
            "\u001b[1;31mValueError\u001b[0m                                Traceback (most recent call last)",
            "\u001b[1;32m~\\AppData\\Local\\Temp\\ipykernel_16028\\1365956965.py\u001b[0m in \u001b[0;36m<module>\u001b[1;34m\u001b[0m\n\u001b[0;32m      1\u001b[0m \u001b[1;32mimport\u001b[0m \u001b[0mstatsmodels\u001b[0m\u001b[1;33m.\u001b[0m\u001b[0mapi\u001b[0m \u001b[1;32mas\u001b[0m \u001b[0msm\u001b[0m\u001b[1;33m\u001b[0m\u001b[1;33m\u001b[0m\u001b[0m\n\u001b[0;32m      2\u001b[0m \u001b[0mformula\u001b[0m \u001b[1;33m=\u001b[0m \u001b[1;34m'AR_Type'\u001b[0m\u001b[1;33m,\u001b[0m \u001b[1;34m'Bidang_Baku'\u001b[0m\u001b[1;33m,\u001b[0m \u001b[1;34m'Tipe'\u001b[0m\u001b[1;33m,\u001b[0m \u001b[1;34m'Bandwidth'\u001b[0m\u001b[1;33m,\u001b[0m \u001b[1;34m'Biaya_Sewa'\u001b[0m\u001b[1;33m,\u001b[0m\u001b[1;34m'Kabupaten/Kota'\u001b[0m\u001b[1;33m,\u001b[0m \u001b[1;34m'Wilayah'\u001b[0m\u001b[1;33m\u001b[0m\u001b[1;33m\u001b[0m\u001b[0m\n\u001b[1;32m----> 3\u001b[1;33m \u001b[0mlm\u001b[0m \u001b[1;33m=\u001b[0m \u001b[0msm\u001b[0m\u001b[1;33m.\u001b[0m\u001b[0mOLS\u001b[0m\u001b[1;33m(\u001b[0m\u001b[0mformula\u001b[0m\u001b[1;33m,\u001b[0m \u001b[0mdata7\u001b[0m\u001b[1;33m)\u001b[0m\u001b[1;33m.\u001b[0m\u001b[0mfit\u001b[0m\u001b[1;33m(\u001b[0m\u001b[1;33m)\u001b[0m\u001b[1;33m\u001b[0m\u001b[1;33m\u001b[0m\u001b[0m\n\u001b[0m\u001b[0;32m      4\u001b[0m \u001b[0mtable\u001b[0m \u001b[1;33m=\u001b[0m \u001b[0msm\u001b[0m\u001b[1;33m.\u001b[0m\u001b[0mstats\u001b[0m\u001b[1;33m.\u001b[0m\u001b[0manova_lm\u001b[0m\u001b[1;33m(\u001b[0m\u001b[0mlm\u001b[0m\u001b[1;33m,\u001b[0m \u001b[0mtyp\u001b[0m\u001b[1;33m=\u001b[0m\u001b[1;36m2\u001b[0m\u001b[1;33m)\u001b[0m\u001b[1;33m\u001b[0m\u001b[1;33m\u001b[0m\u001b[0m\n\u001b[0;32m      5\u001b[0m \u001b[0mprint\u001b[0m\u001b[1;33m(\u001b[0m\u001b[0mtable\u001b[0m\u001b[1;33m)\u001b[0m\u001b[1;33m\u001b[0m\u001b[1;33m\u001b[0m\u001b[0m\n",
            "\u001b[1;32mc:\\Users\\ASUS\\anaconda3\\lib\\site-packages\\statsmodels\\regression\\linear_model.py\u001b[0m in \u001b[0;36m__init__\u001b[1;34m(self, endog, exog, missing, hasconst, **kwargs)\u001b[0m\n\u001b[0;32m    888\u001b[0m                    \"An exception will be raised in the next version.\")\n\u001b[0;32m    889\u001b[0m             \u001b[0mwarnings\u001b[0m\u001b[1;33m.\u001b[0m\u001b[0mwarn\u001b[0m\u001b[1;33m(\u001b[0m\u001b[0mmsg\u001b[0m\u001b[1;33m,\u001b[0m \u001b[0mValueWarning\u001b[0m\u001b[1;33m)\u001b[0m\u001b[1;33m\u001b[0m\u001b[1;33m\u001b[0m\u001b[0m\n\u001b[1;32m--> 890\u001b[1;33m         super(OLS, self).__init__(endog, exog, missing=missing,\n\u001b[0m\u001b[0;32m    891\u001b[0m                                   hasconst=hasconst, **kwargs)\n\u001b[0;32m    892\u001b[0m         \u001b[1;32mif\u001b[0m \u001b[1;34m\"weights\"\u001b[0m \u001b[1;32min\u001b[0m \u001b[0mself\u001b[0m\u001b[1;33m.\u001b[0m\u001b[0m_init_keys\u001b[0m\u001b[1;33m:\u001b[0m\u001b[1;33m\u001b[0m\u001b[1;33m\u001b[0m\u001b[0m\n",
            "\u001b[1;32mc:\\Users\\ASUS\\anaconda3\\lib\\site-packages\\statsmodels\\regression\\linear_model.py\u001b[0m in \u001b[0;36m__init__\u001b[1;34m(self, endog, exog, weights, missing, hasconst, **kwargs)\u001b[0m\n\u001b[0;32m    715\u001b[0m         \u001b[1;32melse\u001b[0m\u001b[1;33m:\u001b[0m\u001b[1;33m\u001b[0m\u001b[1;33m\u001b[0m\u001b[0m\n\u001b[0;32m    716\u001b[0m             \u001b[0mweights\u001b[0m \u001b[1;33m=\u001b[0m \u001b[0mweights\u001b[0m\u001b[1;33m.\u001b[0m\u001b[0msqueeze\u001b[0m\u001b[1;33m(\u001b[0m\u001b[1;33m)\u001b[0m\u001b[1;33m\u001b[0m\u001b[1;33m\u001b[0m\u001b[0m\n\u001b[1;32m--> 717\u001b[1;33m         super(WLS, self).__init__(endog, exog, missing=missing,\n\u001b[0m\u001b[0;32m    718\u001b[0m                                   weights=weights, hasconst=hasconst, **kwargs)\n\u001b[0;32m    719\u001b[0m         \u001b[0mnobs\u001b[0m \u001b[1;33m=\u001b[0m \u001b[0mself\u001b[0m\u001b[1;33m.\u001b[0m\u001b[0mexog\u001b[0m\u001b[1;33m.\u001b[0m\u001b[0mshape\u001b[0m\u001b[1;33m[\u001b[0m\u001b[1;36m0\u001b[0m\u001b[1;33m]\u001b[0m\u001b[1;33m\u001b[0m\u001b[1;33m\u001b[0m\u001b[0m\n",
            "\u001b[1;32mc:\\Users\\ASUS\\anaconda3\\lib\\site-packages\\statsmodels\\regression\\linear_model.py\u001b[0m in \u001b[0;36m__init__\u001b[1;34m(self, endog, exog, **kwargs)\u001b[0m\n\u001b[0;32m    189\u001b[0m     \"\"\"\n\u001b[0;32m    190\u001b[0m     \u001b[1;32mdef\u001b[0m \u001b[0m__init__\u001b[0m\u001b[1;33m(\u001b[0m\u001b[0mself\u001b[0m\u001b[1;33m,\u001b[0m \u001b[0mendog\u001b[0m\u001b[1;33m,\u001b[0m \u001b[0mexog\u001b[0m\u001b[1;33m,\u001b[0m \u001b[1;33m**\u001b[0m\u001b[0mkwargs\u001b[0m\u001b[1;33m)\u001b[0m\u001b[1;33m:\u001b[0m\u001b[1;33m\u001b[0m\u001b[1;33m\u001b[0m\u001b[0m\n\u001b[1;32m--> 191\u001b[1;33m         \u001b[0msuper\u001b[0m\u001b[1;33m(\u001b[0m\u001b[0mRegressionModel\u001b[0m\u001b[1;33m,\u001b[0m \u001b[0mself\u001b[0m\u001b[1;33m)\u001b[0m\u001b[1;33m.\u001b[0m\u001b[0m__init__\u001b[0m\u001b[1;33m(\u001b[0m\u001b[0mendog\u001b[0m\u001b[1;33m,\u001b[0m \u001b[0mexog\u001b[0m\u001b[1;33m,\u001b[0m \u001b[1;33m**\u001b[0m\u001b[0mkwargs\u001b[0m\u001b[1;33m)\u001b[0m\u001b[1;33m\u001b[0m\u001b[1;33m\u001b[0m\u001b[0m\n\u001b[0m\u001b[0;32m    192\u001b[0m         \u001b[0mself\u001b[0m\u001b[1;33m.\u001b[0m\u001b[0m_data_attr\u001b[0m\u001b[1;33m.\u001b[0m\u001b[0mextend\u001b[0m\u001b[1;33m(\u001b[0m\u001b[1;33m[\u001b[0m\u001b[1;34m'pinv_wexog'\u001b[0m\u001b[1;33m,\u001b[0m \u001b[1;34m'wendog'\u001b[0m\u001b[1;33m,\u001b[0m \u001b[1;34m'wexog'\u001b[0m\u001b[1;33m,\u001b[0m \u001b[1;34m'weights'\u001b[0m\u001b[1;33m]\u001b[0m\u001b[1;33m)\u001b[0m\u001b[1;33m\u001b[0m\u001b[1;33m\u001b[0m\u001b[0m\n\u001b[0;32m    193\u001b[0m \u001b[1;33m\u001b[0m\u001b[0m\n",
            "\u001b[1;32mc:\\Users\\ASUS\\anaconda3\\lib\\site-packages\\statsmodels\\base\\model.py\u001b[0m in \u001b[0;36m__init__\u001b[1;34m(self, endog, exog, **kwargs)\u001b[0m\n\u001b[0;32m    265\u001b[0m \u001b[1;33m\u001b[0m\u001b[0m\n\u001b[0;32m    266\u001b[0m     \u001b[1;32mdef\u001b[0m \u001b[0m__init__\u001b[0m\u001b[1;33m(\u001b[0m\u001b[0mself\u001b[0m\u001b[1;33m,\u001b[0m \u001b[0mendog\u001b[0m\u001b[1;33m,\u001b[0m \u001b[0mexog\u001b[0m\u001b[1;33m=\u001b[0m\u001b[1;32mNone\u001b[0m\u001b[1;33m,\u001b[0m \u001b[1;33m**\u001b[0m\u001b[0mkwargs\u001b[0m\u001b[1;33m)\u001b[0m\u001b[1;33m:\u001b[0m\u001b[1;33m\u001b[0m\u001b[1;33m\u001b[0m\u001b[0m\n\u001b[1;32m--> 267\u001b[1;33m         \u001b[0msuper\u001b[0m\u001b[1;33m(\u001b[0m\u001b[1;33m)\u001b[0m\u001b[1;33m.\u001b[0m\u001b[0m__init__\u001b[0m\u001b[1;33m(\u001b[0m\u001b[0mendog\u001b[0m\u001b[1;33m,\u001b[0m \u001b[0mexog\u001b[0m\u001b[1;33m,\u001b[0m \u001b[1;33m**\u001b[0m\u001b[0mkwargs\u001b[0m\u001b[1;33m)\u001b[0m\u001b[1;33m\u001b[0m\u001b[1;33m\u001b[0m\u001b[0m\n\u001b[0m\u001b[0;32m    268\u001b[0m         \u001b[0mself\u001b[0m\u001b[1;33m.\u001b[0m\u001b[0minitialize\u001b[0m\u001b[1;33m(\u001b[0m\u001b[1;33m)\u001b[0m\u001b[1;33m\u001b[0m\u001b[1;33m\u001b[0m\u001b[0m\n\u001b[0;32m    269\u001b[0m \u001b[1;33m\u001b[0m\u001b[0m\n",
            "\u001b[1;32mc:\\Users\\ASUS\\anaconda3\\lib\\site-packages\\statsmodels\\base\\model.py\u001b[0m in \u001b[0;36m__init__\u001b[1;34m(self, endog, exog, **kwargs)\u001b[0m\n\u001b[0;32m     90\u001b[0m         \u001b[0mmissing\u001b[0m \u001b[1;33m=\u001b[0m \u001b[0mkwargs\u001b[0m\u001b[1;33m.\u001b[0m\u001b[0mpop\u001b[0m\u001b[1;33m(\u001b[0m\u001b[1;34m'missing'\u001b[0m\u001b[1;33m,\u001b[0m \u001b[1;34m'none'\u001b[0m\u001b[1;33m)\u001b[0m\u001b[1;33m\u001b[0m\u001b[1;33m\u001b[0m\u001b[0m\n\u001b[0;32m     91\u001b[0m         \u001b[0mhasconst\u001b[0m \u001b[1;33m=\u001b[0m \u001b[0mkwargs\u001b[0m\u001b[1;33m.\u001b[0m\u001b[0mpop\u001b[0m\u001b[1;33m(\u001b[0m\u001b[1;34m'hasconst'\u001b[0m\u001b[1;33m,\u001b[0m \u001b[1;32mNone\u001b[0m\u001b[1;33m)\u001b[0m\u001b[1;33m\u001b[0m\u001b[1;33m\u001b[0m\u001b[0m\n\u001b[1;32m---> 92\u001b[1;33m         self.data = self._handle_data(endog, exog, missing, hasconst,\n\u001b[0m\u001b[0;32m     93\u001b[0m                                       **kwargs)\n\u001b[0;32m     94\u001b[0m         \u001b[0mself\u001b[0m\u001b[1;33m.\u001b[0m\u001b[0mk_constant\u001b[0m \u001b[1;33m=\u001b[0m \u001b[0mself\u001b[0m\u001b[1;33m.\u001b[0m\u001b[0mdata\u001b[0m\u001b[1;33m.\u001b[0m\u001b[0mk_constant\u001b[0m\u001b[1;33m\u001b[0m\u001b[1;33m\u001b[0m\u001b[0m\n",
            "\u001b[1;32mc:\\Users\\ASUS\\anaconda3\\lib\\site-packages\\statsmodels\\base\\model.py\u001b[0m in \u001b[0;36m_handle_data\u001b[1;34m(self, endog, exog, missing, hasconst, **kwargs)\u001b[0m\n\u001b[0;32m    130\u001b[0m \u001b[1;33m\u001b[0m\u001b[0m\n\u001b[0;32m    131\u001b[0m     \u001b[1;32mdef\u001b[0m \u001b[0m_handle_data\u001b[0m\u001b[1;33m(\u001b[0m\u001b[0mself\u001b[0m\u001b[1;33m,\u001b[0m \u001b[0mendog\u001b[0m\u001b[1;33m,\u001b[0m \u001b[0mexog\u001b[0m\u001b[1;33m,\u001b[0m \u001b[0mmissing\u001b[0m\u001b[1;33m,\u001b[0m \u001b[0mhasconst\u001b[0m\u001b[1;33m,\u001b[0m \u001b[1;33m**\u001b[0m\u001b[0mkwargs\u001b[0m\u001b[1;33m)\u001b[0m\u001b[1;33m:\u001b[0m\u001b[1;33m\u001b[0m\u001b[1;33m\u001b[0m\u001b[0m\n\u001b[1;32m--> 132\u001b[1;33m         \u001b[0mdata\u001b[0m \u001b[1;33m=\u001b[0m \u001b[0mhandle_data\u001b[0m\u001b[1;33m(\u001b[0m\u001b[0mendog\u001b[0m\u001b[1;33m,\u001b[0m \u001b[0mexog\u001b[0m\u001b[1;33m,\u001b[0m \u001b[0mmissing\u001b[0m\u001b[1;33m,\u001b[0m \u001b[0mhasconst\u001b[0m\u001b[1;33m,\u001b[0m \u001b[1;33m**\u001b[0m\u001b[0mkwargs\u001b[0m\u001b[1;33m)\u001b[0m\u001b[1;33m\u001b[0m\u001b[1;33m\u001b[0m\u001b[0m\n\u001b[0m\u001b[0;32m    133\u001b[0m         \u001b[1;31m# kwargs arrays could have changed, easier to just attach here\u001b[0m\u001b[1;33m\u001b[0m\u001b[1;33m\u001b[0m\u001b[0m\n\u001b[0;32m    134\u001b[0m         \u001b[1;32mfor\u001b[0m \u001b[0mkey\u001b[0m \u001b[1;32min\u001b[0m \u001b[0mkwargs\u001b[0m\u001b[1;33m:\u001b[0m\u001b[1;33m\u001b[0m\u001b[1;33m\u001b[0m\u001b[0m\n",
            "\u001b[1;32mc:\\Users\\ASUS\\anaconda3\\lib\\site-packages\\statsmodels\\base\\data.py\u001b[0m in \u001b[0;36mhandle_data\u001b[1;34m(endog, exog, missing, hasconst, **kwargs)\u001b[0m\n\u001b[0;32m    671\u001b[0m \u001b[1;33m\u001b[0m\u001b[0m\n\u001b[0;32m    672\u001b[0m     \u001b[0mklass\u001b[0m \u001b[1;33m=\u001b[0m \u001b[0mhandle_data_class_factory\u001b[0m\u001b[1;33m(\u001b[0m\u001b[0mendog\u001b[0m\u001b[1;33m,\u001b[0m \u001b[0mexog\u001b[0m\u001b[1;33m)\u001b[0m\u001b[1;33m\u001b[0m\u001b[1;33m\u001b[0m\u001b[0m\n\u001b[1;32m--> 673\u001b[1;33m     return klass(endog, exog=exog, missing=missing, hasconst=hasconst,\n\u001b[0m\u001b[0;32m    674\u001b[0m                  **kwargs)\n",
            "\u001b[1;32mc:\\Users\\ASUS\\anaconda3\\lib\\site-packages\\statsmodels\\base\\data.py\u001b[0m in \u001b[0;36m__init__\u001b[1;34m(self, endog, exog, missing, hasconst, **kwargs)\u001b[0m\n\u001b[0;32m     85\u001b[0m         \u001b[0mself\u001b[0m\u001b[1;33m.\u001b[0m\u001b[0mk_constant\u001b[0m \u001b[1;33m=\u001b[0m \u001b[1;36m0\u001b[0m\u001b[1;33m\u001b[0m\u001b[1;33m\u001b[0m\u001b[0m\n\u001b[0;32m     86\u001b[0m         \u001b[0mself\u001b[0m\u001b[1;33m.\u001b[0m\u001b[0m_handle_constant\u001b[0m\u001b[1;33m(\u001b[0m\u001b[0mhasconst\u001b[0m\u001b[1;33m)\u001b[0m\u001b[1;33m\u001b[0m\u001b[1;33m\u001b[0m\u001b[0m\n\u001b[1;32m---> 87\u001b[1;33m         \u001b[0mself\u001b[0m\u001b[1;33m.\u001b[0m\u001b[0m_check_integrity\u001b[0m\u001b[1;33m(\u001b[0m\u001b[1;33m)\u001b[0m\u001b[1;33m\u001b[0m\u001b[1;33m\u001b[0m\u001b[0m\n\u001b[0m\u001b[0;32m     88\u001b[0m         \u001b[0mself\u001b[0m\u001b[1;33m.\u001b[0m\u001b[0m_cache\u001b[0m \u001b[1;33m=\u001b[0m \u001b[1;33m{\u001b[0m\u001b[1;33m}\u001b[0m\u001b[1;33m\u001b[0m\u001b[1;33m\u001b[0m\u001b[0m\n\u001b[0;32m     89\u001b[0m \u001b[1;33m\u001b[0m\u001b[0m\n",
            "\u001b[1;32mc:\\Users\\ASUS\\anaconda3\\lib\\site-packages\\statsmodels\\base\\data.py\u001b[0m in \u001b[0;36m_check_integrity\u001b[1;34m(self)\u001b[0m\n\u001b[0;32m    530\u001b[0m                 not self.orig_endog.index.equals(self.orig_exog.index)):\n\u001b[0;32m    531\u001b[0m             \u001b[1;32mraise\u001b[0m \u001b[0mValueError\u001b[0m\u001b[1;33m(\u001b[0m\u001b[1;34m\"The indices for endog and exog are not aligned\"\u001b[0m\u001b[1;33m)\u001b[0m\u001b[1;33m\u001b[0m\u001b[1;33m\u001b[0m\u001b[0m\n\u001b[1;32m--> 532\u001b[1;33m         \u001b[0msuper\u001b[0m\u001b[1;33m(\u001b[0m\u001b[0mPandasData\u001b[0m\u001b[1;33m,\u001b[0m \u001b[0mself\u001b[0m\u001b[1;33m)\u001b[0m\u001b[1;33m.\u001b[0m\u001b[0m_check_integrity\u001b[0m\u001b[1;33m(\u001b[0m\u001b[1;33m)\u001b[0m\u001b[1;33m\u001b[0m\u001b[1;33m\u001b[0m\u001b[0m\n\u001b[0m\u001b[0;32m    533\u001b[0m \u001b[1;33m\u001b[0m\u001b[0m\n\u001b[0;32m    534\u001b[0m     \u001b[1;32mdef\u001b[0m \u001b[0m_get_row_labels\u001b[0m\u001b[1;33m(\u001b[0m\u001b[0mself\u001b[0m\u001b[1;33m,\u001b[0m \u001b[0marr\u001b[0m\u001b[1;33m)\u001b[0m\u001b[1;33m:\u001b[0m\u001b[1;33m\u001b[0m\u001b[1;33m\u001b[0m\u001b[0m\n",
            "\u001b[1;32mc:\\Users\\ASUS\\anaconda3\\lib\\site-packages\\statsmodels\\base\\data.py\u001b[0m in \u001b[0;36m_check_integrity\u001b[1;34m(self)\u001b[0m\n\u001b[0;32m    432\u001b[0m         \u001b[1;32mif\u001b[0m \u001b[0mself\u001b[0m\u001b[1;33m.\u001b[0m\u001b[0mexog\u001b[0m \u001b[1;32mis\u001b[0m \u001b[1;32mnot\u001b[0m \u001b[1;32mNone\u001b[0m\u001b[1;33m:\u001b[0m\u001b[1;33m\u001b[0m\u001b[1;33m\u001b[0m\u001b[0m\n\u001b[0;32m    433\u001b[0m             \u001b[1;32mif\u001b[0m \u001b[0mlen\u001b[0m\u001b[1;33m(\u001b[0m\u001b[0mself\u001b[0m\u001b[1;33m.\u001b[0m\u001b[0mexog\u001b[0m\u001b[1;33m)\u001b[0m \u001b[1;33m!=\u001b[0m \u001b[0mlen\u001b[0m\u001b[1;33m(\u001b[0m\u001b[0mself\u001b[0m\u001b[1;33m.\u001b[0m\u001b[0mendog\u001b[0m\u001b[1;33m)\u001b[0m\u001b[1;33m:\u001b[0m\u001b[1;33m\u001b[0m\u001b[1;33m\u001b[0m\u001b[0m\n\u001b[1;32m--> 434\u001b[1;33m                 \u001b[1;32mraise\u001b[0m \u001b[0mValueError\u001b[0m\u001b[1;33m(\u001b[0m\u001b[1;34m\"endog and exog matrices are different sizes\"\u001b[0m\u001b[1;33m)\u001b[0m\u001b[1;33m\u001b[0m\u001b[1;33m\u001b[0m\u001b[0m\n\u001b[0m\u001b[0;32m    435\u001b[0m \u001b[1;33m\u001b[0m\u001b[0m\n\u001b[0;32m    436\u001b[0m     \u001b[1;32mdef\u001b[0m \u001b[0mwrap_output\u001b[0m\u001b[1;33m(\u001b[0m\u001b[0mself\u001b[0m\u001b[1;33m,\u001b[0m \u001b[0mobj\u001b[0m\u001b[1;33m,\u001b[0m \u001b[0mhow\u001b[0m\u001b[1;33m=\u001b[0m\u001b[1;34m'columns'\u001b[0m\u001b[1;33m,\u001b[0m \u001b[0mnames\u001b[0m\u001b[1;33m=\u001b[0m\u001b[1;32mNone\u001b[0m\u001b[1;33m)\u001b[0m\u001b[1;33m:\u001b[0m\u001b[1;33m\u001b[0m\u001b[1;33m\u001b[0m\u001b[0m\n",
            "\u001b[1;31mValueError\u001b[0m: endog and exog matrices are different sizes"
          ]
        }
      ],
      "source": [
        "import statsmodels.api as sm\n",
        "formula = 'AR_Type', 'Bidang_Baku', 'Tipe', 'Bandwidth', 'Biaya_Sewa','Kabupaten/Kota', 'Wilayah'\n",
        "lm = sm.OLS(formula, data7).fit()\n",
        "table = sm.stats.anova_lm(lm, typ=2)\n",
        "print(table)"
      ]
    },
    {
      "cell_type": "code",
      "execution_count": 77,
      "metadata": {},
      "outputs": [
        {
          "name": "stdout",
          "output_type": "stream",
          "text": [
            "Train Set Accuracy:99.94152046783626\n",
            "Test Set Accuracy:95.34883720930233\n",
            "\n",
            "Confusion Matrix:\n",
            "[[ 0  0  0  1  0]\n",
            " [ 0  3  0  0  1]\n",
            " [ 0  0 80  1  0]\n",
            " [ 0  0  2 21  0]\n",
            " [ 0  1  0  0 19]]\n",
            "\n",
            "Classification Report:\n",
            "              precision    recall  f1-score   support\n",
            "\n",
            "           1       0.00      0.00      0.00         1\n",
            "           2       0.75      0.75      0.75         4\n",
            "           3       0.98      0.99      0.98        81\n",
            "           4       0.91      0.91      0.91        23\n",
            "           5       0.95      0.95      0.95        20\n",
            "\n",
            "    accuracy                           0.95       129\n",
            "   macro avg       0.72      0.72      0.72       129\n",
            "weighted avg       0.95      0.95      0.95       129\n",
            "\n"
          ]
        },
        {
          "name": "stderr",
          "output_type": "stream",
          "text": [
            "c:\\Users\\ASUS\\anaconda3\\lib\\site-packages\\sklearn\\metrics\\_classification.py:1318: UndefinedMetricWarning: Precision and F-score are ill-defined and being set to 0.0 in labels with no predicted samples. Use `zero_division` parameter to control this behavior.\n",
            "  _warn_prf(average, modifier, msg_start, len(result))\n",
            "c:\\Users\\ASUS\\anaconda3\\lib\\site-packages\\sklearn\\metrics\\_classification.py:1318: UndefinedMetricWarning: Precision and F-score are ill-defined and being set to 0.0 in labels with no predicted samples. Use `zero_division` parameter to control this behavior.\n",
            "  _warn_prf(average, modifier, msg_start, len(result))\n",
            "c:\\Users\\ASUS\\anaconda3\\lib\\site-packages\\sklearn\\metrics\\_classification.py:1318: UndefinedMetricWarning: Precision and F-score are ill-defined and being set to 0.0 in labels with no predicted samples. Use `zero_division` parameter to control this behavior.\n",
            "  _warn_prf(average, modifier, msg_start, len(result))\n"
          ]
        },
        {
          "data": {
            "text/plain": [
              "['dtc_model.pkl']"
            ]
          },
          "execution_count": 77,
          "metadata": {},
          "output_type": "execute_result"
        }
      ],
      "source": [
        "dtc = DecisionTreeClassifier(criterion='entropy', splitter='best')\n",
        "\n",
        "# Create the pipeline including the transformer, scaler, and logistic regression model\n",
        "base_model_pipe_dtc = make_pipeline(StandardScaler(with_mean=False), dtc)\n",
        "\n",
        "# Fit the pipeline on the training data\n",
        "base_model_pipe_dtc.fit(X_train_oversampled, y_train_oversampled)\n",
        "\n",
        "y_test_pred3 = base_model_pipe_dtc.predict(X_test)\n",
        "y_train_pred3 = base_model_pipe_dtc.predict(X_train_oversampled)\n",
        "\n",
        "print(\"Train Set Accuracy:\"+str(accuracy_score(y_train_pred3,y_train_oversampled)*100))\n",
        "print(\"Test Set Accuracy:\"+str(accuracy_score(y_test_pred3,y_test)*100))\n",
        "\n",
        "#Confusion matrix and classification report\n",
        "print(\"\\nConfusion Matrix:\\n%s\"%confusion_matrix(y_test_pred3,y_test))\n",
        "print(\"\\nClassification Report:\\n%s\"%classification_report(y_test_pred3,y_test))\n",
        "\n",
        "# Save the trained model as a .pkl file\n",
        "joblib.dump(base_model_pipe_dtc, 'dtc_model.pkl')"
      ]
    },
    {
      "cell_type": "code",
      "execution_count": 81,
      "metadata": {},
      "outputs": [
        {
          "name": "stdout",
          "output_type": "stream",
          "text": [
            "Train Set Accuracy:78.90625\n",
            "Test Set Accuracy:82.94573643410853\n",
            "\n",
            "Confusion Matrix:\n",
            "[[ 1  0  0  2]\n",
            " [ 0 78 13  0]\n",
            " [ 0  4 10  0]\n",
            " [ 3  0  0 18]]\n",
            "\n",
            "Classification Report:\n",
            "              precision    recall  f1-score   support\n",
            "\n",
            "           2       0.25      0.33      0.29         3\n",
            "           3       0.95      0.86      0.90        91\n",
            "           4       0.43      0.71      0.54        14\n",
            "           5       0.90      0.86      0.88        21\n",
            "\n",
            "    accuracy                           0.83       129\n",
            "   macro avg       0.63      0.69      0.65       129\n",
            "weighted avg       0.87      0.83      0.84       129\n",
            "\n"
          ]
        },
        {
          "data": {
            "text/plain": [
              "['mnb_model.pkl']"
            ]
          },
          "execution_count": 81,
          "metadata": {},
          "output_type": "execute_result"
        }
      ],
      "source": [
        "from sklearn.naive_bayes import MultinomialNB\n",
        "mnb = MultinomialNB()\n",
        "\n",
        "# Create the pipeline including the transformer, scaler, and logistic regression model\n",
        "base_model_pipe_mnb = make_pipeline(StandardScaler(with_mean=False), mnb)\n",
        "\n",
        "# Fit the pipeline on the training data\n",
        "base_model_pipe_mnb.fit(X_train, y_train)\n",
        "\n",
        "y_test_pred2 = base_model_pipe_mnb.predict(X_test)\n",
        "y_train_pred2= base_model_pipe_mnb.predict(X_train)\n",
        "\n",
        "print(\"Train Set Accuracy:\"+str(accuracy_score(y_train_pred2,y_train)*100))\n",
        "print(\"Test Set Accuracy:\"+str(accuracy_score(y_test_pred2,y_test)*100))\n",
        "\n",
        "#Confusion matrix and classification report\n",
        "print(\"\\nConfusion Matrix:\\n%s\"%confusion_matrix(y_test_pred2,y_test))\n",
        "print(\"\\nClassification Report:\\n%s\"%classification_report(y_test_pred2,y_test))\n",
        "\n",
        "# Save the trained model as a .pkl file\n",
        "joblib.dump(base_model_pipe_mnb, 'mnb_model.pkl')"
      ]
    },
    {
      "cell_type": "markdown",
      "metadata": {
        "id": "wDbOEehj13gb"
      },
      "source": [
        "## Evaluation"
      ]
    },
    {
      "cell_type": "code",
      "execution_count": null,
      "metadata": {
        "id": "Ne2eG7IK4joY"
      },
      "outputs": [],
      "source": [
        "# from sklearn.metrics import roc_curve, roc_auc_score\n",
        "\n",
        "\n",
        "# y_pred_proba = lr.predict_proba(np.array(X_test))[:,1]\n",
        "\n",
        "# fpr, tpr, thresholds = roc_curve(y_test, y_pred_proba)\n",
        "\n",
        "# sns.set()\n",
        "\n",
        "# plt.plot(fpr, tpr)\n",
        "\n",
        "# plt.plot(fpr, fpr, linestyle = '--', color = 'k')\n",
        "\n",
        "# plt.xlabel('False positive rate')\n",
        "\n",
        "# plt.ylabel('True positive rate')\n",
        "\n",
        "# AUROC = np.round(roc_auc_score(y_test, y_pred_proba), 2)\n",
        "\n",
        "# plt.title(f'Logistic Regression Model ROC curve; AUROC: {AUROC}');\n",
        "\n",
        "# plt.show()"
      ]
    },
    {
      "cell_type": "code",
      "execution_count": null,
      "metadata": {
        "id": "rMaLfQiq2heo"
      },
      "outputs": [],
      "source": [
        "# # Importing all necessary libraries\n",
        "# from sklearn.metrics import roc_curve, auc\n",
        "\n",
        "# class_probabilities = lr.predict_proba(X_test)\n",
        "# preds = class_probabilities[:, 1]\n",
        "\n",
        "# fpr, tpr, threshold = roc_curve(y_test, preds)\n",
        "# roc_auc = auc(fpr, tpr)\n",
        "\n",
        "# # Printing AUC\n",
        "# print(f\"AUC for our classifier is: {roc_auc}\")\n",
        "\n",
        "# # Plotting the ROC\n",
        "# plt.title('Receiver Operating Characteristic')\n",
        "# plt.plot(fpr, tpr, 'b', label = 'AUC = %0.2f' % roc_auc)\n",
        "# plt.legend(loc = 'lower right')\n",
        "# plt.plot([0, 1], [0, 1],'r--')\n",
        "# plt.xlim([0, 1])\n",
        "# plt.ylim([0, 1])\n",
        "# plt.ylabel('True Positive Rate')\n",
        "# plt.xlabel('False Positive Rate')\n",
        "# plt.show()"
      ]
    },
    {
      "cell_type": "code",
      "execution_count": null,
      "metadata": {
        "id": "Wignkqrp172H"
      },
      "outputs": [],
      "source": [
        "# # Perform cross-validation\n",
        "# cv_scores = cross_val_score(lr, X, y, cv=5)\n",
        "\n",
        "# # Print the cross-validation scores\n",
        "# print('Cross-Validation Scores:', cv_scores)\n",
        "# print('Average Accuracy:', cv_scores.mean())"
      ]
    }
  ],
  "metadata": {
    "accelerator": "GPU",
    "colab": {
      "collapsed_sections": [
        "mHxYPTuGNG9b"
      ],
      "gpuType": "T4",
      "provenance": []
    },
    "kernelspec": {
      "display_name": "Python 3",
      "name": "python3"
    },
    "language_info": {
      "codemirror_mode": {
        "name": "ipython",
        "version": 3
      },
      "file_extension": ".py",
      "mimetype": "text/x-python",
      "name": "python",
      "nbconvert_exporter": "python",
      "pygments_lexer": "ipython3",
      "version": "3.9.13"
    }
  },
  "nbformat": 4,
  "nbformat_minor": 0
}
