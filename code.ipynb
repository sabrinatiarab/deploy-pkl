{
  "cells": [
    {
      "cell_type": "markdown",
      "metadata": {
        "id": "CE016gf7PrUS"
      },
      "source": [
        "# **Data Cleaning**"
      ]
    },
    {
      "cell_type": "markdown",
      "metadata": {
        "id": "jSk6vaiTNdjV"
      },
      "source": [
        "## **Import Package**"
      ]
    },
    {
      "cell_type": "code",
      "execution_count": 154,
      "metadata": {
        "id": "p0kdTMqFNdVu"
      },
      "outputs": [],
      "source": [
        "import pandas as pd\n",
        "import numpy as np\n",
        "import seaborn as sns\n",
        "import matplotlib.pyplot as plt\n",
        "%matplotlib inline\n",
        "\n",
        "# Import additional files with statistical functions\n",
        "import sys\n",
        "import os"
      ]
    },
    {
      "cell_type": "markdown",
      "metadata": {
        "id": "ZoLHunh8NRWP"
      },
      "source": [
        "### **Data**"
      ]
    },
    {
      "cell_type": "code",
      "execution_count": 155,
      "metadata": {
        "colab": {
          "base_uri": "https://localhost:8080/",
          "height": 721
        },
        "id": "0_0uiLnNNOP_",
        "outputId": "49fdb3d1-2a5a-4b69-933d-11228b495eeb"
      },
      "outputs": [
        {
          "data": {
            "text/html": [
              "<div>\n",
              "<style scoped>\n",
              "    .dataframe tbody tr th:only-of-type {\n",
              "        vertical-align: middle;\n",
              "    }\n",
              "\n",
              "    .dataframe tbody tr th {\n",
              "        vertical-align: top;\n",
              "    }\n",
              "\n",
              "    .dataframe thead th {\n",
              "        text-align: right;\n",
              "    }\n",
              "</style>\n",
              "<table border=\"1\" class=\"dataframe\">\n",
              "  <thead>\n",
              "    <tr style=\"text-align: right;\">\n",
              "      <th></th>\n",
              "      <th>Nomor</th>\n",
              "      <th>AR_Type</th>\n",
              "      <th>Cust Name</th>\n",
              "      <th>Segment</th>\n",
              "      <th>Bidang_Baku</th>\n",
              "      <th>Tipe</th>\n",
              "      <th>Layanan</th>\n",
              "      <th>Bandwidth</th>\n",
              "      <th>Biaya_Sewa</th>\n",
              "      <th>Address Terminating</th>\n",
              "      <th>SBU_Ter</th>\n",
              "      <th>AL_Status</th>\n",
              "      <th>Kabupaten/Kota</th>\n",
              "      <th>Wilayah</th>\n",
              "    </tr>\n",
              "  </thead>\n",
              "  <tbody>\n",
              "    <tr>\n",
              "      <th>0</th>\n",
              "      <td>1</td>\n",
              "      <td>Change Tariff</td>\n",
              "      <td>DINAS KOMUNIKASI DAN INFORMATIKA STATISTIK DAN...</td>\n",
              "      <td>Government</td>\n",
              "      <td>NaN</td>\n",
              "      <td>NaN</td>\n",
              "      <td>Bronze</td>\n",
              "      <td>Units</td>\n",
              "      <td>190000.0</td>\n",
              "      <td>(Kantor Kecamatan Singgahan) Jojogan, Mulyoagu...</td>\n",
              "      <td>SBU REG JAWA BAGIAN TIMUR</td>\n",
              "      <td>Active</td>\n",
              "      <td>Kabupaten</td>\n",
              "      <td>Tuban</td>\n",
              "    </tr>\n",
              "    <tr>\n",
              "      <th>1</th>\n",
              "      <td>2</td>\n",
              "      <td>Change Tariff</td>\n",
              "      <td>DINAS KOMUNIKASI DAN INFORMATIKA STATISTIK DAN...</td>\n",
              "      <td>Government</td>\n",
              "      <td>NaN</td>\n",
              "      <td>NaN</td>\n",
              "      <td>Bronze</td>\n",
              "      <td>Units</td>\n",
              "      <td>190000.0</td>\n",
              "      <td>(Kantor Kecamatan Plumpang) Jl. Raya Plumpang ...</td>\n",
              "      <td>SBU REG JAWA BAGIAN TIMUR</td>\n",
              "      <td>Active</td>\n",
              "      <td>Kabupaten</td>\n",
              "      <td>Tuban</td>\n",
              "    </tr>\n",
              "    <tr>\n",
              "      <th>2</th>\n",
              "      <td>3</td>\n",
              "      <td>Change Tariff</td>\n",
              "      <td>DINAS KOMUNIKASI DAN INFORMATIKA STATISTIK DAN...</td>\n",
              "      <td>Government</td>\n",
              "      <td>NaN</td>\n",
              "      <td>NaN</td>\n",
              "      <td>Bronze</td>\n",
              "      <td>Units</td>\n",
              "      <td>190000.0</td>\n",
              "      <td>(Kantor Kecamatan Parengan) Jl. Cokrokusumo No...</td>\n",
              "      <td>SBU REG JAWA BAGIAN TIMUR</td>\n",
              "      <td>Active</td>\n",
              "      <td>Kabupaten</td>\n",
              "      <td>Tuban</td>\n",
              "    </tr>\n",
              "    <tr>\n",
              "      <th>3</th>\n",
              "      <td>4</td>\n",
              "      <td>Change Tariff</td>\n",
              "      <td>DINAS KOMUNIKASI DAN INFORMATIKA STATISTIK DAN...</td>\n",
              "      <td>Government</td>\n",
              "      <td>NaN</td>\n",
              "      <td>NaN</td>\n",
              "      <td>Bronze</td>\n",
              "      <td>Units</td>\n",
              "      <td>190000.0</td>\n",
              "      <td>(Kantor Kecamatan Kerek) Jalan Raya Kresek No....</td>\n",
              "      <td>SBU REG JAWA BAGIAN TIMUR</td>\n",
              "      <td>Active</td>\n",
              "      <td>Kabupaten</td>\n",
              "      <td>Tuban</td>\n",
              "    </tr>\n",
              "    <tr>\n",
              "      <th>4</th>\n",
              "      <td>5</td>\n",
              "      <td>Change Tariff</td>\n",
              "      <td>DINAS KOMUNIKASI DAN INFORMATIKA STATISTIK DAN...</td>\n",
              "      <td>Government</td>\n",
              "      <td>NaN</td>\n",
              "      <td>NaN</td>\n",
              "      <td>Bronze</td>\n",
              "      <td>Units</td>\n",
              "      <td>190000.0</td>\n",
              "      <td>(Kantor Kecamatan Kenduruan) Jl. Blora No. 01,...</td>\n",
              "      <td>SBU REG JAWA BAGIAN TIMUR</td>\n",
              "      <td>Active</td>\n",
              "      <td>Kabupaten</td>\n",
              "      <td>Tuban</td>\n",
              "    </tr>\n",
              "  </tbody>\n",
              "</table>\n",
              "</div>"
            ],
            "text/plain": [
              "   Nomor        AR_Type                                          Cust Name  \\\n",
              "0      1  Change Tariff  DINAS KOMUNIKASI DAN INFORMATIKA STATISTIK DAN...   \n",
              "1      2  Change Tariff  DINAS KOMUNIKASI DAN INFORMATIKA STATISTIK DAN...   \n",
              "2      3  Change Tariff  DINAS KOMUNIKASI DAN INFORMATIKA STATISTIK DAN...   \n",
              "3      4  Change Tariff  DINAS KOMUNIKASI DAN INFORMATIKA STATISTIK DAN...   \n",
              "4      5  Change Tariff  DINAS KOMUNIKASI DAN INFORMATIKA STATISTIK DAN...   \n",
              "\n",
              "      Segment Bidang_Baku Tipe Layanan Bandwidth  Biaya_Sewa  \\\n",
              "0  Government         NaN  NaN  Bronze     Units    190000.0   \n",
              "1  Government         NaN  NaN  Bronze     Units    190000.0   \n",
              "2  Government         NaN  NaN  Bronze     Units    190000.0   \n",
              "3  Government         NaN  NaN  Bronze     Units    190000.0   \n",
              "4  Government         NaN  NaN  Bronze     Units    190000.0   \n",
              "\n",
              "                                 Address Terminating  \\\n",
              "0  (Kantor Kecamatan Singgahan) Jojogan, Mulyoagu...   \n",
              "1  (Kantor Kecamatan Plumpang) Jl. Raya Plumpang ...   \n",
              "2  (Kantor Kecamatan Parengan) Jl. Cokrokusumo No...   \n",
              "3  (Kantor Kecamatan Kerek) Jalan Raya Kresek No....   \n",
              "4  (Kantor Kecamatan Kenduruan) Jl. Blora No. 01,...   \n",
              "\n",
              "                     SBU_Ter AL_Status Kabupaten/Kota Wilayah  \n",
              "0  SBU REG JAWA BAGIAN TIMUR    Active      Kabupaten   Tuban  \n",
              "1  SBU REG JAWA BAGIAN TIMUR    Active      Kabupaten   Tuban  \n",
              "2  SBU REG JAWA BAGIAN TIMUR    Active      Kabupaten   Tuban  \n",
              "3  SBU REG JAWA BAGIAN TIMUR    Active      Kabupaten   Tuban  \n",
              "4  SBU REG JAWA BAGIAN TIMUR    Active      Kabupaten   Tuban  "
            ]
          },
          "execution_count": 155,
          "metadata": {},
          "output_type": "execute_result"
        }
      ],
      "source": [
        "data = pd.read_excel('DATA AR JANUARI - MEI 2023 - FIX - Copy.xlsx')\n",
        "data.head()"
      ]
    },
    {
      "cell_type": "markdown",
      "metadata": {
        "id": "UbkoSYHfqO_m"
      },
      "source": [
        "## **Feature Engineering**"
      ]
    },
    {
      "cell_type": "code",
      "execution_count": 156,
      "metadata": {
        "colab": {
          "base_uri": "https://localhost:8080/",
          "height": 617
        },
        "id": "ar-CEdqjUfhI",
        "outputId": "72a8f598-635a-4c20-ad3d-598b6c87f7e1"
      },
      "outputs": [
        {
          "data": {
            "text/html": [
              "<div>\n",
              "<style scoped>\n",
              "    .dataframe tbody tr th:only-of-type {\n",
              "        vertical-align: middle;\n",
              "    }\n",
              "\n",
              "    .dataframe tbody tr th {\n",
              "        vertical-align: top;\n",
              "    }\n",
              "\n",
              "    .dataframe thead th {\n",
              "        text-align: right;\n",
              "    }\n",
              "</style>\n",
              "<table border=\"1\" class=\"dataframe\">\n",
              "  <thead>\n",
              "    <tr style=\"text-align: right;\">\n",
              "      <th></th>\n",
              "      <th>Nomor</th>\n",
              "      <th>AR_Type</th>\n",
              "      <th>Cust Name</th>\n",
              "      <th>Segment</th>\n",
              "      <th>Bidang_Baku</th>\n",
              "      <th>Tipe</th>\n",
              "      <th>Layanan</th>\n",
              "      <th>Bandwidth</th>\n",
              "      <th>Biaya_Sewa</th>\n",
              "      <th>Address Terminating</th>\n",
              "      <th>SBU_Ter</th>\n",
              "      <th>AL_Status</th>\n",
              "      <th>Kabupaten/Kota</th>\n",
              "      <th>Wilayah</th>\n",
              "    </tr>\n",
              "  </thead>\n",
              "  <tbody>\n",
              "    <tr>\n",
              "      <th>217</th>\n",
              "      <td>738</td>\n",
              "      <td>New</td>\n",
              "      <td>DINAS PEMBERDAYAAN MASYARAKAT DAN DESA KABUPAT...</td>\n",
              "      <td>Government</td>\n",
              "      <td>Administrasi Pemerintahan, Pertahanan Dan Jami...</td>\n",
              "      <td>Internet</td>\n",
              "      <td>Internet Broadband Corporate</td>\n",
              "      <td>50</td>\n",
              "      <td>0.0</td>\n",
              "      <td>Kantor DPMD Kab. Banyuwangi Jl. AdiSucipto, Tu...</td>\n",
              "      <td>SBU REG JAWA BAGIAN TIMUR</td>\n",
              "      <td>Active</td>\n",
              "      <td>Kabupaten</td>\n",
              "      <td>Banyuwangi</td>\n",
              "    </tr>\n",
              "    <tr>\n",
              "      <th>218</th>\n",
              "      <td>738</td>\n",
              "      <td>New</td>\n",
              "      <td>SMP NEGERI 1 NGLEGOK BLITAR</td>\n",
              "      <td>Education</td>\n",
              "      <td>Pendidikan</td>\n",
              "      <td>Internet</td>\n",
              "      <td>Internet Broadband Corporate</td>\n",
              "      <td>100</td>\n",
              "      <td>1800000.0</td>\n",
              "      <td>Jl. SMP Desa Dayu,Nglegok ,Kabupaten Blitar ,J...</td>\n",
              "      <td>SBU REG JAWA BAGIAN TIMUR</td>\n",
              "      <td>Active</td>\n",
              "      <td>Kabupaten</td>\n",
              "      <td>Blitar</td>\n",
              "    </tr>\n",
              "    <tr>\n",
              "      <th>219</th>\n",
              "      <td>738</td>\n",
              "      <td>New</td>\n",
              "      <td>DESA TEBALO KECAMATAN MANYAR KAB. GRESIK</td>\n",
              "      <td>Government</td>\n",
              "      <td>Administrasi Pemerintahan, Pertahanan Dan Jami...</td>\n",
              "      <td>Internet</td>\n",
              "      <td>Internet Broadband Corporate</td>\n",
              "      <td>20</td>\n",
              "      <td>520000.0</td>\n",
              "      <td>Kantor Balai Desa Tebalo Jalan Raya Masjid Jam...</td>\n",
              "      <td>SBU REG JAWA BAGIAN TIMUR</td>\n",
              "      <td>Active</td>\n",
              "      <td>Kabupaten</td>\n",
              "      <td>Gresik</td>\n",
              "    </tr>\n",
              "    <tr>\n",
              "      <th>260</th>\n",
              "      <td>738</td>\n",
              "      <td>New</td>\n",
              "      <td>PT. RISET PERKEBUNAN NUSANTARA</td>\n",
              "      <td>Manufacture</td>\n",
              "      <td>Aktivitas Profesional, Ilmiah Dan Teknis</td>\n",
              "      <td>Internet</td>\n",
              "      <td>Internet Broadband Corporate</td>\n",
              "      <td>100</td>\n",
              "      <td>1415000.0</td>\n",
              "      <td>Jl. Kaliwining, Gebang, Nogosari,  Rambipuji, ...</td>\n",
              "      <td>SBU REG JAWA BAGIAN TIMUR</td>\n",
              "      <td>Active</td>\n",
              "      <td>Kota</td>\n",
              "      <td>Jember</td>\n",
              "    </tr>\n",
              "    <tr>\n",
              "      <th>262</th>\n",
              "      <td>738</td>\n",
              "      <td>New</td>\n",
              "      <td>DINAS KOMUNIKASI DAN INFORMATIKA KABUPATEN JEMBER</td>\n",
              "      <td>Government</td>\n",
              "      <td>Administrasi Pemerintahan, Pertahanan Dan Jami...</td>\n",
              "      <td>Internet</td>\n",
              "      <td>Internet Broadband Corporate</td>\n",
              "      <td>50</td>\n",
              "      <td>0.0</td>\n",
              "      <td>Kaliwates, Jl. PB Sudirman, Kp. Using, Jemberl...</td>\n",
              "      <td>SBU REG JAWA BAGIAN TIMUR</td>\n",
              "      <td>Active</td>\n",
              "      <td>Kabupaten</td>\n",
              "      <td>Jember</td>\n",
              "    </tr>\n",
              "  </tbody>\n",
              "</table>\n",
              "</div>"
            ],
            "text/plain": [
              "     Nomor AR_Type                                          Cust Name  \\\n",
              "217    738     New  DINAS PEMBERDAYAAN MASYARAKAT DAN DESA KABUPAT...   \n",
              "218    738     New                        SMP NEGERI 1 NGLEGOK BLITAR   \n",
              "219    738     New           DESA TEBALO KECAMATAN MANYAR KAB. GRESIK   \n",
              "260    738     New                     PT. RISET PERKEBUNAN NUSANTARA   \n",
              "262    738     New  DINAS KOMUNIKASI DAN INFORMATIKA KABUPATEN JEMBER   \n",
              "\n",
              "         Segment                                        Bidang_Baku      Tipe  \\\n",
              "217   Government  Administrasi Pemerintahan, Pertahanan Dan Jami...  Internet   \n",
              "218    Education                                         Pendidikan  Internet   \n",
              "219   Government  Administrasi Pemerintahan, Pertahanan Dan Jami...  Internet   \n",
              "260  Manufacture           Aktivitas Profesional, Ilmiah Dan Teknis  Internet   \n",
              "262   Government  Administrasi Pemerintahan, Pertahanan Dan Jami...  Internet   \n",
              "\n",
              "                          Layanan Bandwidth  Biaya_Sewa  \\\n",
              "217  Internet Broadband Corporate        50         0.0   \n",
              "218  Internet Broadband Corporate       100   1800000.0   \n",
              "219  Internet Broadband Corporate        20    520000.0   \n",
              "260  Internet Broadband Corporate       100   1415000.0   \n",
              "262  Internet Broadband Corporate        50         0.0   \n",
              "\n",
              "                                   Address Terminating  \\\n",
              "217  Kantor DPMD Kab. Banyuwangi Jl. AdiSucipto, Tu...   \n",
              "218  Jl. SMP Desa Dayu,Nglegok ,Kabupaten Blitar ,J...   \n",
              "219  Kantor Balai Desa Tebalo Jalan Raya Masjid Jam...   \n",
              "260  Jl. Kaliwining, Gebang, Nogosari,  Rambipuji, ...   \n",
              "262  Kaliwates, Jl. PB Sudirman, Kp. Using, Jemberl...   \n",
              "\n",
              "                       SBU_Ter AL_Status Kabupaten/Kota     Wilayah  \n",
              "217  SBU REG JAWA BAGIAN TIMUR    Active      Kabupaten  Banyuwangi  \n",
              "218  SBU REG JAWA BAGIAN TIMUR    Active      Kabupaten      Blitar  \n",
              "219  SBU REG JAWA BAGIAN TIMUR    Active      Kabupaten      Gresik  \n",
              "260  SBU REG JAWA BAGIAN TIMUR    Active           Kota      Jember  \n",
              "262  SBU REG JAWA BAGIAN TIMUR    Active      Kabupaten      Jember  "
            ]
          },
          "execution_count": 156,
          "metadata": {},
          "output_type": "execute_result"
        }
      ],
      "source": [
        "#drop rows that contain specific 'value' in 'column_name'\n",
        "data2 = data[(data.Bandwidth != \"Units\") & (data.Layanan != \"Penambahan IPv4 Publik Internet Corporate\")]\n",
        "data3 = data2[data2.AL_Status == \"Active\"]\n",
        "data4 = data3[data3.SBU_Ter == \"SBU REG JAWA BAGIAN TIMUR\"]\n",
        "data5 = data4[data4.AR_Type == \"New\"]\n",
        "data5.head()"
      ]
    },
    {
      "cell_type": "code",
      "execution_count": 157,
      "metadata": {
        "colab": {
          "base_uri": "https://localhost:8080/",
          "height": 250
        },
        "id": "StR7YDpT3IRj",
        "outputId": "e5264ad2-326c-4aa6-baf1-eb73a708b6d7"
      },
      "outputs": [
        {
          "data": {
            "text/html": [
              "<div>\n",
              "<style scoped>\n",
              "    .dataframe tbody tr th:only-of-type {\n",
              "        vertical-align: middle;\n",
              "    }\n",
              "\n",
              "    .dataframe tbody tr th {\n",
              "        vertical-align: top;\n",
              "    }\n",
              "\n",
              "    .dataframe thead th {\n",
              "        text-align: right;\n",
              "    }\n",
              "</style>\n",
              "<table border=\"1\" class=\"dataframe\">\n",
              "  <thead>\n",
              "    <tr style=\"text-align: right;\">\n",
              "      <th></th>\n",
              "      <th>Bidang_Baku</th>\n",
              "      <th>Tipe</th>\n",
              "      <th>Layanan</th>\n",
              "      <th>Bandwidth</th>\n",
              "      <th>Biaya_Sewa</th>\n",
              "      <th>Kabupaten/Kota</th>\n",
              "      <th>Wilayah</th>\n",
              "    </tr>\n",
              "  </thead>\n",
              "  <tbody>\n",
              "    <tr>\n",
              "      <th>217</th>\n",
              "      <td>Administrasi Pemerintahan, Pertahanan Dan Jami...</td>\n",
              "      <td>Internet</td>\n",
              "      <td>Internet Broadband Corporate</td>\n",
              "      <td>50</td>\n",
              "      <td>0.0</td>\n",
              "      <td>Kabupaten</td>\n",
              "      <td>Banyuwangi</td>\n",
              "    </tr>\n",
              "    <tr>\n",
              "      <th>218</th>\n",
              "      <td>Pendidikan</td>\n",
              "      <td>Internet</td>\n",
              "      <td>Internet Broadband Corporate</td>\n",
              "      <td>100</td>\n",
              "      <td>1800000.0</td>\n",
              "      <td>Kabupaten</td>\n",
              "      <td>Blitar</td>\n",
              "    </tr>\n",
              "    <tr>\n",
              "      <th>219</th>\n",
              "      <td>Administrasi Pemerintahan, Pertahanan Dan Jami...</td>\n",
              "      <td>Internet</td>\n",
              "      <td>Internet Broadband Corporate</td>\n",
              "      <td>20</td>\n",
              "      <td>520000.0</td>\n",
              "      <td>Kabupaten</td>\n",
              "      <td>Gresik</td>\n",
              "    </tr>\n",
              "    <tr>\n",
              "      <th>260</th>\n",
              "      <td>Aktivitas Profesional, Ilmiah Dan Teknis</td>\n",
              "      <td>Internet</td>\n",
              "      <td>Internet Broadband Corporate</td>\n",
              "      <td>100</td>\n",
              "      <td>1415000.0</td>\n",
              "      <td>Kota</td>\n",
              "      <td>Jember</td>\n",
              "    </tr>\n",
              "    <tr>\n",
              "      <th>262</th>\n",
              "      <td>Administrasi Pemerintahan, Pertahanan Dan Jami...</td>\n",
              "      <td>Internet</td>\n",
              "      <td>Internet Broadband Corporate</td>\n",
              "      <td>50</td>\n",
              "      <td>0.0</td>\n",
              "      <td>Kabupaten</td>\n",
              "      <td>Jember</td>\n",
              "    </tr>\n",
              "  </tbody>\n",
              "</table>\n",
              "</div>"
            ],
            "text/plain": [
              "                                           Bidang_Baku      Tipe  \\\n",
              "217  Administrasi Pemerintahan, Pertahanan Dan Jami...  Internet   \n",
              "218                                         Pendidikan  Internet   \n",
              "219  Administrasi Pemerintahan, Pertahanan Dan Jami...  Internet   \n",
              "260           Aktivitas Profesional, Ilmiah Dan Teknis  Internet   \n",
              "262  Administrasi Pemerintahan, Pertahanan Dan Jami...  Internet   \n",
              "\n",
              "                          Layanan Bandwidth  Biaya_Sewa Kabupaten/Kota  \\\n",
              "217  Internet Broadband Corporate        50         0.0      Kabupaten   \n",
              "218  Internet Broadband Corporate       100   1800000.0      Kabupaten   \n",
              "219  Internet Broadband Corporate        20    520000.0      Kabupaten   \n",
              "260  Internet Broadband Corporate       100   1415000.0           Kota   \n",
              "262  Internet Broadband Corporate        50         0.0      Kabupaten   \n",
              "\n",
              "        Wilayah  \n",
              "217  Banyuwangi  \n",
              "218      Blitar  \n",
              "219      Gresik  \n",
              "260      Jember  \n",
              "262      Jember  "
            ]
          },
          "execution_count": 157,
          "metadata": {},
          "output_type": "execute_result"
        }
      ],
      "source": [
        "data6 = data5.drop(['Nomor', 'Segment','Cust Name', 'Address Terminating', 'SBU_Ter', 'AL_Status','AR_Type'], axis=1)\n",
        "data6.head()"
      ]
    },
    {
      "cell_type": "code",
      "execution_count": 158,
      "metadata": {
        "colab": {
          "base_uri": "https://localhost:8080/"
        },
        "id": "6_v3ijX0QRr5",
        "outputId": "1ff3f2dc-5945-44e4-9ab0-cd128f9707c0"
      },
      "outputs": [
        {
          "data": {
            "text/plain": [
              "Administrasi Pemerintahan, Pertahanan Dan Jaminan Sosial Wajib    383\n",
              "Pendidikan                                                         20\n",
              "Industri Pengolahan                                                 8\n",
              "Aktivitas Kesehatan Manusia Dan Aktivitas Sosial                    5\n",
              "Pengadaan Listrik, Gas, Uap/Air Panas Dan Udara Dingin              4\n",
              "Informasi dan Komunikasi                                            4\n",
              "Kesenian, Hiburan, dan Rekreasi                                     3\n",
              "Aktivitas Profesional, Ilmiah Dan Teknis                            2\n",
              "Pertanian, Kehutanan dan Perikanan                                  2\n",
              "Real Estat                                                          2\n",
              "Aktivitas Keuangan dan Asuransi                                     1\n",
              "Pengangkutan dan Pergudangan                                        1\n",
              "Name: Bidang_Baku, dtype: int64"
            ]
          },
          "execution_count": 158,
          "metadata": {},
          "output_type": "execute_result"
        }
      ],
      "source": [
        "data6['Bidang_Baku'].value_counts()"
      ]
    },
    {
      "cell_type": "code",
      "execution_count": 159,
      "metadata": {
        "colab": {
          "base_uri": "https://localhost:8080/"
        },
        "id": "wZ4y5Fji_Fc7",
        "outputId": "6d568b09-ac73-435d-b462-074e10b64414"
      },
      "outputs": [
        {
          "data": {
            "text/plain": [
              "Internet    426\n",
              "Network       9\n",
              "Name: Tipe, dtype: int64"
            ]
          },
          "execution_count": 159,
          "metadata": {},
          "output_type": "execute_result"
        }
      ],
      "source": [
        "data6['Tipe'].value_counts()"
      ]
    },
    {
      "cell_type": "code",
      "execution_count": 160,
      "metadata": {
        "colab": {
          "base_uri": "https://localhost:8080/"
        },
        "id": "2kWO1Ia4_e7A",
        "outputId": "a3b3db4b-a16b-4e61-bc28-acd4d54815eb"
      },
      "outputs": [
        {
          "data": {
            "text/plain": [
              "Kota         371\n",
              "Kabupaten     64\n",
              "Name: Kabupaten/Kota, dtype: int64"
            ]
          },
          "execution_count": 160,
          "metadata": {},
          "output_type": "execute_result"
        }
      ],
      "source": [
        "data6['Kabupaten/Kota'].value_counts()"
      ]
    },
    {
      "cell_type": "code",
      "execution_count": 161,
      "metadata": {
        "colab": {
          "base_uri": "https://localhost:8080/"
        },
        "id": "uGitC9_KU7DE",
        "outputId": "a3b282c6-a9be-4d37-e700-ca1346bbe98f"
      },
      "outputs": [
        {
          "data": {
            "text/plain": [
              "Internet Broadband Corporate    326\n",
              "Internet Corporate               98\n",
              "Metronet                          5\n",
              "IP VPN                            4\n",
              "IP Transit                        1\n",
              "IP Transit IIX                    1\n",
              "Name: Layanan, dtype: int64"
            ]
          },
          "execution_count": 161,
          "metadata": {},
          "output_type": "execute_result"
        }
      ],
      "source": [
        "data6['Layanan'].value_counts()"
      ]
    },
    {
      "cell_type": "code",
      "execution_count": 162,
      "metadata": {
        "colab": {
          "base_uri": "https://localhost:8080/"
        },
        "id": "BGs5lvSWn6BF",
        "outputId": "da63080a-f23e-412b-dd0b-9c28f25a594d"
      },
      "outputs": [
        {
          "data": {
            "text/plain": [
              "20.000      282\n",
              "15.000       72\n",
              "50.000       37\n",
              "100.000      21\n",
              "10.000        7\n",
              "5.000         6\n",
              "30.000        3\n",
              "1200.000      2\n",
              "150.000       1\n",
              "200.000       1\n",
              "40.000        1\n",
              "0.512         1\n",
              "3.000         1\n",
              "Name: Bandwidth, dtype: int64"
            ]
          },
          "execution_count": 162,
          "metadata": {},
          "output_type": "execute_result"
        }
      ],
      "source": [
        "data6['Bandwidth'].value_counts()"
      ]
    },
    {
      "cell_type": "code",
      "execution_count": 163,
      "metadata": {
        "colab": {
          "base_uri": "https://localhost:8080/"
        },
        "id": "ZL4kInV34BUc",
        "outputId": "090064d7-d4dc-4031-9bcb-595e197316fa"
      },
      "outputs": [
        {
          "data": {
            "text/plain": [
              "Mojokerto      280\n",
              "Malang          99\n",
              "Surabaya         9\n",
              "Tuban            7\n",
              "Kediri           6\n",
              "Jember           5\n",
              "Tulungagung      4\n",
              "Pasuruan         4\n",
              "Ponorogo         3\n",
              "Gresik           2\n",
              "Madiun           2\n",
              "Batu             2\n",
              "Blitar           2\n",
              "Sidoarjo         2\n",
              "Trenggalek       2\n",
              "Sumenep          1\n",
              "Nganjuk          1\n",
              "Banyuwangi       1\n",
              "Bojonegoro       1\n",
              "Pacitan          1\n",
              "Pamekasan        1\n",
              "Name: Wilayah, dtype: int64"
            ]
          },
          "execution_count": 163,
          "metadata": {},
          "output_type": "execute_result"
        }
      ],
      "source": [
        "data6['Wilayah'].value_counts()"
      ]
    },
    {
      "cell_type": "markdown",
      "metadata": {
        "id": "mHxYPTuGNG9b"
      },
      "source": [
        "## **Preprocessing**"
      ]
    },
    {
      "cell_type": "code",
      "execution_count": 164,
      "metadata": {
        "colab": {
          "base_uri": "https://localhost:8080/"
        },
        "id": "yaDvHa81j3Fu",
        "outputId": "eb80e4ab-e0f5-4dc9-83dd-cb0cfb0fd23a"
      },
      "outputs": [
        {
          "name": "stdout",
          "output_type": "stream",
          "text": [
            "<class 'pandas.core.frame.DataFrame'>\n",
            "Int64Index: 435 entries, 217 to 1743\n",
            "Data columns (total 7 columns):\n",
            " #   Column          Non-Null Count  Dtype  \n",
            "---  ------          --------------  -----  \n",
            " 0   Bidang_Baku     435 non-null    object \n",
            " 1   Tipe            435 non-null    object \n",
            " 2   Layanan         435 non-null    object \n",
            " 3   Bandwidth       435 non-null    object \n",
            " 4   Biaya_Sewa      435 non-null    float64\n",
            " 5   Kabupaten/Kota  435 non-null    object \n",
            " 6   Wilayah         435 non-null    object \n",
            "dtypes: float64(1), object(6)\n",
            "memory usage: 27.2+ KB\n"
          ]
        }
      ],
      "source": [
        "data6.info() #informasi dataset"
      ]
    },
    {
      "cell_type": "code",
      "execution_count": 165,
      "metadata": {
        "colab": {
          "base_uri": "https://localhost:8080/"
        },
        "id": "DWoW9qyyMkHZ",
        "outputId": "386e9235-020a-4dc9-e718-426f290010f7"
      },
      "outputs": [
        {
          "data": {
            "text/plain": [
              "Bidang_Baku       0\n",
              "Tipe              0\n",
              "Layanan           0\n",
              "Bandwidth         0\n",
              "Biaya_Sewa        0\n",
              "Kabupaten/Kota    0\n",
              "Wilayah           0\n",
              "dtype: int64"
            ]
          },
          "execution_count": 165,
          "metadata": {},
          "output_type": "execute_result"
        }
      ],
      "source": [
        "# Cek missing value\n",
        "data6.isnull().sum()"
      ]
    },
    {
      "cell_type": "code",
      "execution_count": 166,
      "metadata": {
        "colab": {
          "base_uri": "https://localhost:8080/",
          "height": 0
        },
        "id": "-4XELaJgpl_1",
        "outputId": "f9632e4d-d422-4e4d-91dc-5445f6b78f75"
      },
      "outputs": [
        {
          "name": "stdout",
          "output_type": "stream",
          "text": [
            "[[ 0.  0.  3.  0.  0.]\n",
            " [ 7.  0.  3.  0.  2.]\n",
            " [ 0.  0.  3.  0.  4.]\n",
            " ...\n",
            " [ 4.  1.  5.  1.  5.]\n",
            " [ 4.  1.  5.  1.  6.]\n",
            " [ 4.  1.  5.  0. 12.]]\n"
          ]
        }
      ],
      "source": [
        "# example of a ordinal encoding\n",
        "from numpy import asarray\n",
        "from sklearn.preprocessing import OrdinalEncoder\n",
        "# Select the columns for ordinal encoding\n",
        "data7 = data6\n",
        "\n",
        "# Define ordinal encoder\n",
        "encoder = OrdinalEncoder()\n",
        "\n",
        "# Perform ordinal encoding\n",
        "data7[[\"Bidang_Baku\",\"Tipe\",\"Layanan\",\"Kabupaten/Kota\",\"Wilayah\"]] = encoder.fit_transform(data7[[\"Bidang_Baku\",\"Tipe\",\"Layanan\",\"Kabupaten/Kota\",\"Wilayah\"]])\n",
        "\n",
        "# Print the encoded dataset\n",
        "print(encoder.fit_transform(data7[[\"Bidang_Baku\",\"Tipe\",\"Layanan\",\"Kabupaten/Kota\",\"Wilayah\"]]))"
      ]
    },
    {
      "cell_type": "code",
      "execution_count": 167,
      "metadata": {
        "colab": {
          "base_uri": "https://localhost:8080/"
        },
        "id": "MOqd5FX-tcGv",
        "outputId": "cd777872-5825-4da0-cb7c-ee5558fb187f"
      },
      "outputs": [
        {
          "name": "stdout",
          "output_type": "stream",
          "text": [
            "<class 'pandas.core.frame.DataFrame'>\n",
            "Int64Index: 435 entries, 217 to 1743\n",
            "Data columns (total 7 columns):\n",
            " #   Column          Non-Null Count  Dtype  \n",
            "---  ------          --------------  -----  \n",
            " 0   Bidang_Baku     435 non-null    float64\n",
            " 1   Tipe            435 non-null    float64\n",
            " 2   Layanan         435 non-null    float64\n",
            " 3   Bandwidth       435 non-null    object \n",
            " 4   Biaya_Sewa      435 non-null    float64\n",
            " 5   Kabupaten/Kota  435 non-null    float64\n",
            " 6   Wilayah         435 non-null    float64\n",
            "dtypes: float64(6), object(1)\n",
            "memory usage: 27.2+ KB\n"
          ]
        }
      ],
      "source": [
        "data7.info() #informasi dataset"
      ]
    },
    {
      "cell_type": "code",
      "execution_count": 168,
      "metadata": {
        "colab": {
          "base_uri": "https://localhost:8080/"
        },
        "id": "Qrkwz7DNuBWJ",
        "outputId": "fd1fe28f-119f-4ccf-f40d-fba5f2fe888d"
      },
      "outputs": [
        {
          "name": "stdout",
          "output_type": "stream",
          "text": [
            "<class 'pandas.core.frame.DataFrame'>\n",
            "Int64Index: 435 entries, 217 to 1743\n",
            "Data columns (total 7 columns):\n",
            " #   Column          Non-Null Count  Dtype  \n",
            "---  ------          --------------  -----  \n",
            " 0   Bidang_Baku     435 non-null    int32  \n",
            " 1   Tipe            435 non-null    int32  \n",
            " 2   Layanan         435 non-null    int32  \n",
            " 3   Bandwidth       435 non-null    float64\n",
            " 4   Biaya_Sewa      435 non-null    float64\n",
            " 5   Kabupaten/Kota  435 non-null    int32  \n",
            " 6   Wilayah         435 non-null    int32  \n",
            "dtypes: float64(2), int32(5)\n",
            "memory usage: 18.7 KB\n"
          ]
        }
      ],
      "source": [
        "# converting  from float to int\n",
        "data7[\"Bidang_Baku\"] = data7[\"Bidang_Baku\"].astype(int)\n",
        "data7[\"Tipe\"] = data7[\"Tipe\"].astype(int)\n",
        "data7[\"Layanan\"] = data7[\"Layanan\"].astype(int)\n",
        "data7[\"Bandwidth\"] = data7[\"Bandwidth\"].astype(float)\n",
        "data7[\"Kabupaten/Kota\"] = data7[\"Kabupaten/Kota\"].astype(int)\n",
        "data7[\"Wilayah\"] = data7[\"Wilayah\"].astype(int)\n",
        "\n",
        "data7.info() #informasi dataset"
      ]
    },
    {
      "cell_type": "markdown",
      "metadata": {
        "id": "gp3DRNPEPxrl"
      },
      "source": [
        "# **Exploratory Data Analysis (EDA)**"
      ]
    },
    {
      "cell_type": "markdown",
      "metadata": {
        "id": "8AE9bPm6PJc3"
      },
      "source": [
        "## **Descriptive Analysis**"
      ]
    },
    {
      "cell_type": "code",
      "execution_count": 169,
      "metadata": {
        "colab": {
          "base_uri": "https://localhost:8080/"
        },
        "id": "dTz8EFgKPJc4",
        "outputId": "8b8b1abe-03c7-4b21-9e54-254252a624e5"
      },
      "outputs": [
        {
          "name": "stdout",
          "output_type": "stream",
          "text": [
            "       Bidang_Baku        Tipe     Layanan    Bandwidth    Biaya_Sewa  \\\n",
            "count   435.000000  435.000000  435.000000   435.000000  4.350000e+02   \n",
            "mean      0.703448    0.020690    3.227586    31.387384  1.247201e+06   \n",
            "std       2.096049    0.142507    0.509063    82.453887  5.721329e+06   \n",
            "min       0.000000    0.000000    0.000000     0.512000  0.000000e+00   \n",
            "25%       0.000000    0.000000    3.000000    20.000000  2.972973e+05   \n",
            "50%       0.000000    0.000000    3.000000    20.000000  2.972973e+05   \n",
            "75%       0.000000    0.000000    3.000000    20.000000  8.000000e+05   \n",
            "max      11.000000    1.000000    5.000000  1200.000000  8.167568e+07   \n",
            "\n",
            "       Kabupaten/Kota     Wilayah  \n",
            "count      435.000000  435.000000  \n",
            "mean         0.852874    9.147126  \n",
            "std          0.354640    2.549322  \n",
            "min          0.000000    0.000000  \n",
            "25%          1.000000    8.000000  \n",
            "50%          1.000000    9.000000  \n",
            "75%          1.000000    9.000000  \n",
            "max          1.000000   20.000000  \n"
          ]
        }
      ],
      "source": [
        "# Summary statistics\n",
        "summary_stats = data7.describe()\n",
        "print(summary_stats)"
      ]
    },
    {
      "cell_type": "markdown",
      "metadata": {
        "id": "XbjcijTIPJlg"
      },
      "source": [
        "## **Plot Histogram**"
      ]
    },
    {
      "cell_type": "code",
      "execution_count": 170,
      "metadata": {
        "colab": {
          "base_uri": "https://localhost:8080/",
          "height": 455
        },
        "id": "xtI-cTC-ypX2",
        "outputId": "22ac4e9a-1002-4e03-f2c7-72d27a32c232"
      },
      "outputs": [],
      "source": [
        "# # Density plot\n",
        "# fig, ax = plt.subplots()\n",
        "\n",
        "# sns.kdeplot(data6[data6[\"AR_Type\"]==\"Change Tariff\"][\"Biaya_Sewa\"], fill=True, color=\"blue\", label=\"Change Tariff\", ax=ax)\n",
        "# sns.kdeplot(data6[data6[\"AR_Type\"]==\"Downgrade\"][\"Biaya_Sewa\"], fill=True, color=\"green\", label=\"Downgrade\", ax=ax)\n",
        "# sns.kdeplot(data6[data6[\"AR_Type\"]==\"New\"][\"Biaya_Sewa\"], fill=True, color=\"red\", label=\"New\", ax=ax)\n",
        "# sns.kdeplot(data6[data6[\"AR_Type\"]==\"Relocation\"][\"Biaya_Sewa\"], fill=True, color=\"yellow\", label=\"Relocation\", ax=ax)\n",
        "# sns.kdeplot(data6[data6[\"AR_Type\"]==\"Upgrade\"][\"Biaya_Sewa\"], fill=True, color=\"pink\", label=\"Upgrade\", ax=ax)\n",
        "# sns.kdeplot(data6[data6[\"AR_Type\"]==\"Trial\"][\"Biaya_Sewa\"], fill=True, color=\"purple\", label=\"Trial\", ax=ax)\n",
        "\n",
        "# ax.set_xlabel(\"Biaya_Sewa\")\n",
        "# ax.set_ylabel(\"Density\")\n",
        "\n",
        "# plt.show()"
      ]
    },
    {
      "cell_type": "code",
      "execution_count": 171,
      "metadata": {
        "colab": {
          "base_uri": "https://localhost:8080/",
          "height": 472
        },
        "id": "Vv_VCIWfw8-4",
        "outputId": "89558554-6761-4964-c43d-f9f46eeeb4cc"
      },
      "outputs": [
        {
          "data": {
            "image/png": "[encoded data removed]",
            "text/plain": [
              "<Figure size 640x480 with 1 Axes>"
            ]
          },
          "metadata": {},
          "output_type": "display_data"
        }
      ],
      "source": [
        "# Histogram of a Biaya_Sewa\n",
        "plt.hist(data6['Biaya_Sewa'], bins=10)\n",
        "plt.xlabel('Biaya_Sewa')\n",
        "plt.ylabel('Frequency')\n",
        "plt.title('Histogram of Biaya_Sewa')\n",
        "plt.show()"
      ]
    },
    {
      "cell_type": "code",
      "execution_count": 172,
      "metadata": {
        "colab": {
          "base_uri": "https://localhost:8080/",
          "height": 1000
        },
        "id": "HUs6Yio0xFa0",
        "outputId": "82f160b7-1234-437b-ee3e-20b556cd825f"
      },
      "outputs": [
        {
          "data": {
            "image/png": "[encoded data removed]",
            "text/plain": [
              "<Figure size 800x3000 with 5 Axes>"
            ]
          },
          "metadata": {},
          "output_type": "display_data"
        }
      ],
      "source": [
        "# Select the categorical variables\n",
        "categorical_vars = ['Bidang_Baku', 'Layanan', 'Bandwidth', 'Kabupaten/Kota', 'Wilayah']\n",
        "\n",
        "# Create subplots for each categorical variable\n",
        "fig, axes = plt.subplots(len(categorical_vars), 1, figsize=(8, 6 * len(categorical_vars)))\n",
        "for i, var in enumerate(categorical_vars):\n",
        "    sns.countplot(x=var, data=data7, ax=axes[i])\n",
        "    axes[i].set_xlabel(var)\n",
        "    axes[i].set_ylabel('Count')\n",
        "    axes[i].set_title(f'Distribution of {var}')\n",
        "    axes[i].tick_params(axis='x', rotation=45)\n",
        "\n",
        "plt.tight_layout()\n",
        "plt.show()"
      ]
    },
    {
      "cell_type": "code",
      "execution_count": 173,
      "metadata": {
        "colab": {
          "base_uri": "https://localhost:8080/",
          "height": 653
        },
        "id": "FoynYosu_Vho",
        "outputId": "578bb149-a0c7-4109-df5f-2cf3abd4e4cd"
      },
      "outputs": [],
      "source": [
        "# # Grouped bar chart\n",
        "# fig, ax = plt.subplots()\n",
        "\n",
        "# sns.catplot(\"Layanan\", hue=\"AR_Type\", data=data7, kind=\"object\", ax=ax)\n",
        "\n",
        "# plt.close(2) # catplot creates an extra figure we don't need\n",
        "\n",
        "# ax.legend(title=\"Passenger Class\")\n",
        "# #ax.set_xticklabels([\"did not survive\", \"survived\"])\n",
        "# ax.set_xlabel(\"\")\n",
        "\n",
        "# fig.suptitle(\"Layanan vs. AR Type\");"
      ]
    },
    {
      "cell_type": "code",
      "execution_count": 174,
      "metadata": {
        "colab": {
          "base_uri": "https://localhost:8080/",
          "height": 549
        },
        "id": "t7QhZgLHxIXK",
        "outputId": "1edeb6ea-91a8-4e24-d43a-596bf00d7cb6"
      },
      "outputs": [
        {
          "data": {
            "image/png": "[encoded data removed]",
            "text/plain": [
              "<Figure size 640x480 with 2 Axes>"
            ]
          },
          "metadata": {},
          "output_type": "display_data"
        }
      ],
      "source": [
        "# Correlation matrix\n",
        "correlation_matrix = data7.corr()\n",
        "sns.heatmap(correlation_matrix, annot=True, cmap='coolwarm')\n",
        "plt.title('Correlation Matrix')\n",
        "plt.show()"
      ]
    },
    {
      "cell_type": "code",
      "execution_count": 175,
      "metadata": {
        "colab": {
          "base_uri": "https://localhost:8080/",
          "height": 472
        },
        "id": "ZDh6rmpsxLxy",
        "outputId": "91387579-7b1d-4e8f-81a9-0b34e2280e42"
      },
      "outputs": [
        {
          "data": {
            "image/png": "[encoded data removed]",
            "text/plain": [
              "<Figure size 640x480 with 1 Axes>"
            ]
          },
          "metadata": {},
          "output_type": "display_data"
        }
      ],
      "source": [
        "# Box plot of a Biaya_Sewa with potential outliers\n",
        "sns.boxplot(x='Biaya_Sewa', data=data)\n",
        "plt.xlabel('Biaya_Sewa')\n",
        "plt.title('Box Plot of Biaya_Sewa')\n",
        "plt.show()"
      ]
    },
    {
      "cell_type": "markdown",
      "metadata": {
        "id": "y277Ng-bQHdQ"
      },
      "source": [
        "## **Check Outliers**"
      ]
    },
    {
      "cell_type": "code",
      "execution_count": 176,
      "metadata": {
        "colab": {
          "base_uri": "https://localhost:8080/"
        },
        "id": "0_aGInBGEMIe",
        "outputId": "90e1ce9b-7fc9-4c23-8fee-271559864548"
      },
      "outputs": [
        {
          "name": "stdout",
          "output_type": "stream",
          "text": [
            "<class 'pandas.core.frame.DataFrame'>\n",
            "Int64Index: 435 entries, 217 to 1743\n",
            "Data columns (total 7 columns):\n",
            " #   Column          Non-Null Count  Dtype  \n",
            "---  ------          --------------  -----  \n",
            " 0   Bidang_Baku     435 non-null    int32  \n",
            " 1   Tipe            435 non-null    int32  \n",
            " 2   Layanan         435 non-null    int32  \n",
            " 3   Bandwidth       435 non-null    float64\n",
            " 4   Biaya_Sewa      435 non-null    float64\n",
            " 5   Kabupaten/Kota  435 non-null    int32  \n",
            " 6   Wilayah         435 non-null    int32  \n",
            "dtypes: float64(2), int32(5)\n",
            "memory usage: 18.7 KB\n",
            "None\n"
          ]
        }
      ],
      "source": [
        "# Fill NaN values with 0\n",
        "data7 = data7.fillna(0)\n",
        "\n",
        "# Check the updated dataset\n",
        "print(data7.info())"
      ]
    },
    {
      "cell_type": "code",
      "execution_count": 177,
      "metadata": {
        "colab": {
          "base_uri": "https://localhost:8080/"
        },
        "id": "VM7yHKqyQHdR",
        "outputId": "4f64591b-dd99-4df8-8332-7727660e5e78"
      },
      "outputs": [
        {
          "name": "stdout",
          "output_type": "stream",
          "text": [
            "Outliers:\n",
            "      Bidang_Baku  Tipe  Layanan  Bandwidth  Biaya_Sewa  Kabupaten/Kota  \\\n",
            "218             7     0        3    100.000   1800000.0               0   \n",
            "269             7     0        3    100.000   1700000.0               0   \n",
            "271             7     0        3     50.000    985000.0               0   \n",
            "305             7     0        3    100.000   1600000.0               0   \n",
            "309             7     0        3    100.000   1350000.0               1   \n",
            "...           ...   ...      ...        ...         ...             ...   \n",
            "1489            1     1        2      0.512         0.0               1   \n",
            "1495            0     1        2     10.000   1500000.0               1   \n",
            "1497            5     1        2    100.000   4100000.0               0   \n",
            "1499            5     1        2    100.000   4100000.0               0   \n",
            "1506            4     1        5      5.000   3200000.0               1   \n",
            "\n",
            "      Wilayah  \n",
            "218         2  \n",
            "269         6  \n",
            "271         6  \n",
            "305         8  \n",
            "309         8  \n",
            "...       ...  \n",
            "1489       17  \n",
            "1495       17  \n",
            "1497       19  \n",
            "1499       19  \n",
            "1506        1  \n",
            "\n",
            "[65 rows x 7 columns]\n"
          ]
        }
      ],
      "source": [
        "import pandas as pd\n",
        "import numpy as np\n",
        "from scipy import stats\n",
        "\n",
        "# Select the numerical variables for outlier detection\n",
        "numerical_vars = ['Bidang_Baku', 'Layanan', 'Bandwidth', 'Biaya_Sewa', 'Kabupaten/Kota', 'Wilayah']\n",
        "\n",
        "# Detect outliers using z-score method\n",
        "outliers = []\n",
        "for var in numerical_vars:\n",
        "    z_scores = stats.zscore(data7[var])\n",
        "    threshold = 3  # Adjust this threshold as needed\n",
        "    var_outliers = data7[np.abs(z_scores) > threshold]\n",
        "    outliers.append(var_outliers)\n",
        "\n",
        "# Concatenate the outliers for all variables\n",
        "outliers = pd.concat(outliers)\n",
        "\n",
        "# Print the outliers\n",
        "print(\"Outliers:\")\n",
        "print(outliers)"
      ]
    },
    {
      "cell_type": "markdown",
      "metadata": {
        "id": "IeSOKp8KQHdS"
      },
      "source": [
        "## **Chi-Square Tests**"
      ]
    },
    {
      "cell_type": "code",
      "execution_count": 178,
      "metadata": {
        "colab": {
          "base_uri": "https://localhost:8080/"
        },
        "id": "4vwngmuIQHdT",
        "outputId": "2afda3f5-0c2a-4a48-f2e1-0ff9765344f4"
      },
      "outputs": [
        {
          "data": {
            "text/plain": [
              "Index(['Bidang_Baku', 'Tipe', 'Layanan', 'Bandwidth', 'Biaya_Sewa',\n",
              "       'Kabupaten/Kota', 'Wilayah'],\n",
              "      dtype='object')"
            ]
          },
          "execution_count": 178,
          "metadata": {},
          "output_type": "execute_result"
        }
      ],
      "source": [
        "data7.columns"
      ]
    },
    {
      "cell_type": "markdown",
      "metadata": {
        "id": "77GaQquovbQh"
      },
      "source": [
        "**Bidang Baku**"
      ]
    },
    {
      "cell_type": "code",
      "execution_count": 179,
      "metadata": {
        "colab": {
          "base_uri": "https://localhost:8080/",
          "height": 488
        },
        "id": "uBkHNutXvbQj",
        "outputId": "78607697-ba1d-48ea-8e41-cf934f210902"
      },
      "outputs": [
        {
          "data": {
            "text/html": [
              "<div>\n",
              "<style scoped>\n",
              "    .dataframe tbody tr th:only-of-type {\n",
              "        vertical-align: middle;\n",
              "    }\n",
              "\n",
              "    .dataframe tbody tr th {\n",
              "        vertical-align: top;\n",
              "    }\n",
              "\n",
              "    .dataframe thead th {\n",
              "        text-align: right;\n",
              "    }\n",
              "</style>\n",
              "<table border=\"1\" class=\"dataframe\">\n",
              "  <thead>\n",
              "    <tr style=\"text-align: right;\">\n",
              "      <th>Layanan</th>\n",
              "      <th>0</th>\n",
              "      <th>1</th>\n",
              "      <th>2</th>\n",
              "      <th>3</th>\n",
              "      <th>4</th>\n",
              "      <th>5</th>\n",
              "    </tr>\n",
              "    <tr>\n",
              "      <th>Bidang_Baku</th>\n",
              "      <th></th>\n",
              "      <th></th>\n",
              "      <th></th>\n",
              "      <th></th>\n",
              "      <th></th>\n",
              "      <th></th>\n",
              "    </tr>\n",
              "  </thead>\n",
              "  <tbody>\n",
              "    <tr>\n",
              "      <th>0</th>\n",
              "      <td>1</td>\n",
              "      <td>1</td>\n",
              "      <td>1</td>\n",
              "      <td>304</td>\n",
              "      <td>75</td>\n",
              "      <td>1</td>\n",
              "    </tr>\n",
              "    <tr>\n",
              "      <th>1</th>\n",
              "      <td>0</td>\n",
              "      <td>0</td>\n",
              "      <td>1</td>\n",
              "      <td>1</td>\n",
              "      <td>3</td>\n",
              "      <td>0</td>\n",
              "    </tr>\n",
              "    <tr>\n",
              "      <th>2</th>\n",
              "      <td>0</td>\n",
              "      <td>0</td>\n",
              "      <td>0</td>\n",
              "      <td>0</td>\n",
              "      <td>1</td>\n",
              "      <td>0</td>\n",
              "    </tr>\n",
              "    <tr>\n",
              "      <th>3</th>\n",
              "      <td>0</td>\n",
              "      <td>0</td>\n",
              "      <td>0</td>\n",
              "      <td>1</td>\n",
              "      <td>1</td>\n",
              "      <td>0</td>\n",
              "    </tr>\n",
              "    <tr>\n",
              "      <th>4</th>\n",
              "      <td>0</td>\n",
              "      <td>0</td>\n",
              "      <td>0</td>\n",
              "      <td>2</td>\n",
              "      <td>2</td>\n",
              "      <td>4</td>\n",
              "    </tr>\n",
              "    <tr>\n",
              "      <th>5</th>\n",
              "      <td>0</td>\n",
              "      <td>0</td>\n",
              "      <td>2</td>\n",
              "      <td>0</td>\n",
              "      <td>2</td>\n",
              "      <td>0</td>\n",
              "    </tr>\n",
              "    <tr>\n",
              "      <th>6</th>\n",
              "      <td>0</td>\n",
              "      <td>0</td>\n",
              "      <td>0</td>\n",
              "      <td>2</td>\n",
              "      <td>1</td>\n",
              "      <td>0</td>\n",
              "    </tr>\n",
              "    <tr>\n",
              "      <th>7</th>\n",
              "      <td>0</td>\n",
              "      <td>0</td>\n",
              "      <td>0</td>\n",
              "      <td>14</td>\n",
              "      <td>6</td>\n",
              "      <td>0</td>\n",
              "    </tr>\n",
              "    <tr>\n",
              "      <th>8</th>\n",
              "      <td>0</td>\n",
              "      <td>0</td>\n",
              "      <td>0</td>\n",
              "      <td>2</td>\n",
              "      <td>2</td>\n",
              "      <td>0</td>\n",
              "    </tr>\n",
              "    <tr>\n",
              "      <th>9</th>\n",
              "      <td>0</td>\n",
              "      <td>0</td>\n",
              "      <td>0</td>\n",
              "      <td>0</td>\n",
              "      <td>1</td>\n",
              "      <td>0</td>\n",
              "    </tr>\n",
              "    <tr>\n",
              "      <th>10</th>\n",
              "      <td>0</td>\n",
              "      <td>0</td>\n",
              "      <td>0</td>\n",
              "      <td>0</td>\n",
              "      <td>2</td>\n",
              "      <td>0</td>\n",
              "    </tr>\n",
              "    <tr>\n",
              "      <th>11</th>\n",
              "      <td>0</td>\n",
              "      <td>0</td>\n",
              "      <td>0</td>\n",
              "      <td>0</td>\n",
              "      <td>2</td>\n",
              "      <td>0</td>\n",
              "    </tr>\n",
              "  </tbody>\n",
              "</table>\n",
              "</div>"
            ],
            "text/plain": [
              "Layanan      0  1  2    3   4  5\n",
              "Bidang_Baku                     \n",
              "0            1  1  1  304  75  1\n",
              "1            0  0  1    1   3  0\n",
              "2            0  0  0    0   1  0\n",
              "3            0  0  0    1   1  0\n",
              "4            0  0  0    2   2  4\n",
              "5            0  0  2    0   2  0\n",
              "6            0  0  0    2   1  0\n",
              "7            0  0  0   14   6  0\n",
              "8            0  0  0    2   2  0\n",
              "9            0  0  0    0   1  0\n",
              "10           0  0  0    0   2  0\n",
              "11           0  0  0    0   2  0"
            ]
          },
          "execution_count": 179,
          "metadata": {},
          "output_type": "execute_result"
        }
      ],
      "source": [
        "cross_tab2 = pd.crosstab(data7['Bidang_Baku'], data7['Layanan'])\n",
        "cross_tab2"
      ]
    },
    {
      "cell_type": "code",
      "execution_count": 180,
      "metadata": {
        "colab": {
          "base_uri": "https://localhost:8080/"
        },
        "id": "PNoJ_7OyvbQk",
        "outputId": "e65c993a-b896-4e4d-a195-5c21c877b2af"
      },
      "outputs": [
        {
          "name": "stdout",
          "output_type": "stream",
          "text": [
            "chi-squared = 334.64654680369966\n",
            "p-value= 1.0272829581340998e-41\n",
            "degrees of freedom = 55\n"
          ]
        }
      ],
      "source": [
        "chi_sq, p_val, dof, con_table = stats.chi2_contingency(cross_tab2)\n",
        "print(f'chi-squared = {chi_sq}')\n",
        "print(f'p-value= {p_val}')\n",
        "print(f'degrees of freedom = {dof}')"
      ]
    },
    {
      "cell_type": "markdown",
      "metadata": {
        "id": "RUjPH34Vvcow"
      },
      "source": [
        "**Tipe**"
      ]
    },
    {
      "cell_type": "code",
      "execution_count": 181,
      "metadata": {
        "colab": {
          "base_uri": "https://localhost:8080/",
          "height": 143
        },
        "id": "Z4Sy22RBvcpa",
        "outputId": "1211434d-12be-4bca-acd7-b4773bfe6ca3"
      },
      "outputs": [
        {
          "data": {
            "text/html": [
              "<div>\n",
              "<style scoped>\n",
              "    .dataframe tbody tr th:only-of-type {\n",
              "        vertical-align: middle;\n",
              "    }\n",
              "\n",
              "    .dataframe tbody tr th {\n",
              "        vertical-align: top;\n",
              "    }\n",
              "\n",
              "    .dataframe thead th {\n",
              "        text-align: right;\n",
              "    }\n",
              "</style>\n",
              "<table border=\"1\" class=\"dataframe\">\n",
              "  <thead>\n",
              "    <tr style=\"text-align: right;\">\n",
              "      <th>Layanan</th>\n",
              "      <th>0</th>\n",
              "      <th>1</th>\n",
              "      <th>2</th>\n",
              "      <th>3</th>\n",
              "      <th>4</th>\n",
              "      <th>5</th>\n",
              "    </tr>\n",
              "    <tr>\n",
              "      <th>Tipe</th>\n",
              "      <th></th>\n",
              "      <th></th>\n",
              "      <th></th>\n",
              "      <th></th>\n",
              "      <th></th>\n",
              "      <th></th>\n",
              "    </tr>\n",
              "  </thead>\n",
              "  <tbody>\n",
              "    <tr>\n",
              "      <th>0</th>\n",
              "      <td>1</td>\n",
              "      <td>1</td>\n",
              "      <td>0</td>\n",
              "      <td>326</td>\n",
              "      <td>98</td>\n",
              "      <td>0</td>\n",
              "    </tr>\n",
              "    <tr>\n",
              "      <th>1</th>\n",
              "      <td>0</td>\n",
              "      <td>0</td>\n",
              "      <td>4</td>\n",
              "      <td>0</td>\n",
              "      <td>0</td>\n",
              "      <td>5</td>\n",
              "    </tr>\n",
              "  </tbody>\n",
              "</table>\n",
              "</div>"
            ],
            "text/plain": [
              "Layanan  0  1  2    3   4  5\n",
              "Tipe                        \n",
              "0        1  1  0  326  98  0\n",
              "1        0  0  4    0   0  5"
            ]
          },
          "execution_count": 181,
          "metadata": {},
          "output_type": "execute_result"
        }
      ],
      "source": [
        "cross_tab2 = pd.crosstab(data7['Tipe'], data7['Layanan'])\n",
        "cross_tab2"
      ]
    },
    {
      "cell_type": "code",
      "execution_count": 182,
      "metadata": {
        "colab": {
          "base_uri": "https://localhost:8080/"
        },
        "id": "71eXwMDPvcpa",
        "outputId": "533b20eb-0853-4f22-8e18-be9c08efb8a8"
      },
      "outputs": [
        {
          "name": "stdout",
          "output_type": "stream",
          "text": [
            "chi-squared = 435.0\n",
            "p-value= 8.442956551179387e-92\n",
            "degrees of freedom = 5\n"
          ]
        }
      ],
      "source": [
        "chi_sq, p_val, dof, con_table = stats.chi2_contingency(cross_tab2)\n",
        "print(f'chi-squared = {chi_sq}')\n",
        "print(f'p-value= {p_val}')\n",
        "print(f'degrees of freedom = {dof}')"
      ]
    },
    {
      "cell_type": "markdown",
      "metadata": {
        "id": "mpGa2MPevc5a"
      },
      "source": [
        "**Bandwidth**"
      ]
    },
    {
      "cell_type": "code",
      "execution_count": 183,
      "metadata": {
        "colab": {
          "base_uri": "https://localhost:8080/",
          "height": 237
        },
        "id": "dhA-BNfovc5b",
        "outputId": "c3ea2f7c-6687-4cf6-bb0e-84251c237cb4"
      },
      "outputs": [
        {
          "data": {
            "text/html": [
              "<div>\n",
              "<style scoped>\n",
              "    .dataframe tbody tr th:only-of-type {\n",
              "        vertical-align: middle;\n",
              "    }\n",
              "\n",
              "    .dataframe tbody tr th {\n",
              "        vertical-align: top;\n",
              "    }\n",
              "\n",
              "    .dataframe thead th {\n",
              "        text-align: right;\n",
              "    }\n",
              "</style>\n",
              "<table border=\"1\" class=\"dataframe\">\n",
              "  <thead>\n",
              "    <tr style=\"text-align: right;\">\n",
              "      <th>Layanan</th>\n",
              "      <th>0</th>\n",
              "      <th>1</th>\n",
              "      <th>2</th>\n",
              "      <th>3</th>\n",
              "      <th>4</th>\n",
              "      <th>5</th>\n",
              "    </tr>\n",
              "    <tr>\n",
              "      <th>Bandwidth</th>\n",
              "      <th></th>\n",
              "      <th></th>\n",
              "      <th></th>\n",
              "      <th></th>\n",
              "      <th></th>\n",
              "      <th></th>\n",
              "    </tr>\n",
              "  </thead>\n",
              "  <tbody>\n",
              "    <tr>\n",
              "      <th>0.512</th>\n",
              "      <td>0</td>\n",
              "      <td>0</td>\n",
              "      <td>1</td>\n",
              "      <td>0</td>\n",
              "      <td>0</td>\n",
              "      <td>0</td>\n",
              "    </tr>\n",
              "    <tr>\n",
              "      <th>3.000</th>\n",
              "      <td>0</td>\n",
              "      <td>0</td>\n",
              "      <td>0</td>\n",
              "      <td>0</td>\n",
              "      <td>0</td>\n",
              "      <td>1</td>\n",
              "    </tr>\n",
              "    <tr>\n",
              "      <th>5.000</th>\n",
              "      <td>0</td>\n",
              "      <td>0</td>\n",
              "      <td>0</td>\n",
              "      <td>0</td>\n",
              "      <td>2</td>\n",
              "      <td>4</td>\n",
              "    </tr>\n",
              "    <tr>\n",
              "      <th>10.000</th>\n",
              "      <td>0</td>\n",
              "      <td>0</td>\n",
              "      <td>1</td>\n",
              "      <td>2</td>\n",
              "      <td>4</td>\n",
              "      <td>0</td>\n",
              "    </tr>\n",
              "    <tr>\n",
              "      <th>15.000</th>\n",
              "      <td>0</td>\n",
              "      <td>0</td>\n",
              "      <td>0</td>\n",
              "      <td>0</td>\n",
              "      <td>72</td>\n",
              "      <td>0</td>\n",
              "    </tr>\n",
              "    <tr>\n",
              "      <th>20.000</th>\n",
              "      <td>0</td>\n",
              "      <td>0</td>\n",
              "      <td>0</td>\n",
              "      <td>281</td>\n",
              "      <td>1</td>\n",
              "      <td>0</td>\n",
              "    </tr>\n",
              "    <tr>\n",
              "      <th>30.000</th>\n",
              "      <td>0</td>\n",
              "      <td>0</td>\n",
              "      <td>0</td>\n",
              "      <td>0</td>\n",
              "      <td>3</td>\n",
              "      <td>0</td>\n",
              "    </tr>\n",
              "    <tr>\n",
              "      <th>40.000</th>\n",
              "      <td>0</td>\n",
              "      <td>0</td>\n",
              "      <td>0</td>\n",
              "      <td>0</td>\n",
              "      <td>1</td>\n",
              "      <td>0</td>\n",
              "    </tr>\n",
              "    <tr>\n",
              "      <th>50.000</th>\n",
              "      <td>0</td>\n",
              "      <td>1</td>\n",
              "      <td>0</td>\n",
              "      <td>26</td>\n",
              "      <td>10</td>\n",
              "      <td>0</td>\n",
              "    </tr>\n",
              "    <tr>\n",
              "      <th>100.000</th>\n",
              "      <td>0</td>\n",
              "      <td>0</td>\n",
              "      <td>2</td>\n",
              "      <td>17</td>\n",
              "      <td>2</td>\n",
              "      <td>0</td>\n",
              "    </tr>\n",
              "    <tr>\n",
              "      <th>150.000</th>\n",
              "      <td>0</td>\n",
              "      <td>0</td>\n",
              "      <td>0</td>\n",
              "      <td>0</td>\n",
              "      <td>1</td>\n",
              "      <td>0</td>\n",
              "    </tr>\n",
              "    <tr>\n",
              "      <th>200.000</th>\n",
              "      <td>0</td>\n",
              "      <td>0</td>\n",
              "      <td>0</td>\n",
              "      <td>0</td>\n",
              "      <td>1</td>\n",
              "      <td>0</td>\n",
              "    </tr>\n",
              "    <tr>\n",
              "      <th>1200.000</th>\n",
              "      <td>1</td>\n",
              "      <td>0</td>\n",
              "      <td>0</td>\n",
              "      <td>0</td>\n",
              "      <td>1</td>\n",
              "      <td>0</td>\n",
              "    </tr>\n",
              "  </tbody>\n",
              "</table>\n",
              "</div>"
            ],
            "text/plain": [
              "Layanan    0  1  2    3   4  5\n",
              "Bandwidth                     \n",
              "0.512      0  0  1    0   0  0\n",
              "3.000      0  0  0    0   0  1\n",
              "5.000      0  0  0    0   2  4\n",
              "10.000     0  0  1    2   4  0\n",
              "15.000     0  0  0    0  72  0\n",
              "20.000     0  0  0  281   1  0\n",
              "30.000     0  0  0    0   3  0\n",
              "40.000     0  0  0    0   1  0\n",
              "50.000     0  1  0   26  10  0\n",
              "100.000    0  0  2   17   2  0\n",
              "150.000    0  0  0    0   1  0\n",
              "200.000    0  0  0    0   1  0\n",
              "1200.000   1  0  0    0   1  0"
            ]
          },
          "execution_count": 183,
          "metadata": {},
          "output_type": "execute_result"
        }
      ],
      "source": [
        "cross_tab3 = pd.crosstab(data7['Bandwidth'], data7['Layanan'])\n",
        "cross_tab3"
      ]
    },
    {
      "cell_type": "code",
      "execution_count": 184,
      "metadata": {
        "colab": {
          "base_uri": "https://localhost:8080/"
        },
        "id": "JEVSE-6mvc5c",
        "outputId": "2fbc65e9-f1f1-4a89-d90e-0c5c31259df2"
      },
      "outputs": [
        {
          "name": "stdout",
          "output_type": "stream",
          "text": [
            "chi-squared = 1049.7926746819367\n",
            "p-value= 1.0014809102249306e-180\n",
            "degrees of freedom = 60\n"
          ]
        }
      ],
      "source": [
        "chi_sq, p_val, dof, con_table = stats.chi2_contingency(cross_tab3)\n",
        "print(f'chi-squared = {chi_sq}')\n",
        "print(f'p-value= {p_val}')\n",
        "print(f'degrees of freedom = {dof}')"
      ]
    },
    {
      "cell_type": "markdown",
      "metadata": {
        "id": "xnHvkONBvdK0"
      },
      "source": [
        "**Biaya_Sewa**"
      ]
    },
    {
      "cell_type": "code",
      "execution_count": 185,
      "metadata": {
        "colab": {
          "base_uri": "https://localhost:8080/",
          "height": 455
        },
        "id": "_jE9rYprvdK1",
        "outputId": "e6974459-5476-433b-ffb8-97a7a02d90c2"
      },
      "outputs": [
        {
          "data": {
            "text/html": [
              "<div>\n",
              "<style scoped>\n",
              "    .dataframe tbody tr th:only-of-type {\n",
              "        vertical-align: middle;\n",
              "    }\n",
              "\n",
              "    .dataframe tbody tr th {\n",
              "        vertical-align: top;\n",
              "    }\n",
              "\n",
              "    .dataframe thead th {\n",
              "        text-align: right;\n",
              "    }\n",
              "</style>\n",
              "<table border=\"1\" class=\"dataframe\">\n",
              "  <thead>\n",
              "    <tr style=\"text-align: right;\">\n",
              "      <th>Layanan</th>\n",
              "      <th>0</th>\n",
              "      <th>1</th>\n",
              "      <th>2</th>\n",
              "      <th>3</th>\n",
              "      <th>4</th>\n",
              "      <th>5</th>\n",
              "    </tr>\n",
              "    <tr>\n",
              "      <th>Biaya_Sewa</th>\n",
              "      <th></th>\n",
              "      <th></th>\n",
              "      <th></th>\n",
              "      <th></th>\n",
              "      <th></th>\n",
              "      <th></th>\n",
              "    </tr>\n",
              "  </thead>\n",
              "  <tbody>\n",
              "    <tr>\n",
              "      <th>0.00</th>\n",
              "      <td>0</td>\n",
              "      <td>0</td>\n",
              "      <td>1</td>\n",
              "      <td>8</td>\n",
              "      <td>2</td>\n",
              "      <td>0</td>\n",
              "    </tr>\n",
              "    <tr>\n",
              "      <th>297297.30</th>\n",
              "      <td>0</td>\n",
              "      <td>0</td>\n",
              "      <td>0</td>\n",
              "      <td>274</td>\n",
              "      <td>0</td>\n",
              "      <td>0</td>\n",
              "    </tr>\n",
              "    <tr>\n",
              "      <th>400000.00</th>\n",
              "      <td>0</td>\n",
              "      <td>0</td>\n",
              "      <td>0</td>\n",
              "      <td>2</td>\n",
              "      <td>0</td>\n",
              "      <td>0</td>\n",
              "    </tr>\n",
              "    <tr>\n",
              "      <th>500000.00</th>\n",
              "      <td>0</td>\n",
              "      <td>0</td>\n",
              "      <td>0</td>\n",
              "      <td>1</td>\n",
              "      <td>0</td>\n",
              "      <td>0</td>\n",
              "    </tr>\n",
              "    <tr>\n",
              "      <th>520000.00</th>\n",
              "      <td>0</td>\n",
              "      <td>0</td>\n",
              "      <td>0</td>\n",
              "      <td>1</td>\n",
              "      <td>0</td>\n",
              "      <td>0</td>\n",
              "    </tr>\n",
              "    <tr>\n",
              "      <th>800000.00</th>\n",
              "      <td>0</td>\n",
              "      <td>0</td>\n",
              "      <td>0</td>\n",
              "      <td>1</td>\n",
              "      <td>70</td>\n",
              "      <td>0</td>\n",
              "    </tr>\n",
              "    <tr>\n",
              "      <th>815384.61</th>\n",
              "      <td>0</td>\n",
              "      <td>0</td>\n",
              "      <td>0</td>\n",
              "      <td>11</td>\n",
              "      <td>0</td>\n",
              "      <td>0</td>\n",
              "    </tr>\n",
              "    <tr>\n",
              "      <th>815385.61</th>\n",
              "      <td>0</td>\n",
              "      <td>0</td>\n",
              "      <td>0</td>\n",
              "      <td>1</td>\n",
              "      <td>0</td>\n",
              "      <td>0</td>\n",
              "    </tr>\n",
              "    <tr>\n",
              "      <th>900000.00</th>\n",
              "      <td>0</td>\n",
              "      <td>0</td>\n",
              "      <td>0</td>\n",
              "      <td>2</td>\n",
              "      <td>0</td>\n",
              "      <td>0</td>\n",
              "    </tr>\n",
              "    <tr>\n",
              "      <th>900900.90</th>\n",
              "      <td>0</td>\n",
              "      <td>0</td>\n",
              "      <td>0</td>\n",
              "      <td>1</td>\n",
              "      <td>0</td>\n",
              "      <td>0</td>\n",
              "    </tr>\n",
              "    <tr>\n",
              "      <th>985000.00</th>\n",
              "      <td>0</td>\n",
              "      <td>0</td>\n",
              "      <td>0</td>\n",
              "      <td>1</td>\n",
              "      <td>0</td>\n",
              "      <td>0</td>\n",
              "    </tr>\n",
              "    <tr>\n",
              "      <th>1000000.00</th>\n",
              "      <td>0</td>\n",
              "      <td>0</td>\n",
              "      <td>0</td>\n",
              "      <td>1</td>\n",
              "      <td>0</td>\n",
              "      <td>0</td>\n",
              "    </tr>\n",
              "    <tr>\n",
              "      <th>1100000.00</th>\n",
              "      <td>0</td>\n",
              "      <td>0</td>\n",
              "      <td>0</td>\n",
              "      <td>1</td>\n",
              "      <td>0</td>\n",
              "      <td>0</td>\n",
              "    </tr>\n",
              "    <tr>\n",
              "      <th>1200000.00</th>\n",
              "      <td>0</td>\n",
              "      <td>0</td>\n",
              "      <td>0</td>\n",
              "      <td>0</td>\n",
              "      <td>1</td>\n",
              "      <td>0</td>\n",
              "    </tr>\n",
              "    <tr>\n",
              "      <th>1300000.00</th>\n",
              "      <td>0</td>\n",
              "      <td>0</td>\n",
              "      <td>0</td>\n",
              "      <td>2</td>\n",
              "      <td>0</td>\n",
              "      <td>0</td>\n",
              "    </tr>\n",
              "    <tr>\n",
              "      <th>1306306.31</th>\n",
              "      <td>0</td>\n",
              "      <td>0</td>\n",
              "      <td>0</td>\n",
              "      <td>2</td>\n",
              "      <td>0</td>\n",
              "      <td>0</td>\n",
              "    </tr>\n",
              "    <tr>\n",
              "      <th>1350000.00</th>\n",
              "      <td>0</td>\n",
              "      <td>0</td>\n",
              "      <td>0</td>\n",
              "      <td>1</td>\n",
              "      <td>0</td>\n",
              "      <td>0</td>\n",
              "    </tr>\n",
              "    <tr>\n",
              "      <th>1415000.00</th>\n",
              "      <td>0</td>\n",
              "      <td>0</td>\n",
              "      <td>0</td>\n",
              "      <td>1</td>\n",
              "      <td>0</td>\n",
              "      <td>0</td>\n",
              "    </tr>\n",
              "    <tr>\n",
              "      <th>1441441.44</th>\n",
              "      <td>0</td>\n",
              "      <td>0</td>\n",
              "      <td>0</td>\n",
              "      <td>1</td>\n",
              "      <td>0</td>\n",
              "      <td>0</td>\n",
              "    </tr>\n",
              "    <tr>\n",
              "      <th>1500000.00</th>\n",
              "      <td>0</td>\n",
              "      <td>0</td>\n",
              "      <td>1</td>\n",
              "      <td>2</td>\n",
              "      <td>0</td>\n",
              "      <td>0</td>\n",
              "    </tr>\n",
              "    <tr>\n",
              "      <th>1600000.00</th>\n",
              "      <td>0</td>\n",
              "      <td>0</td>\n",
              "      <td>0</td>\n",
              "      <td>2</td>\n",
              "      <td>0</td>\n",
              "      <td>0</td>\n",
              "    </tr>\n",
              "    <tr>\n",
              "      <th>1700000.00</th>\n",
              "      <td>0</td>\n",
              "      <td>0</td>\n",
              "      <td>0</td>\n",
              "      <td>2</td>\n",
              "      <td>0</td>\n",
              "      <td>0</td>\n",
              "    </tr>\n",
              "    <tr>\n",
              "      <th>1800000.00</th>\n",
              "      <td>0</td>\n",
              "      <td>0</td>\n",
              "      <td>0</td>\n",
              "      <td>1</td>\n",
              "      <td>0</td>\n",
              "      <td>0</td>\n",
              "    </tr>\n",
              "    <tr>\n",
              "      <th>1850000.00</th>\n",
              "      <td>0</td>\n",
              "      <td>0</td>\n",
              "      <td>0</td>\n",
              "      <td>1</td>\n",
              "      <td>0</td>\n",
              "      <td>0</td>\n",
              "    </tr>\n",
              "    <tr>\n",
              "      <th>1868000.00</th>\n",
              "      <td>0</td>\n",
              "      <td>0</td>\n",
              "      <td>0</td>\n",
              "      <td>0</td>\n",
              "      <td>0</td>\n",
              "      <td>1</td>\n",
              "    </tr>\n",
              "    <tr>\n",
              "      <th>2000000.00</th>\n",
              "      <td>0</td>\n",
              "      <td>0</td>\n",
              "      <td>0</td>\n",
              "      <td>0</td>\n",
              "      <td>1</td>\n",
              "      <td>0</td>\n",
              "    </tr>\n",
              "    <tr>\n",
              "      <th>2500000.00</th>\n",
              "      <td>0</td>\n",
              "      <td>0</td>\n",
              "      <td>0</td>\n",
              "      <td>2</td>\n",
              "      <td>1</td>\n",
              "      <td>0</td>\n",
              "    </tr>\n",
              "    <tr>\n",
              "      <th>2540540.54</th>\n",
              "      <td>0</td>\n",
              "      <td>0</td>\n",
              "      <td>0</td>\n",
              "      <td>1</td>\n",
              "      <td>0</td>\n",
              "      <td>0</td>\n",
              "    </tr>\n",
              "    <tr>\n",
              "      <th>2700000.00</th>\n",
              "      <td>0</td>\n",
              "      <td>0</td>\n",
              "      <td>0</td>\n",
              "      <td>0</td>\n",
              "      <td>2</td>\n",
              "      <td>0</td>\n",
              "    </tr>\n",
              "    <tr>\n",
              "      <th>2750000.00</th>\n",
              "      <td>0</td>\n",
              "      <td>0</td>\n",
              "      <td>0</td>\n",
              "      <td>0</td>\n",
              "      <td>1</td>\n",
              "      <td>0</td>\n",
              "    </tr>\n",
              "    <tr>\n",
              "      <th>2800000.00</th>\n",
              "      <td>0</td>\n",
              "      <td>0</td>\n",
              "      <td>0</td>\n",
              "      <td>0</td>\n",
              "      <td>1</td>\n",
              "      <td>0</td>\n",
              "    </tr>\n",
              "    <tr>\n",
              "      <th>3200000.00</th>\n",
              "      <td>0</td>\n",
              "      <td>0</td>\n",
              "      <td>0</td>\n",
              "      <td>0</td>\n",
              "      <td>0</td>\n",
              "      <td>4</td>\n",
              "    </tr>\n",
              "    <tr>\n",
              "      <th>3250000.00</th>\n",
              "      <td>0</td>\n",
              "      <td>0</td>\n",
              "      <td>0</td>\n",
              "      <td>2</td>\n",
              "      <td>0</td>\n",
              "      <td>0</td>\n",
              "    </tr>\n",
              "    <tr>\n",
              "      <th>3378378.38</th>\n",
              "      <td>0</td>\n",
              "      <td>0</td>\n",
              "      <td>0</td>\n",
              "      <td>1</td>\n",
              "      <td>0</td>\n",
              "      <td>0</td>\n",
              "    </tr>\n",
              "    <tr>\n",
              "      <th>3750000.00</th>\n",
              "      <td>0</td>\n",
              "      <td>0</td>\n",
              "      <td>0</td>\n",
              "      <td>0</td>\n",
              "      <td>1</td>\n",
              "      <td>0</td>\n",
              "    </tr>\n",
              "    <tr>\n",
              "      <th>4100000.00</th>\n",
              "      <td>0</td>\n",
              "      <td>0</td>\n",
              "      <td>2</td>\n",
              "      <td>0</td>\n",
              "      <td>0</td>\n",
              "      <td>0</td>\n",
              "    </tr>\n",
              "    <tr>\n",
              "      <th>4200000.00</th>\n",
              "      <td>0</td>\n",
              "      <td>0</td>\n",
              "      <td>0</td>\n",
              "      <td>0</td>\n",
              "      <td>1</td>\n",
              "      <td>0</td>\n",
              "    </tr>\n",
              "    <tr>\n",
              "      <th>4650000.00</th>\n",
              "      <td>0</td>\n",
              "      <td>0</td>\n",
              "      <td>0</td>\n",
              "      <td>0</td>\n",
              "      <td>1</td>\n",
              "      <td>0</td>\n",
              "    </tr>\n",
              "    <tr>\n",
              "      <th>4800000.00</th>\n",
              "      <td>0</td>\n",
              "      <td>0</td>\n",
              "      <td>0</td>\n",
              "      <td>0</td>\n",
              "      <td>1</td>\n",
              "      <td>0</td>\n",
              "    </tr>\n",
              "    <tr>\n",
              "      <th>6000000.00</th>\n",
              "      <td>0</td>\n",
              "      <td>1</td>\n",
              "      <td>0</td>\n",
              "      <td>0</td>\n",
              "      <td>1</td>\n",
              "      <td>0</td>\n",
              "    </tr>\n",
              "    <tr>\n",
              "      <th>6216216.22</th>\n",
              "      <td>0</td>\n",
              "      <td>0</td>\n",
              "      <td>0</td>\n",
              "      <td>0</td>\n",
              "      <td>1</td>\n",
              "      <td>0</td>\n",
              "    </tr>\n",
              "    <tr>\n",
              "      <th>6225081.00</th>\n",
              "      <td>0</td>\n",
              "      <td>0</td>\n",
              "      <td>0</td>\n",
              "      <td>0</td>\n",
              "      <td>1</td>\n",
              "      <td>0</td>\n",
              "    </tr>\n",
              "    <tr>\n",
              "      <th>6500000.00</th>\n",
              "      <td>0</td>\n",
              "      <td>0</td>\n",
              "      <td>0</td>\n",
              "      <td>0</td>\n",
              "      <td>1</td>\n",
              "      <td>0</td>\n",
              "    </tr>\n",
              "    <tr>\n",
              "      <th>7000000.00</th>\n",
              "      <td>0</td>\n",
              "      <td>0</td>\n",
              "      <td>0</td>\n",
              "      <td>0</td>\n",
              "      <td>2</td>\n",
              "      <td>0</td>\n",
              "    </tr>\n",
              "    <tr>\n",
              "      <th>7100000.00</th>\n",
              "      <td>0</td>\n",
              "      <td>0</td>\n",
              "      <td>0</td>\n",
              "      <td>0</td>\n",
              "      <td>1</td>\n",
              "      <td>0</td>\n",
              "    </tr>\n",
              "    <tr>\n",
              "      <th>7499000.00</th>\n",
              "      <td>0</td>\n",
              "      <td>0</td>\n",
              "      <td>0</td>\n",
              "      <td>0</td>\n",
              "      <td>1</td>\n",
              "      <td>0</td>\n",
              "    </tr>\n",
              "    <tr>\n",
              "      <th>8000000.00</th>\n",
              "      <td>0</td>\n",
              "      <td>0</td>\n",
              "      <td>0</td>\n",
              "      <td>0</td>\n",
              "      <td>1</td>\n",
              "      <td>0</td>\n",
              "    </tr>\n",
              "    <tr>\n",
              "      <th>8500000.00</th>\n",
              "      <td>0</td>\n",
              "      <td>0</td>\n",
              "      <td>0</td>\n",
              "      <td>0</td>\n",
              "      <td>1</td>\n",
              "      <td>0</td>\n",
              "    </tr>\n",
              "    <tr>\n",
              "      <th>9500000.00</th>\n",
              "      <td>0</td>\n",
              "      <td>0</td>\n",
              "      <td>0</td>\n",
              "      <td>0</td>\n",
              "      <td>1</td>\n",
              "      <td>0</td>\n",
              "    </tr>\n",
              "    <tr>\n",
              "      <th>10000000.00</th>\n",
              "      <td>0</td>\n",
              "      <td>0</td>\n",
              "      <td>0</td>\n",
              "      <td>0</td>\n",
              "      <td>1</td>\n",
              "      <td>0</td>\n",
              "    </tr>\n",
              "    <tr>\n",
              "      <th>12000000.00</th>\n",
              "      <td>0</td>\n",
              "      <td>0</td>\n",
              "      <td>0</td>\n",
              "      <td>0</td>\n",
              "      <td>1</td>\n",
              "      <td>0</td>\n",
              "    </tr>\n",
              "    <tr>\n",
              "      <th>17484685.00</th>\n",
              "      <td>0</td>\n",
              "      <td>0</td>\n",
              "      <td>0</td>\n",
              "      <td>0</td>\n",
              "      <td>1</td>\n",
              "      <td>0</td>\n",
              "    </tr>\n",
              "    <tr>\n",
              "      <th>81675675.68</th>\n",
              "      <td>1</td>\n",
              "      <td>0</td>\n",
              "      <td>0</td>\n",
              "      <td>0</td>\n",
              "      <td>1</td>\n",
              "      <td>0</td>\n",
              "    </tr>\n",
              "  </tbody>\n",
              "</table>\n",
              "</div>"
            ],
            "text/plain": [
              "Layanan      0  1  2    3   4  5\n",
              "Biaya_Sewa                      \n",
              "0.00         0  0  1    8   2  0\n",
              "297297.30    0  0  0  274   0  0\n",
              "400000.00    0  0  0    2   0  0\n",
              "500000.00    0  0  0    1   0  0\n",
              "520000.00    0  0  0    1   0  0\n",
              "800000.00    0  0  0    1  70  0\n",
              "815384.61    0  0  0   11   0  0\n",
              "815385.61    0  0  0    1   0  0\n",
              "900000.00    0  0  0    2   0  0\n",
              "900900.90    0  0  0    1   0  0\n",
              "985000.00    0  0  0    1   0  0\n",
              "1000000.00   0  0  0    1   0  0\n",
              "1100000.00   0  0  0    1   0  0\n",
              "1200000.00   0  0  0    0   1  0\n",
              "1300000.00   0  0  0    2   0  0\n",
              "1306306.31   0  0  0    2   0  0\n",
              "1350000.00   0  0  0    1   0  0\n",
              "1415000.00   0  0  0    1   0  0\n",
              "1441441.44   0  0  0    1   0  0\n",
              "1500000.00   0  0  1    2   0  0\n",
              "1600000.00   0  0  0    2   0  0\n",
              "1700000.00   0  0  0    2   0  0\n",
              "1800000.00   0  0  0    1   0  0\n",
              "1850000.00   0  0  0    1   0  0\n",
              "1868000.00   0  0  0    0   0  1\n",
              "2000000.00   0  0  0    0   1  0\n",
              "2500000.00   0  0  0    2   1  0\n",
              "2540540.54   0  0  0    1   0  0\n",
              "2700000.00   0  0  0    0   2  0\n",
              "2750000.00   0  0  0    0   1  0\n",
              "2800000.00   0  0  0    0   1  0\n",
              "3200000.00   0  0  0    0   0  4\n",
              "3250000.00   0  0  0    2   0  0\n",
              "3378378.38   0  0  0    1   0  0\n",
              "3750000.00   0  0  0    0   1  0\n",
              "4100000.00   0  0  2    0   0  0\n",
              "4200000.00   0  0  0    0   1  0\n",
              "4650000.00   0  0  0    0   1  0\n",
              "4800000.00   0  0  0    0   1  0\n",
              "6000000.00   0  1  0    0   1  0\n",
              "6216216.22   0  0  0    0   1  0\n",
              "6225081.00   0  0  0    0   1  0\n",
              "6500000.00   0  0  0    0   1  0\n",
              "7000000.00   0  0  0    0   2  0\n",
              "7100000.00   0  0  0    0   1  0\n",
              "7499000.00   0  0  0    0   1  0\n",
              "8000000.00   0  0  0    0   1  0\n",
              "8500000.00   0  0  0    0   1  0\n",
              "9500000.00   0  0  0    0   1  0\n",
              "10000000.00  0  0  0    0   1  0\n",
              "12000000.00  0  0  0    0   1  0\n",
              "17484685.00  0  0  0    0   1  0\n",
              "81675675.68  1  0  0    0   1  0"
            ]
          },
          "execution_count": 185,
          "metadata": {},
          "output_type": "execute_result"
        }
      ],
      "source": [
        "cross_tab4 = pd.crosstab(data7['Biaya_Sewa'], data7['Layanan'])\n",
        "cross_tab4"
      ]
    },
    {
      "cell_type": "code",
      "execution_count": 186,
      "metadata": {
        "colab": {
          "base_uri": "https://localhost:8080/"
        },
        "id": "StvSmE1yvdK2",
        "outputId": "9b29593b-af53-483d-cee9-45a29d2df9c6"
      },
      "outputs": [
        {
          "name": "stdout",
          "output_type": "stream",
          "text": [
            "chi-squared = 1543.592671077056\n",
            "p-value= 4.825081465131569e-181\n",
            "degrees of freedom = 260\n"
          ]
        }
      ],
      "source": [
        "chi_sq, p_val, dof, con_table = stats.chi2_contingency(cross_tab4)\n",
        "print(f'chi-squared = {chi_sq}')\n",
        "print(f'p-value= {p_val}')\n",
        "print(f'degrees of freedom = {dof}')"
      ]
    },
    {
      "cell_type": "markdown",
      "metadata": {
        "id": "20DYJ-rFvdd2"
      },
      "source": [
        "**Kabupaten/Kota**"
      ]
    },
    {
      "cell_type": "code",
      "execution_count": 187,
      "metadata": {
        "colab": {
          "base_uri": "https://localhost:8080/",
          "height": 143
        },
        "id": "aHdIvjcbvdd3",
        "outputId": "17fa3037-747b-4305-c26b-0527dfc3935a"
      },
      "outputs": [
        {
          "data": {
            "text/html": [
              "<div>\n",
              "<style scoped>\n",
              "    .dataframe tbody tr th:only-of-type {\n",
              "        vertical-align: middle;\n",
              "    }\n",
              "\n",
              "    .dataframe tbody tr th {\n",
              "        vertical-align: top;\n",
              "    }\n",
              "\n",
              "    .dataframe thead th {\n",
              "        text-align: right;\n",
              "    }\n",
              "</style>\n",
              "<table border=\"1\" class=\"dataframe\">\n",
              "  <thead>\n",
              "    <tr style=\"text-align: right;\">\n",
              "      <th>Layanan</th>\n",
              "      <th>0</th>\n",
              "      <th>1</th>\n",
              "      <th>2</th>\n",
              "      <th>3</th>\n",
              "      <th>4</th>\n",
              "      <th>5</th>\n",
              "    </tr>\n",
              "    <tr>\n",
              "      <th>Kabupaten/Kota</th>\n",
              "      <th></th>\n",
              "      <th></th>\n",
              "      <th></th>\n",
              "      <th></th>\n",
              "      <th></th>\n",
              "      <th></th>\n",
              "    </tr>\n",
              "  </thead>\n",
              "  <tbody>\n",
              "    <tr>\n",
              "      <th>0</th>\n",
              "      <td>1</td>\n",
              "      <td>1</td>\n",
              "      <td>2</td>\n",
              "      <td>39</td>\n",
              "      <td>19</td>\n",
              "      <td>2</td>\n",
              "    </tr>\n",
              "    <tr>\n",
              "      <th>1</th>\n",
              "      <td>0</td>\n",
              "      <td>0</td>\n",
              "      <td>2</td>\n",
              "      <td>287</td>\n",
              "      <td>79</td>\n",
              "      <td>3</td>\n",
              "    </tr>\n",
              "  </tbody>\n",
              "</table>\n",
              "</div>"
            ],
            "text/plain": [
              "Layanan         0  1  2    3   4  5\n",
              "Kabupaten/Kota                     \n",
              "0               1  1  2   39  19  2\n",
              "1               0  0  2  287  79  3"
            ]
          },
          "execution_count": 187,
          "metadata": {},
          "output_type": "execute_result"
        }
      ],
      "source": [
        "cross_tab5 = pd.crosstab(data7['Kabupaten/Kota'], data7['Layanan'])\n",
        "cross_tab5"
      ]
    },
    {
      "cell_type": "code",
      "execution_count": 188,
      "metadata": {
        "colab": {
          "base_uri": "https://localhost:8080/"
        },
        "id": "rSVPvjiGvdd4",
        "outputId": "1febd393-61a6-46be-c953-20f0e1790e09"
      },
      "outputs": [
        {
          "name": "stdout",
          "output_type": "stream",
          "text": [
            "chi-squared = 21.782118878445328\n",
            "p-value= 0.0005759562684671286\n",
            "degrees of freedom = 5\n"
          ]
        }
      ],
      "source": [
        "chi_sq, p_val, dof, con_table = stats.chi2_contingency(cross_tab5)\n",
        "print(f'chi-squared = {chi_sq}')\n",
        "print(f'p-value= {p_val}')\n",
        "print(f'degrees of freedom = {dof}')"
      ]
    },
    {
      "cell_type": "markdown",
      "metadata": {
        "id": "LNKIBJXPvdrs"
      },
      "source": [
        "**Wilayah**"
      ]
    },
    {
      "cell_type": "code",
      "execution_count": 189,
      "metadata": {
        "colab": {
          "base_uri": "https://localhost:8080/",
          "height": 896
        },
        "id": "E9wYUX_8vdrs",
        "outputId": "78bb0a16-8e04-4c20-afd5-6bfe351c4e1c"
      },
      "outputs": [
        {
          "data": {
            "text/html": [
              "<div>\n",
              "<style scoped>\n",
              "    .dataframe tbody tr th:only-of-type {\n",
              "        vertical-align: middle;\n",
              "    }\n",
              "\n",
              "    .dataframe tbody tr th {\n",
              "        vertical-align: top;\n",
              "    }\n",
              "\n",
              "    .dataframe thead th {\n",
              "        text-align: right;\n",
              "    }\n",
              "</style>\n",
              "<table border=\"1\" class=\"dataframe\">\n",
              "  <thead>\n",
              "    <tr style=\"text-align: right;\">\n",
              "      <th>Layanan</th>\n",
              "      <th>0</th>\n",
              "      <th>1</th>\n",
              "      <th>2</th>\n",
              "      <th>3</th>\n",
              "      <th>4</th>\n",
              "      <th>5</th>\n",
              "    </tr>\n",
              "    <tr>\n",
              "      <th>Wilayah</th>\n",
              "      <th></th>\n",
              "      <th></th>\n",
              "      <th></th>\n",
              "      <th></th>\n",
              "      <th></th>\n",
              "      <th></th>\n",
              "    </tr>\n",
              "  </thead>\n",
              "  <tbody>\n",
              "    <tr>\n",
              "      <th>0</th>\n",
              "      <td>0</td>\n",
              "      <td>0</td>\n",
              "      <td>0</td>\n",
              "      <td>1</td>\n",
              "      <td>0</td>\n",
              "      <td>0</td>\n",
              "    </tr>\n",
              "    <tr>\n",
              "      <th>1</th>\n",
              "      <td>0</td>\n",
              "      <td>0</td>\n",
              "      <td>0</td>\n",
              "      <td>0</td>\n",
              "      <td>1</td>\n",
              "      <td>1</td>\n",
              "    </tr>\n",
              "    <tr>\n",
              "      <th>2</th>\n",
              "      <td>0</td>\n",
              "      <td>0</td>\n",
              "      <td>0</td>\n",
              "      <td>1</td>\n",
              "      <td>1</td>\n",
              "      <td>0</td>\n",
              "    </tr>\n",
              "    <tr>\n",
              "      <th>3</th>\n",
              "      <td>0</td>\n",
              "      <td>0</td>\n",
              "      <td>0</td>\n",
              "      <td>0</td>\n",
              "      <td>1</td>\n",
              "      <td>0</td>\n",
              "    </tr>\n",
              "    <tr>\n",
              "      <th>4</th>\n",
              "      <td>0</td>\n",
              "      <td>0</td>\n",
              "      <td>0</td>\n",
              "      <td>1</td>\n",
              "      <td>0</td>\n",
              "      <td>1</td>\n",
              "    </tr>\n",
              "    <tr>\n",
              "      <th>5</th>\n",
              "      <td>0</td>\n",
              "      <td>1</td>\n",
              "      <td>0</td>\n",
              "      <td>2</td>\n",
              "      <td>1</td>\n",
              "      <td>1</td>\n",
              "    </tr>\n",
              "    <tr>\n",
              "      <th>6</th>\n",
              "      <td>0</td>\n",
              "      <td>0</td>\n",
              "      <td>0</td>\n",
              "      <td>2</td>\n",
              "      <td>3</td>\n",
              "      <td>1</td>\n",
              "    </tr>\n",
              "    <tr>\n",
              "      <th>7</th>\n",
              "      <td>0</td>\n",
              "      <td>0</td>\n",
              "      <td>0</td>\n",
              "      <td>2</td>\n",
              "      <td>0</td>\n",
              "      <td>0</td>\n",
              "    </tr>\n",
              "    <tr>\n",
              "      <th>8</th>\n",
              "      <td>0</td>\n",
              "      <td>0</td>\n",
              "      <td>0</td>\n",
              "      <td>21</td>\n",
              "      <td>78</td>\n",
              "      <td>0</td>\n",
              "    </tr>\n",
              "    <tr>\n",
              "      <th>9</th>\n",
              "      <td>0</td>\n",
              "      <td>0</td>\n",
              "      <td>0</td>\n",
              "      <td>278</td>\n",
              "      <td>2</td>\n",
              "      <td>0</td>\n",
              "    </tr>\n",
              "    <tr>\n",
              "      <th>10</th>\n",
              "      <td>0</td>\n",
              "      <td>0</td>\n",
              "      <td>0</td>\n",
              "      <td>0</td>\n",
              "      <td>1</td>\n",
              "      <td>0</td>\n",
              "    </tr>\n",
              "    <tr>\n",
              "      <th>11</th>\n",
              "      <td>0</td>\n",
              "      <td>0</td>\n",
              "      <td>0</td>\n",
              "      <td>1</td>\n",
              "      <td>0</td>\n",
              "      <td>0</td>\n",
              "    </tr>\n",
              "    <tr>\n",
              "      <th>12</th>\n",
              "      <td>0</td>\n",
              "      <td>0</td>\n",
              "      <td>0</td>\n",
              "      <td>0</td>\n",
              "      <td>0</td>\n",
              "      <td>1</td>\n",
              "    </tr>\n",
              "    <tr>\n",
              "      <th>13</th>\n",
              "      <td>0</td>\n",
              "      <td>0</td>\n",
              "      <td>0</td>\n",
              "      <td>1</td>\n",
              "      <td>3</td>\n",
              "      <td>0</td>\n",
              "    </tr>\n",
              "    <tr>\n",
              "      <th>14</th>\n",
              "      <td>1</td>\n",
              "      <td>0</td>\n",
              "      <td>0</td>\n",
              "      <td>1</td>\n",
              "      <td>1</td>\n",
              "      <td>0</td>\n",
              "    </tr>\n",
              "    <tr>\n",
              "      <th>15</th>\n",
              "      <td>0</td>\n",
              "      <td>0</td>\n",
              "      <td>0</td>\n",
              "      <td>1</td>\n",
              "      <td>1</td>\n",
              "      <td>0</td>\n",
              "    </tr>\n",
              "    <tr>\n",
              "      <th>16</th>\n",
              "      <td>0</td>\n",
              "      <td>0</td>\n",
              "      <td>0</td>\n",
              "      <td>0</td>\n",
              "      <td>1</td>\n",
              "      <td>0</td>\n",
              "    </tr>\n",
              "    <tr>\n",
              "      <th>17</th>\n",
              "      <td>0</td>\n",
              "      <td>0</td>\n",
              "      <td>2</td>\n",
              "      <td>5</td>\n",
              "      <td>2</td>\n",
              "      <td>0</td>\n",
              "    </tr>\n",
              "    <tr>\n",
              "      <th>18</th>\n",
              "      <td>0</td>\n",
              "      <td>0</td>\n",
              "      <td>0</td>\n",
              "      <td>2</td>\n",
              "      <td>0</td>\n",
              "      <td>0</td>\n",
              "    </tr>\n",
              "    <tr>\n",
              "      <th>19</th>\n",
              "      <td>0</td>\n",
              "      <td>0</td>\n",
              "      <td>2</td>\n",
              "      <td>3</td>\n",
              "      <td>2</td>\n",
              "      <td>0</td>\n",
              "    </tr>\n",
              "    <tr>\n",
              "      <th>20</th>\n",
              "      <td>0</td>\n",
              "      <td>0</td>\n",
              "      <td>0</td>\n",
              "      <td>4</td>\n",
              "      <td>0</td>\n",
              "      <td>0</td>\n",
              "    </tr>\n",
              "  </tbody>\n",
              "</table>\n",
              "</div>"
            ],
            "text/plain": [
              "Layanan  0  1  2    3   4  5\n",
              "Wilayah                     \n",
              "0        0  0  0    1   0  0\n",
              "1        0  0  0    0   1  1\n",
              "2        0  0  0    1   1  0\n",
              "3        0  0  0    0   1  0\n",
              "4        0  0  0    1   0  1\n",
              "5        0  1  0    2   1  1\n",
              "6        0  0  0    2   3  1\n",
              "7        0  0  0    2   0  0\n",
              "8        0  0  0   21  78  0\n",
              "9        0  0  0  278   2  0\n",
              "10       0  0  0    0   1  0\n",
              "11       0  0  0    1   0  0\n",
              "12       0  0  0    0   0  1\n",
              "13       0  0  0    1   3  0\n",
              "14       1  0  0    1   1  0\n",
              "15       0  0  0    1   1  0\n",
              "16       0  0  0    0   1  0\n",
              "17       0  0  2    5   2  0\n",
              "18       0  0  0    2   0  0\n",
              "19       0  0  2    3   2  0\n",
              "20       0  0  0    4   0  0"
            ]
          },
          "execution_count": 189,
          "metadata": {},
          "output_type": "execute_result"
        }
      ],
      "source": [
        "cross_tab6 = pd.crosstab(data7['Wilayah'], data7['Layanan'])\n",
        "cross_tab6"
      ]
    },
    {
      "cell_type": "code",
      "execution_count": 190,
      "metadata": {
        "colab": {
          "base_uri": "https://localhost:8080/"
        },
        "id": "-eCxdTAbvdrt",
        "outputId": "0dfa39e1-f2d9-4282-8deb-0de2f394e724"
      },
      "outputs": [
        {
          "name": "stdout",
          "output_type": "stream",
          "text": [
            "chi-squared = 827.4668953662255\n",
            "p-value= 6.421535552068502e-115\n",
            "degrees of freedom = 100\n"
          ]
        }
      ],
      "source": [
        "chi_sq, p_val, dof, con_table = stats.chi2_contingency(cross_tab6)\n",
        "print(f'chi-squared = {chi_sq}')\n",
        "print(f'p-value= {p_val}')\n",
        "print(f'degrees of freedom = {dof}')"
      ]
    },
    {
      "cell_type": "markdown",
      "metadata": {
        "id": "Og_soNqkQHsP"
      },
      "source": [
        "## **Save the DataFrame**"
      ]
    },
    {
      "cell_type": "code",
      "execution_count": null,
      "metadata": {
        "id": "e0rbbfTbQHsQ"
      },
      "outputs": [],
      "source": []
    },
    {
      "cell_type": "markdown",
      "metadata": {
        "id": "BJIU75jb28KR"
      },
      "source": [
        "#**Modeling**"
      ]
    },
    {
      "cell_type": "markdown",
      "metadata": {
        "id": "z_BS58s067EQ"
      },
      "source": [
        "## Split Data"
      ]
    },
    {
      "cell_type": "code",
      "execution_count": 191,
      "metadata": {
        "id": "QjQG49DJ7JzF"
      },
      "outputs": [],
      "source": [
        "import pandas as pd\n",
        "from imblearn.over_sampling import SMOTE\n",
        "from sklearn.pipeline import Pipeline\n",
        "from imblearn.pipeline import make_pipeline\n",
        "from sklearn.linear_model import LogisticRegression as LR\n",
        "import matplotlib.pyplot as plt\n",
        "from imblearn.over_sampling import RandomOverSampler\n",
        "from sklearn.compose import ColumnTransformer\n",
        "from sklearn.preprocessing import OneHotEncoder, StandardScaler, LabelEncoder\n",
        "from sklearn.linear_model import LogisticRegression #digunakan untuk membuat model multinomial logistic regression\n",
        "from sklearn.naive_bayes import GaussianNB #digunakan untuk membuat model naive bayes\n",
        "from sklearn.tree import DecisionTreeClassifier #digunakan untuk membuat model decision tree\n",
        "from sklearn.ensemble import RandomForestClassifier #digunakan untuk membuat model random forest\n",
        "from sklearn.model_selection import train_test_split\n",
        "from sklearn.metrics import accuracy_score,confusion_matrix,classification_report\n",
        "import joblib"
      ]
    },
    {
      "cell_type": "code",
      "execution_count": 192,
      "metadata": {
        "id": "PIPTyP9H69F_"
      },
      "outputs": [],
      "source": [
        "# Load the data into a DataFrame\n",
        "df = pd.DataFrame(data7)\n",
        "\n",
        "# Split the data into training and testing sets\n",
        "X = df.drop('Layanan', axis=1)\n",
        "y = df['Layanan']\n",
        "X_train, X_test, y_train, y_test = train_test_split(X, y, test_size=0.2, random_state=123)"
      ]
    },
    {
      "cell_type": "markdown",
      "metadata": {
        "id": "ARP6xaM41_5g"
      },
      "source": [
        "## Data Imbalance"
      ]
    },
    {
      "cell_type": "code",
      "execution_count": 193,
      "metadata": {
        "colab": {
          "base_uri": "https://localhost:8080/"
        },
        "id": "Z4HAfGWs2DIw",
        "outputId": "80e1c5d4-b6fc-4f09-bc5c-3e2747bed05a"
      },
      "outputs": [
        {
          "data": {
            "text/plain": [
              "3    0.741379\n",
              "4    0.232759\n",
              "5    0.011494\n",
              "2    0.011494\n",
              "0    0.002874\n",
              "Name: Layanan, dtype: float64"
            ]
          },
          "execution_count": 193,
          "metadata": {},
          "output_type": "execute_result"
        }
      ],
      "source": [
        "pd.Series(y_train).value_counts(normalize=True)"
      ]
    },
    {
      "cell_type": "markdown",
      "metadata": {
        "id": "AyLrO2g22ZV7"
      },
      "source": [
        "It is clear that train set is imbalanced. I will build first model with this data and later on try to balance it using SMOTE."
      ]
    },
    {
      "cell_type": "markdown",
      "metadata": {
        "id": "vMwrjyZD7XOu"
      },
      "source": [
        "## Baseline Model - Multinomial Logistic Regression"
      ]
    },
    {
      "cell_type": "code",
      "execution_count": 194,
      "metadata": {
        "colab": {
          "base_uri": "https://localhost:8080/"
        },
        "id": "mxZIqCpq3Oc-",
        "outputId": "be7a7741-f285-4ed4-9846-77efdf69decf"
      },
      "outputs": [
        {
          "data": {
            "text/plain": [
              "[]"
            ]
          },
          "execution_count": 194,
          "metadata": {},
          "output_type": "execute_result"
        }
      ],
      "source": [
        "cat_cols = X_train.select_dtypes(include='object').columns\n",
        "indices = []\n",
        "for col in cat_cols:\n",
        "    indices.append(X_train.columns.get_loc(col))\n",
        "indices"
      ]
    },
    {
      "cell_type": "code",
      "execution_count": 195,
      "metadata": {
        "id": "n1RV6T133X-P"
      },
      "outputs": [],
      "source": [
        "transformer = ColumnTransformer(transformers=[('categorical',\n",
        "                                               OneHotEncoder(handle_unknown = 'ignore'), indices)],\n",
        "                                remainder = 'passthrough')"
      ]
    },
    {
      "cell_type": "code",
      "execution_count": 196,
      "metadata": {
        "colab": {
          "base_uri": "https://localhost:8080/"
        },
        "id": "MD6bvtW5509U",
        "outputId": "a13f0ae5-ea9f-4c91-ba1f-2ff378f3b162"
      },
      "outputs": [
        {
          "name": "stdout",
          "output_type": "stream",
          "text": [
            "Train Set Accuracy: 81.03%\n",
            "Test Set Accuracy: 83.91%\n",
            "\n",
            "Confusion Matrix:\n",
            "[[ 0  0  1  0]\n",
            " [ 0 68  0  0]\n",
            " [ 0 13  4  0]\n",
            " [ 0  0  0  1]]\n",
            "\n",
            "Classification Report:\n",
            "              precision    recall  f1-score   support\n",
            "\n",
            "           1       0.00      0.00      0.00         1\n",
            "           3       0.84      1.00      0.91        68\n",
            "           4       0.80      0.24      0.36        17\n",
            "           5       1.00      1.00      1.00         1\n",
            "\n",
            "    accuracy                           0.84        87\n",
            "   macro avg       0.66      0.56      0.57        87\n",
            "weighted avg       0.82      0.84      0.80        87\n",
            "\n"
          ]
        },
        {
          "name": "stderr",
          "output_type": "stream",
          "text": [
            "c:\\Users\\ASUS\\anaconda3\\lib\\site-packages\\sklearn\\metrics\\_classification.py:1318: UndefinedMetricWarning: Precision and F-score are ill-defined and being set to 0.0 in labels with no predicted samples. Use `zero_division` parameter to control this behavior.\n",
            "  _warn_prf(average, modifier, msg_start, len(result))\n",
            "c:\\Users\\ASUS\\anaconda3\\lib\\site-packages\\sklearn\\metrics\\_classification.py:1318: UndefinedMetricWarning: Precision and F-score are ill-defined and being set to 0.0 in labels with no predicted samples. Use `zero_division` parameter to control this behavior.\n",
            "  _warn_prf(average, modifier, msg_start, len(result))\n",
            "c:\\Users\\ASUS\\anaconda3\\lib\\site-packages\\sklearn\\metrics\\_classification.py:1318: UndefinedMetricWarning: Precision and F-score are ill-defined and being set to 0.0 in labels with no predicted samples. Use `zero_division` parameter to control this behavior.\n",
            "  _warn_prf(average, modifier, msg_start, len(result))\n"
          ]
        }
      ],
      "source": [
        "# Perform multinomial logistic regression\n",
        "lr = LogisticRegression(multi_class='multinomial', solver='newton-cg', max_iter=20000)\n",
        "\n",
        "# Create the pipeline including the transformer, scaler, and logistic regression model\n",
        "base_model_pipe = make_pipeline(transformer, StandardScaler(with_mean=False), lr)\n",
        "\n",
        "# Fit the pipeline on the training data\n",
        "base_model_pipe.fit(X_train, y_train)\n",
        "\n",
        "# Make predictions on the test set\n",
        "y_test_pred = base_model_pipe.predict(X_test)\n",
        "y_train_pred = base_model_pipe.predict(X_train)\n",
        "\n",
        "# Calculate the accuracy of the model\n",
        "train_accuracy = accuracy_score(y_train, y_train_pred) * 100\n",
        "test_accuracy = accuracy_score(y_test, y_test_pred) * 100\n",
        "print(\"Train Set Accuracy: {:.2f}%\".format(train_accuracy))\n",
        "print(\"Test Set Accuracy: {:.2f}%\".format(test_accuracy))\n",
        "\n",
        "# Confusion matrix and classification report\n",
        "print(\"\\nConfusion Matrix:\\n{}\".format(confusion_matrix(y_test, y_test_pred)))\n",
        "print(\"\\nClassification Report:\\n{}\".format(classification_report(y_test, y_test_pred)))"
      ]
    },
    {
      "cell_type": "code",
      "execution_count": 197,
      "metadata": {
        "colab": {
          "base_uri": "https://localhost:8080/"
        },
        "id": "9n-e5TDDAl8Q",
        "outputId": "8eea9915-0ff9-4666-f22e-58aa7c4e5989"
      },
      "outputs": [
        {
          "name": "stdout",
          "output_type": "stream",
          "text": [
            "Number of values correctly predicted:\n",
            "True     282\n",
            "False     66\n",
            "Name: Layanan, dtype: int64\n"
          ]
        }
      ],
      "source": [
        "residuals = y_train == y_train_pred\n",
        "\n",
        "print('Number of values correctly predicted:')\n",
        "print(pd.Series(residuals).value_counts())"
      ]
    },
    {
      "cell_type": "code",
      "execution_count": 198,
      "metadata": {
        "colab": {
          "base_uri": "https://localhost:8080/"
        },
        "id": "XrckmuMwAw7a",
        "outputId": "d88152cc-78c5-4863-c5e3-59bde7eeb84f"
      },
      "outputs": [
        {
          "name": "stdout",
          "output_type": "stream",
          "text": [
            "Number of values correctly predicted:\n",
            "True     73\n",
            "False    14\n",
            "Name: Layanan, dtype: int64\n"
          ]
        }
      ],
      "source": [
        "residuals = y_test == y_test_pred\n",
        "\n",
        "print('Number of values correctly predicted:')\n",
        "print(pd.Series(residuals).value_counts())"
      ]
    },
    {
      "cell_type": "markdown",
      "metadata": {
        "id": "AclUtW44BbPv"
      },
      "source": [
        "## Multinomial Logistic Regression with Upsampled Data"
      ]
    },
    {
      "cell_type": "code",
      "execution_count": 199,
      "metadata": {
        "colab": {
          "base_uri": "https://localhost:8080/"
        },
        "id": "gIK4GpBSQkdZ",
        "outputId": "e8844e76-669e-4a3a-9253-5b174034d33a"
      },
      "outputs": [
        {
          "name": "stdout",
          "output_type": "stream",
          "text": [
            "Index(['Bidang_Baku', 'Tipe', 'Bandwidth', 'Biaya_Sewa', 'Kabupaten/Kota',\n",
            "       'Wilayah'],\n",
            "      dtype='object')\n"
          ]
        }
      ],
      "source": [
        "print(X.columns)"
      ]
    },
    {
      "cell_type": "code",
      "execution_count": 200,
      "metadata": {
        "colab": {
          "base_uri": "https://localhost:8080/",
          "height": 589
        },
        "id": "a5WlDEs_BIEM",
        "outputId": "5caea0ec-3972-4ed2-be24-4c08226c5702"
      },
      "outputs": [
        {
          "name": "stderr",
          "output_type": "stream",
          "text": [
            "c:\\Users\\ASUS\\anaconda3\\lib\\site-packages\\scipy\\optimize\\_linesearch.py:456: LineSearchWarning: The line search algorithm did not converge\n",
            "  warn('The line search algorithm did not converge', LineSearchWarning)\n",
            "c:\\Users\\ASUS\\anaconda3\\lib\\site-packages\\scipy\\optimize\\_linesearch.py:305: LineSearchWarning: The line search algorithm did not converge\n",
            "  warn('The line search algorithm did not converge', LineSearchWarning)\n"
          ]
        },
        {
          "name": "stdout",
          "output_type": "stream",
          "text": [
            "Train Set Accuracy: 98.36%\n",
            "Test Set Accuracy: 91.95%\n",
            "\n",
            "Confusion Matrix:\n",
            "[[ 0  0  0  0  0  0]\n",
            " [ 0  0  0  0  0  0]\n",
            " [ 0  0  1  0  0  0]\n",
            " [ 0  0  3 59  0  0]\n",
            " [ 1  1  1  1 18  0]\n",
            " [ 0  0  0  0  0  2]]\n",
            "\n",
            "Classification Report:\n",
            "              precision    recall  f1-score   support\n",
            "\n",
            "           0       0.00      0.00      0.00         0\n",
            "           1       0.00      0.00      0.00         0\n",
            "           2       0.20      1.00      0.33         1\n",
            "           3       0.98      0.95      0.97        62\n",
            "           4       1.00      0.82      0.90        22\n",
            "           5       1.00      1.00      1.00         2\n",
            "\n",
            "    accuracy                           0.92        87\n",
            "   macro avg       0.53      0.63      0.53        87\n",
            "weighted avg       0.98      0.92      0.94        87\n",
            "\n"
          ]
        },
        {
          "name": "stderr",
          "output_type": "stream",
          "text": [
            "c:\\Users\\ASUS\\anaconda3\\lib\\site-packages\\sklearn\\utils\\optimize.py:203: UserWarning: Line Search failed\n",
            "  warnings.warn(\"Line Search failed\")\n",
            "c:\\Users\\ASUS\\anaconda3\\lib\\site-packages\\sklearn\\metrics\\_classification.py:1318: UndefinedMetricWarning: Recall and F-score are ill-defined and being set to 0.0 in labels with no true samples. Use `zero_division` parameter to control this behavior.\n",
            "  _warn_prf(average, modifier, msg_start, len(result))\n",
            "c:\\Users\\ASUS\\anaconda3\\lib\\site-packages\\sklearn\\metrics\\_classification.py:1318: UndefinedMetricWarning: Recall and F-score are ill-defined and being set to 0.0 in labels with no true samples. Use `zero_division` parameter to control this behavior.\n",
            "  _warn_prf(average, modifier, msg_start, len(result))\n",
            "c:\\Users\\ASUS\\anaconda3\\lib\\site-packages\\sklearn\\metrics\\_classification.py:1318: UndefinedMetricWarning: Recall and F-score are ill-defined and being set to 0.0 in labels with no true samples. Use `zero_division` parameter to control this behavior.\n",
            "  _warn_prf(average, modifier, msg_start, len(result))\n"
          ]
        },
        {
          "data": {
            "text/plain": [
              "['lr_model.pkl']"
            ]
          },
          "execution_count": 200,
          "metadata": {},
          "output_type": "execute_result"
        }
      ],
      "source": [
        "# Split the data into train and test sets\n",
        "X_train, X_test, y_train, y_test = train_test_split(X, y, test_size=0.2, random_state=42)\n",
        "\n",
        "# Calculate the minimum number of samples (n_samples) among the 199 classes\n",
        "n_samples = min([len(X_train[y_train == i]) for i in range(199)])\n",
        "\n",
        "# Choose a value for the n_neighbors parameter\n",
        "n_neighbors = 5  # Adjust this value as needed\n",
        "\n",
        "# Apply SMOTE if n_neighbors <= n_samples, otherwise apply RandomOverSampler\n",
        "if n_neighbors <= n_samples:\n",
        "    oversampler = SMOTE(sampling_strategy='not majority', k_neighbors=n_neighbors)\n",
        "else:\n",
        "    oversampler = RandomOverSampler(sampling_strategy='not majority')\n",
        "\n",
        "# Apply oversampling to the training data\n",
        "X_train_oversampled, y_train_oversampled = oversampler.fit_resample(X_train, y_train)\n",
        "\n",
        "# Create the logistic regression model\n",
        "lr = LogisticRegression(multi_class='multinomial', solver='newton-cg', max_iter=20000)\n",
        "\n",
        "# Fit the logistic regression model on the preprocessed training data\n",
        "lr.fit(X_train_oversampled, y_train_oversampled)\n",
        "\n",
        "# Make predictions on the test set\n",
        "y_test_pred = lr.predict(X_test)\n",
        "y_train_pred = lr.predict(X_train_oversampled)\n",
        "\n",
        "# Calculate the accuracy of the model\n",
        "train_accuracy = accuracy_score(y_train_oversampled, y_train_pred) * 100\n",
        "test_accuracy = accuracy_score(y_test, y_test_pred) * 100\n",
        "print(\"Train Set Accuracy: {:.2f}%\".format(train_accuracy))\n",
        "print(\"Test Set Accuracy: {:.2f}%\".format(test_accuracy))\n",
        "\n",
        "# Confusion matrix and classification report\n",
        "print(\"\\nConfusion Matrix:\\n{}\".format(confusion_matrix(y_test, y_test_pred)))\n",
        "print(\"\\nClassification Report:\\n{}\".format(classification_report(y_test, y_test_pred)))\n",
        "\n",
        "# Save the trained model as a .pkl file\n",
        "joblib.dump(lr, 'lr_model.pkl')"
      ]
    },
    {
      "cell_type": "code",
      "execution_count": 201,
      "metadata": {
        "id": "Sm0uklPxBIEf"
      },
      "outputs": [
        {
          "name": "stdout",
          "output_type": "stream",
          "text": [
            "Number of values correctly predicted:\n",
            "True     1558\n",
            "False      26\n",
            "Name: Layanan, dtype: int64\n"
          ]
        }
      ],
      "source": [
        "residuals = y_train_oversampled == y_train_pred\n",
        "\n",
        "print('Number of values correctly predicted:')\n",
        "print(pd.Series(residuals).value_counts())"
      ]
    },
    {
      "cell_type": "markdown",
      "metadata": {},
      "source": [
        "## Feature Importance Logistic Regression"
      ]
    },
    {
      "cell_type": "code",
      "execution_count": 202,
      "metadata": {},
      "outputs": [
        {
          "name": "stdout",
          "output_type": "stream",
          "text": [
            "<class 'pandas.core.frame.DataFrame'>\n",
            "Int64Index: 348 entries, 458 to 501\n",
            "Data columns (total 6 columns):\n",
            " #   Column          Non-Null Count  Dtype  \n",
            "---  ------          --------------  -----  \n",
            " 0   Bidang_Baku     348 non-null    int32  \n",
            " 1   Tipe            348 non-null    int32  \n",
            " 2   Bandwidth       348 non-null    float64\n",
            " 3   Biaya_Sewa      348 non-null    float64\n",
            " 4   Kabupaten/Kota  348 non-null    int32  \n",
            " 5   Wilayah         348 non-null    int32  \n",
            "dtypes: float64(2), int32(4)\n",
            "memory usage: 13.6 KB\n"
          ]
        }
      ],
      "source": [
        "X_train.info()"
      ]
    },
    {
      "cell_type": "code",
      "execution_count": 203,
      "metadata": {},
      "outputs": [
        {
          "ename": "ValueError",
          "evalue": "endog and exog matrices are different sizes",
          "output_type": "error",
          "traceback": [
            "\u001b[1;31m---------------------------------------------------------------------------\u001b[0m",
            "\u001b[1;31mValueError\u001b[0m                                Traceback (most recent call last)",
            "\u001b[1;32m~\\AppData\\Local\\Temp\\ipykernel_13392\\2298201475.py\u001b[0m in \u001b[0;36m<module>\u001b[1;34m\u001b[0m\n\u001b[0;32m      1\u001b[0m \u001b[1;32mimport\u001b[0m \u001b[0mstatsmodels\u001b[0m\u001b[1;33m.\u001b[0m\u001b[0mapi\u001b[0m \u001b[1;32mas\u001b[0m \u001b[0msm\u001b[0m\u001b[1;33m\u001b[0m\u001b[1;33m\u001b[0m\u001b[0m\n\u001b[0;32m      2\u001b[0m \u001b[0mformula\u001b[0m \u001b[1;33m=\u001b[0m\u001b[1;34m'Bidang_Baku'\u001b[0m\u001b[1;33m,\u001b[0m \u001b[1;34m'Tipe'\u001b[0m\u001b[1;33m,\u001b[0m \u001b[1;34m'Bandwidth'\u001b[0m\u001b[1;33m,\u001b[0m \u001b[1;34m'Biaya_Sewa'\u001b[0m\u001b[1;33m,\u001b[0m\u001b[1;34m'Kabupaten/Kota'\u001b[0m\u001b[1;33m,\u001b[0m \u001b[1;34m'Wilayah'\u001b[0m\u001b[1;33m\u001b[0m\u001b[1;33m\u001b[0m\u001b[0m\n\u001b[1;32m----> 3\u001b[1;33m \u001b[0mlm\u001b[0m \u001b[1;33m=\u001b[0m \u001b[0msm\u001b[0m\u001b[1;33m.\u001b[0m\u001b[0mOLS\u001b[0m\u001b[1;33m(\u001b[0m\u001b[0mformula\u001b[0m\u001b[1;33m,\u001b[0m \u001b[0mdata7\u001b[0m\u001b[1;33m)\u001b[0m\u001b[1;33m.\u001b[0m\u001b[0mfit\u001b[0m\u001b[1;33m(\u001b[0m\u001b[1;33m)\u001b[0m\u001b[1;33m\u001b[0m\u001b[1;33m\u001b[0m\u001b[0m\n\u001b[0m\u001b[0;32m      4\u001b[0m \u001b[0mtable\u001b[0m \u001b[1;33m=\u001b[0m \u001b[0msm\u001b[0m\u001b[1;33m.\u001b[0m\u001b[0mstats\u001b[0m\u001b[1;33m.\u001b[0m\u001b[0manova_lm\u001b[0m\u001b[1;33m(\u001b[0m\u001b[0mlm\u001b[0m\u001b[1;33m,\u001b[0m \u001b[0mtyp\u001b[0m\u001b[1;33m=\u001b[0m\u001b[1;36m2\u001b[0m\u001b[1;33m)\u001b[0m\u001b[1;33m\u001b[0m\u001b[1;33m\u001b[0m\u001b[0m\n\u001b[0;32m      5\u001b[0m \u001b[0mprint\u001b[0m\u001b[1;33m(\u001b[0m\u001b[0mtable\u001b[0m\u001b[1;33m)\u001b[0m\u001b[1;33m\u001b[0m\u001b[1;33m\u001b[0m\u001b[0m\n",
            "\u001b[1;32mc:\\Users\\ASUS\\anaconda3\\lib\\site-packages\\statsmodels\\regression\\linear_model.py\u001b[0m in \u001b[0;36m__init__\u001b[1;34m(self, endog, exog, missing, hasconst, **kwargs)\u001b[0m\n\u001b[0;32m    888\u001b[0m                    \"An exception will be raised in the next version.\")\n\u001b[0;32m    889\u001b[0m             \u001b[0mwarnings\u001b[0m\u001b[1;33m.\u001b[0m\u001b[0mwarn\u001b[0m\u001b[1;33m(\u001b[0m\u001b[0mmsg\u001b[0m\u001b[1;33m,\u001b[0m \u001b[0mValueWarning\u001b[0m\u001b[1;33m)\u001b[0m\u001b[1;33m\u001b[0m\u001b[1;33m\u001b[0m\u001b[0m\n\u001b[1;32m--> 890\u001b[1;33m         super(OLS, self).__init__(endog, exog, missing=missing,\n\u001b[0m\u001b[0;32m    891\u001b[0m                                   hasconst=hasconst, **kwargs)\n\u001b[0;32m    892\u001b[0m         \u001b[1;32mif\u001b[0m \u001b[1;34m\"weights\"\u001b[0m \u001b[1;32min\u001b[0m \u001b[0mself\u001b[0m\u001b[1;33m.\u001b[0m\u001b[0m_init_keys\u001b[0m\u001b[1;33m:\u001b[0m\u001b[1;33m\u001b[0m\u001b[1;33m\u001b[0m\u001b[0m\n",
            "\u001b[1;32mc:\\Users\\ASUS\\anaconda3\\lib\\site-packages\\statsmodels\\regression\\linear_model.py\u001b[0m in \u001b[0;36m__init__\u001b[1;34m(self, endog, exog, weights, missing, hasconst, **kwargs)\u001b[0m\n\u001b[0;32m    715\u001b[0m         \u001b[1;32melse\u001b[0m\u001b[1;33m:\u001b[0m\u001b[1;33m\u001b[0m\u001b[1;33m\u001b[0m\u001b[0m\n\u001b[0;32m    716\u001b[0m             \u001b[0mweights\u001b[0m \u001b[1;33m=\u001b[0m \u001b[0mweights\u001b[0m\u001b[1;33m.\u001b[0m\u001b[0msqueeze\u001b[0m\u001b[1;33m(\u001b[0m\u001b[1;33m)\u001b[0m\u001b[1;33m\u001b[0m\u001b[1;33m\u001b[0m\u001b[0m\n\u001b[1;32m--> 717\u001b[1;33m         super(WLS, self).__init__(endog, exog, missing=missing,\n\u001b[0m\u001b[0;32m    718\u001b[0m                                   weights=weights, hasconst=hasconst, **kwargs)\n\u001b[0;32m    719\u001b[0m         \u001b[0mnobs\u001b[0m \u001b[1;33m=\u001b[0m \u001b[0mself\u001b[0m\u001b[1;33m.\u001b[0m\u001b[0mexog\u001b[0m\u001b[1;33m.\u001b[0m\u001b[0mshape\u001b[0m\u001b[1;33m[\u001b[0m\u001b[1;36m0\u001b[0m\u001b[1;33m]\u001b[0m\u001b[1;33m\u001b[0m\u001b[1;33m\u001b[0m\u001b[0m\n",
            "\u001b[1;32mc:\\Users\\ASUS\\anaconda3\\lib\\site-packages\\statsmodels\\regression\\linear_model.py\u001b[0m in \u001b[0;36m__init__\u001b[1;34m(self, endog, exog, **kwargs)\u001b[0m\n\u001b[0;32m    189\u001b[0m     \"\"\"\n\u001b[0;32m    190\u001b[0m     \u001b[1;32mdef\u001b[0m \u001b[0m__init__\u001b[0m\u001b[1;33m(\u001b[0m\u001b[0mself\u001b[0m\u001b[1;33m,\u001b[0m \u001b[0mendog\u001b[0m\u001b[1;33m,\u001b[0m \u001b[0mexog\u001b[0m\u001b[1;33m,\u001b[0m \u001b[1;33m**\u001b[0m\u001b[0mkwargs\u001b[0m\u001b[1;33m)\u001b[0m\u001b[1;33m:\u001b[0m\u001b[1;33m\u001b[0m\u001b[1;33m\u001b[0m\u001b[0m\n\u001b[1;32m--> 191\u001b[1;33m         \u001b[0msuper\u001b[0m\u001b[1;33m(\u001b[0m\u001b[0mRegressionModel\u001b[0m\u001b[1;33m,\u001b[0m \u001b[0mself\u001b[0m\u001b[1;33m)\u001b[0m\u001b[1;33m.\u001b[0m\u001b[0m__init__\u001b[0m\u001b[1;33m(\u001b[0m\u001b[0mendog\u001b[0m\u001b[1;33m,\u001b[0m \u001b[0mexog\u001b[0m\u001b[1;33m,\u001b[0m \u001b[1;33m**\u001b[0m\u001b[0mkwargs\u001b[0m\u001b[1;33m)\u001b[0m\u001b[1;33m\u001b[0m\u001b[1;33m\u001b[0m\u001b[0m\n\u001b[0m\u001b[0;32m    192\u001b[0m         \u001b[0mself\u001b[0m\u001b[1;33m.\u001b[0m\u001b[0m_data_attr\u001b[0m\u001b[1;33m.\u001b[0m\u001b[0mextend\u001b[0m\u001b[1;33m(\u001b[0m\u001b[1;33m[\u001b[0m\u001b[1;34m'pinv_wexog'\u001b[0m\u001b[1;33m,\u001b[0m \u001b[1;34m'wendog'\u001b[0m\u001b[1;33m,\u001b[0m \u001b[1;34m'wexog'\u001b[0m\u001b[1;33m,\u001b[0m \u001b[1;34m'weights'\u001b[0m\u001b[1;33m]\u001b[0m\u001b[1;33m)\u001b[0m\u001b[1;33m\u001b[0m\u001b[1;33m\u001b[0m\u001b[0m\n\u001b[0;32m    193\u001b[0m \u001b[1;33m\u001b[0m\u001b[0m\n",
            "\u001b[1;32mc:\\Users\\ASUS\\anaconda3\\lib\\site-packages\\statsmodels\\base\\model.py\u001b[0m in \u001b[0;36m__init__\u001b[1;34m(self, endog, exog, **kwargs)\u001b[0m\n\u001b[0;32m    265\u001b[0m \u001b[1;33m\u001b[0m\u001b[0m\n\u001b[0;32m    266\u001b[0m     \u001b[1;32mdef\u001b[0m \u001b[0m__init__\u001b[0m\u001b[1;33m(\u001b[0m\u001b[0mself\u001b[0m\u001b[1;33m,\u001b[0m \u001b[0mendog\u001b[0m\u001b[1;33m,\u001b[0m \u001b[0mexog\u001b[0m\u001b[1;33m=\u001b[0m\u001b[1;32mNone\u001b[0m\u001b[1;33m,\u001b[0m \u001b[1;33m**\u001b[0m\u001b[0mkwargs\u001b[0m\u001b[1;33m)\u001b[0m\u001b[1;33m:\u001b[0m\u001b[1;33m\u001b[0m\u001b[1;33m\u001b[0m\u001b[0m\n\u001b[1;32m--> 267\u001b[1;33m         \u001b[0msuper\u001b[0m\u001b[1;33m(\u001b[0m\u001b[1;33m)\u001b[0m\u001b[1;33m.\u001b[0m\u001b[0m__init__\u001b[0m\u001b[1;33m(\u001b[0m\u001b[0mendog\u001b[0m\u001b[1;33m,\u001b[0m \u001b[0mexog\u001b[0m\u001b[1;33m,\u001b[0m \u001b[1;33m**\u001b[0m\u001b[0mkwargs\u001b[0m\u001b[1;33m)\u001b[0m\u001b[1;33m\u001b[0m\u001b[1;33m\u001b[0m\u001b[0m\n\u001b[0m\u001b[0;32m    268\u001b[0m         \u001b[0mself\u001b[0m\u001b[1;33m.\u001b[0m\u001b[0minitialize\u001b[0m\u001b[1;33m(\u001b[0m\u001b[1;33m)\u001b[0m\u001b[1;33m\u001b[0m\u001b[1;33m\u001b[0m\u001b[0m\n\u001b[0;32m    269\u001b[0m \u001b[1;33m\u001b[0m\u001b[0m\n",
            "\u001b[1;32mc:\\Users\\ASUS\\anaconda3\\lib\\site-packages\\statsmodels\\base\\model.py\u001b[0m in \u001b[0;36m__init__\u001b[1;34m(self, endog, exog, **kwargs)\u001b[0m\n\u001b[0;32m     90\u001b[0m         \u001b[0mmissing\u001b[0m \u001b[1;33m=\u001b[0m \u001b[0mkwargs\u001b[0m\u001b[1;33m.\u001b[0m\u001b[0mpop\u001b[0m\u001b[1;33m(\u001b[0m\u001b[1;34m'missing'\u001b[0m\u001b[1;33m,\u001b[0m \u001b[1;34m'none'\u001b[0m\u001b[1;33m)\u001b[0m\u001b[1;33m\u001b[0m\u001b[1;33m\u001b[0m\u001b[0m\n\u001b[0;32m     91\u001b[0m         \u001b[0mhasconst\u001b[0m \u001b[1;33m=\u001b[0m \u001b[0mkwargs\u001b[0m\u001b[1;33m.\u001b[0m\u001b[0mpop\u001b[0m\u001b[1;33m(\u001b[0m\u001b[1;34m'hasconst'\u001b[0m\u001b[1;33m,\u001b[0m \u001b[1;32mNone\u001b[0m\u001b[1;33m)\u001b[0m\u001b[1;33m\u001b[0m\u001b[1;33m\u001b[0m\u001b[0m\n\u001b[1;32m---> 92\u001b[1;33m         self.data = self._handle_data(endog, exog, missing, hasconst,\n\u001b[0m\u001b[0;32m     93\u001b[0m                                       **kwargs)\n\u001b[0;32m     94\u001b[0m         \u001b[0mself\u001b[0m\u001b[1;33m.\u001b[0m\u001b[0mk_constant\u001b[0m \u001b[1;33m=\u001b[0m \u001b[0mself\u001b[0m\u001b[1;33m.\u001b[0m\u001b[0mdata\u001b[0m\u001b[1;33m.\u001b[0m\u001b[0mk_constant\u001b[0m\u001b[1;33m\u001b[0m\u001b[1;33m\u001b[0m\u001b[0m\n",
            "\u001b[1;32mc:\\Users\\ASUS\\anaconda3\\lib\\site-packages\\statsmodels\\base\\model.py\u001b[0m in \u001b[0;36m_handle_data\u001b[1;34m(self, endog, exog, missing, hasconst, **kwargs)\u001b[0m\n\u001b[0;32m    130\u001b[0m \u001b[1;33m\u001b[0m\u001b[0m\n\u001b[0;32m    131\u001b[0m     \u001b[1;32mdef\u001b[0m \u001b[0m_handle_data\u001b[0m\u001b[1;33m(\u001b[0m\u001b[0mself\u001b[0m\u001b[1;33m,\u001b[0m \u001b[0mendog\u001b[0m\u001b[1;33m,\u001b[0m \u001b[0mexog\u001b[0m\u001b[1;33m,\u001b[0m \u001b[0mmissing\u001b[0m\u001b[1;33m,\u001b[0m \u001b[0mhasconst\u001b[0m\u001b[1;33m,\u001b[0m \u001b[1;33m**\u001b[0m\u001b[0mkwargs\u001b[0m\u001b[1;33m)\u001b[0m\u001b[1;33m:\u001b[0m\u001b[1;33m\u001b[0m\u001b[1;33m\u001b[0m\u001b[0m\n\u001b[1;32m--> 132\u001b[1;33m         \u001b[0mdata\u001b[0m \u001b[1;33m=\u001b[0m \u001b[0mhandle_data\u001b[0m\u001b[1;33m(\u001b[0m\u001b[0mendog\u001b[0m\u001b[1;33m,\u001b[0m \u001b[0mexog\u001b[0m\u001b[1;33m,\u001b[0m \u001b[0mmissing\u001b[0m\u001b[1;33m,\u001b[0m \u001b[0mhasconst\u001b[0m\u001b[1;33m,\u001b[0m \u001b[1;33m**\u001b[0m\u001b[0mkwargs\u001b[0m\u001b[1;33m)\u001b[0m\u001b[1;33m\u001b[0m\u001b[1;33m\u001b[0m\u001b[0m\n\u001b[0m\u001b[0;32m    133\u001b[0m         \u001b[1;31m# kwargs arrays could have changed, easier to just attach here\u001b[0m\u001b[1;33m\u001b[0m\u001b[1;33m\u001b[0m\u001b[0m\n\u001b[0;32m    134\u001b[0m         \u001b[1;32mfor\u001b[0m \u001b[0mkey\u001b[0m \u001b[1;32min\u001b[0m \u001b[0mkwargs\u001b[0m\u001b[1;33m:\u001b[0m\u001b[1;33m\u001b[0m\u001b[1;33m\u001b[0m\u001b[0m\n",
            "\u001b[1;32mc:\\Users\\ASUS\\anaconda3\\lib\\site-packages\\statsmodels\\base\\data.py\u001b[0m in \u001b[0;36mhandle_data\u001b[1;34m(endog, exog, missing, hasconst, **kwargs)\u001b[0m\n\u001b[0;32m    671\u001b[0m \u001b[1;33m\u001b[0m\u001b[0m\n\u001b[0;32m    672\u001b[0m     \u001b[0mklass\u001b[0m \u001b[1;33m=\u001b[0m \u001b[0mhandle_data_class_factory\u001b[0m\u001b[1;33m(\u001b[0m\u001b[0mendog\u001b[0m\u001b[1;33m,\u001b[0m \u001b[0mexog\u001b[0m\u001b[1;33m)\u001b[0m\u001b[1;33m\u001b[0m\u001b[1;33m\u001b[0m\u001b[0m\n\u001b[1;32m--> 673\u001b[1;33m     return klass(endog, exog=exog, missing=missing, hasconst=hasconst,\n\u001b[0m\u001b[0;32m    674\u001b[0m                  **kwargs)\n",
            "\u001b[1;32mc:\\Users\\ASUS\\anaconda3\\lib\\site-packages\\statsmodels\\base\\data.py\u001b[0m in \u001b[0;36m__init__\u001b[1;34m(self, endog, exog, missing, hasconst, **kwargs)\u001b[0m\n\u001b[0;32m     85\u001b[0m         \u001b[0mself\u001b[0m\u001b[1;33m.\u001b[0m\u001b[0mk_constant\u001b[0m \u001b[1;33m=\u001b[0m \u001b[1;36m0\u001b[0m\u001b[1;33m\u001b[0m\u001b[1;33m\u001b[0m\u001b[0m\n\u001b[0;32m     86\u001b[0m         \u001b[0mself\u001b[0m\u001b[1;33m.\u001b[0m\u001b[0m_handle_constant\u001b[0m\u001b[1;33m(\u001b[0m\u001b[0mhasconst\u001b[0m\u001b[1;33m)\u001b[0m\u001b[1;33m\u001b[0m\u001b[1;33m\u001b[0m\u001b[0m\n\u001b[1;32m---> 87\u001b[1;33m         \u001b[0mself\u001b[0m\u001b[1;33m.\u001b[0m\u001b[0m_check_integrity\u001b[0m\u001b[1;33m(\u001b[0m\u001b[1;33m)\u001b[0m\u001b[1;33m\u001b[0m\u001b[1;33m\u001b[0m\u001b[0m\n\u001b[0m\u001b[0;32m     88\u001b[0m         \u001b[0mself\u001b[0m\u001b[1;33m.\u001b[0m\u001b[0m_cache\u001b[0m \u001b[1;33m=\u001b[0m \u001b[1;33m{\u001b[0m\u001b[1;33m}\u001b[0m\u001b[1;33m\u001b[0m\u001b[1;33m\u001b[0m\u001b[0m\n\u001b[0;32m     89\u001b[0m \u001b[1;33m\u001b[0m\u001b[0m\n",
            "\u001b[1;32mc:\\Users\\ASUS\\anaconda3\\lib\\site-packages\\statsmodels\\base\\data.py\u001b[0m in \u001b[0;36m_check_integrity\u001b[1;34m(self)\u001b[0m\n\u001b[0;32m    530\u001b[0m                 not self.orig_endog.index.equals(self.orig_exog.index)):\n\u001b[0;32m    531\u001b[0m             \u001b[1;32mraise\u001b[0m \u001b[0mValueError\u001b[0m\u001b[1;33m(\u001b[0m\u001b[1;34m\"The indices for endog and exog are not aligned\"\u001b[0m\u001b[1;33m)\u001b[0m\u001b[1;33m\u001b[0m\u001b[1;33m\u001b[0m\u001b[0m\n\u001b[1;32m--> 532\u001b[1;33m         \u001b[0msuper\u001b[0m\u001b[1;33m(\u001b[0m\u001b[0mPandasData\u001b[0m\u001b[1;33m,\u001b[0m \u001b[0mself\u001b[0m\u001b[1;33m)\u001b[0m\u001b[1;33m.\u001b[0m\u001b[0m_check_integrity\u001b[0m\u001b[1;33m(\u001b[0m\u001b[1;33m)\u001b[0m\u001b[1;33m\u001b[0m\u001b[1;33m\u001b[0m\u001b[0m\n\u001b[0m\u001b[0;32m    533\u001b[0m \u001b[1;33m\u001b[0m\u001b[0m\n\u001b[0;32m    534\u001b[0m     \u001b[1;32mdef\u001b[0m \u001b[0m_get_row_labels\u001b[0m\u001b[1;33m(\u001b[0m\u001b[0mself\u001b[0m\u001b[1;33m,\u001b[0m \u001b[0marr\u001b[0m\u001b[1;33m)\u001b[0m\u001b[1;33m:\u001b[0m\u001b[1;33m\u001b[0m\u001b[1;33m\u001b[0m\u001b[0m\n",
            "\u001b[1;32mc:\\Users\\ASUS\\anaconda3\\lib\\site-packages\\statsmodels\\base\\data.py\u001b[0m in \u001b[0;36m_check_integrity\u001b[1;34m(self)\u001b[0m\n\u001b[0;32m    432\u001b[0m         \u001b[1;32mif\u001b[0m \u001b[0mself\u001b[0m\u001b[1;33m.\u001b[0m\u001b[0mexog\u001b[0m \u001b[1;32mis\u001b[0m \u001b[1;32mnot\u001b[0m \u001b[1;32mNone\u001b[0m\u001b[1;33m:\u001b[0m\u001b[1;33m\u001b[0m\u001b[1;33m\u001b[0m\u001b[0m\n\u001b[0;32m    433\u001b[0m             \u001b[1;32mif\u001b[0m \u001b[0mlen\u001b[0m\u001b[1;33m(\u001b[0m\u001b[0mself\u001b[0m\u001b[1;33m.\u001b[0m\u001b[0mexog\u001b[0m\u001b[1;33m)\u001b[0m \u001b[1;33m!=\u001b[0m \u001b[0mlen\u001b[0m\u001b[1;33m(\u001b[0m\u001b[0mself\u001b[0m\u001b[1;33m.\u001b[0m\u001b[0mendog\u001b[0m\u001b[1;33m)\u001b[0m\u001b[1;33m:\u001b[0m\u001b[1;33m\u001b[0m\u001b[1;33m\u001b[0m\u001b[0m\n\u001b[1;32m--> 434\u001b[1;33m                 \u001b[1;32mraise\u001b[0m \u001b[0mValueError\u001b[0m\u001b[1;33m(\u001b[0m\u001b[1;34m\"endog and exog matrices are different sizes\"\u001b[0m\u001b[1;33m)\u001b[0m\u001b[1;33m\u001b[0m\u001b[1;33m\u001b[0m\u001b[0m\n\u001b[0m\u001b[0;32m    435\u001b[0m \u001b[1;33m\u001b[0m\u001b[0m\n\u001b[0;32m    436\u001b[0m     \u001b[1;32mdef\u001b[0m \u001b[0mwrap_output\u001b[0m\u001b[1;33m(\u001b[0m\u001b[0mself\u001b[0m\u001b[1;33m,\u001b[0m \u001b[0mobj\u001b[0m\u001b[1;33m,\u001b[0m \u001b[0mhow\u001b[0m\u001b[1;33m=\u001b[0m\u001b[1;34m'columns'\u001b[0m\u001b[1;33m,\u001b[0m \u001b[0mnames\u001b[0m\u001b[1;33m=\u001b[0m\u001b[1;32mNone\u001b[0m\u001b[1;33m)\u001b[0m\u001b[1;33m:\u001b[0m\u001b[1;33m\u001b[0m\u001b[1;33m\u001b[0m\u001b[0m\n",
            "\u001b[1;31mValueError\u001b[0m: endog and exog matrices are different sizes"
          ]
        }
      ],
      "source": [
        "import statsmodels.api as sm\n",
        "formula ='Bidang_Baku', 'Tipe', 'Bandwidth', 'Biaya_Sewa','Kabupaten/Kota', 'Wilayah'\n",
        "lm = sm.OLS(formula, data7).fit()\n",
        "table = sm.stats.anova_lm(lm, typ=2)\n",
        "print(table)"
      ]
    },
    {
      "cell_type": "code",
      "execution_count": 204,
      "metadata": {},
      "outputs": [
        {
          "name": "stdout",
          "output_type": "stream",
          "text": [
            "Train Set Accuracy:100.0\n",
            "Test Set Accuracy:95.40229885057471\n",
            "\n",
            "Confusion Matrix:\n",
            "[[ 0  0  0  0  1  0]\n",
            " [ 0  0  0  0  1  0]\n",
            " [ 0  0  0  0  0  0]\n",
            " [ 0  0  0 62  1  0]\n",
            " [ 0  0  0  0 19  0]\n",
            " [ 0  0  1  0  0  2]]\n",
            "\n",
            "Classification Report:\n",
            "              precision    recall  f1-score   support\n",
            "\n",
            "           0       0.00      0.00      0.00         1\n",
            "           1       0.00      0.00      0.00         1\n",
            "           2       0.00      0.00      0.00         0\n",
            "           3       1.00      0.98      0.99        63\n",
            "           4       0.86      1.00      0.93        19\n",
            "           5       1.00      0.67      0.80         3\n",
            "\n",
            "    accuracy                           0.95        87\n",
            "   macro avg       0.48      0.44      0.45        87\n",
            "weighted avg       0.95      0.95      0.95        87\n",
            "\n"
          ]
        },
        {
          "name": "stderr",
          "output_type": "stream",
          "text": [
            "c:\\Users\\ASUS\\anaconda3\\lib\\site-packages\\sklearn\\metrics\\_classification.py:1318: UndefinedMetricWarning: Precision and F-score are ill-defined and being set to 0.0 in labels with no predicted samples. Use `zero_division` parameter to control this behavior.\n",
            "  _warn_prf(average, modifier, msg_start, len(result))\n",
            "c:\\Users\\ASUS\\anaconda3\\lib\\site-packages\\sklearn\\metrics\\_classification.py:1318: UndefinedMetricWarning: Recall and F-score are ill-defined and being set to 0.0 in labels with no true samples. Use `zero_division` parameter to control this behavior.\n",
            "  _warn_prf(average, modifier, msg_start, len(result))\n",
            "c:\\Users\\ASUS\\anaconda3\\lib\\site-packages\\sklearn\\metrics\\_classification.py:1318: UndefinedMetricWarning: Precision and F-score are ill-defined and being set to 0.0 in labels with no predicted samples. Use `zero_division` parameter to control this behavior.\n",
            "  _warn_prf(average, modifier, msg_start, len(result))\n",
            "c:\\Users\\ASUS\\anaconda3\\lib\\site-packages\\sklearn\\metrics\\_classification.py:1318: UndefinedMetricWarning: Recall and F-score are ill-defined and being set to 0.0 in labels with no true samples. Use `zero_division` parameter to control this behavior.\n",
            "  _warn_prf(average, modifier, msg_start, len(result))\n",
            "c:\\Users\\ASUS\\anaconda3\\lib\\site-packages\\sklearn\\metrics\\_classification.py:1318: UndefinedMetricWarning: Precision and F-score are ill-defined and being set to 0.0 in labels with no predicted samples. Use `zero_division` parameter to control this behavior.\n",
            "  _warn_prf(average, modifier, msg_start, len(result))\n",
            "c:\\Users\\ASUS\\anaconda3\\lib\\site-packages\\sklearn\\metrics\\_classification.py:1318: UndefinedMetricWarning: Recall and F-score are ill-defined and being set to 0.0 in labels with no true samples. Use `zero_division` parameter to control this behavior.\n",
            "  _warn_prf(average, modifier, msg_start, len(result))\n"
          ]
        },
        {
          "data": {
            "text/plain": [
              "['dtc_model.pkl']"
            ]
          },
          "execution_count": 204,
          "metadata": {},
          "output_type": "execute_result"
        }
      ],
      "source": [
        "dtc = DecisionTreeClassifier(criterion='entropy', splitter='best')\n",
        "\n",
        "# Create the pipeline including the transformer, scaler, and logistic regression model\n",
        "base_model_pipe_dtc = make_pipeline(StandardScaler(with_mean=False), dtc)\n",
        "\n",
        "# Fit the pipeline on the training data\n",
        "base_model_pipe_dtc.fit(X_train_oversampled, y_train_oversampled)\n",
        "\n",
        "y_test_pred3 = base_model_pipe_dtc.predict(X_test)\n",
        "y_train_pred3 = base_model_pipe_dtc.predict(X_train_oversampled)\n",
        "\n",
        "print(\"Train Set Accuracy:\"+str(accuracy_score(y_train_pred3,y_train_oversampled)*100))\n",
        "print(\"Test Set Accuracy:\"+str(accuracy_score(y_test_pred3,y_test)*100))\n",
        "\n",
        "#Confusion matrix and classification report\n",
        "print(\"\\nConfusion Matrix:\\n%s\"%confusion_matrix(y_test_pred3,y_test))\n",
        "print(\"\\nClassification Report:\\n%s\"%classification_report(y_test_pred3,y_test))\n",
        "\n",
        "# Save the trained model as a .pkl file\n",
        "joblib.dump(base_model_pipe_dtc, 'dtc_model.pkl')"
      ]
    },
    {
      "cell_type": "code",
      "execution_count": 205,
      "metadata": {},
      "outputs": [
        {
          "name": "stdout",
          "output_type": "stream",
          "text": [
            "Train Set Accuracy:78.16091954022988\n",
            "Test Set Accuracy:77.01149425287356\n",
            "\n",
            "Confusion Matrix:\n",
            "[[ 0  0  0  1  0]\n",
            " [ 0  1  0  0  0]\n",
            " [ 0  0 61 18  0]\n",
            " [ 0  0  1  3  0]\n",
            " [ 0  0  0  0  2]]\n",
            "\n",
            "Classification Report:\n",
            "              precision    recall  f1-score   support\n",
            "\n",
            "           0       0.00      0.00      0.00         1\n",
            "           2       1.00      1.00      1.00         1\n",
            "           3       0.98      0.77      0.87        79\n",
            "           4       0.14      0.75      0.23         4\n",
            "           5       1.00      1.00      1.00         2\n",
            "\n",
            "    accuracy                           0.77        87\n",
            "   macro avg       0.62      0.70      0.62        87\n",
            "weighted avg       0.93      0.77      0.83        87\n",
            "\n"
          ]
        },
        {
          "name": "stderr",
          "output_type": "stream",
          "text": [
            "c:\\Users\\ASUS\\anaconda3\\lib\\site-packages\\sklearn\\metrics\\_classification.py:1318: UndefinedMetricWarning: Precision and F-score are ill-defined and being set to 0.0 in labels with no predicted samples. Use `zero_division` parameter to control this behavior.\n",
            "  _warn_prf(average, modifier, msg_start, len(result))\n",
            "c:\\Users\\ASUS\\anaconda3\\lib\\site-packages\\sklearn\\metrics\\_classification.py:1318: UndefinedMetricWarning: Precision and F-score are ill-defined and being set to 0.0 in labels with no predicted samples. Use `zero_division` parameter to control this behavior.\n",
            "  _warn_prf(average, modifier, msg_start, len(result))\n",
            "c:\\Users\\ASUS\\anaconda3\\lib\\site-packages\\sklearn\\metrics\\_classification.py:1318: UndefinedMetricWarning: Precision and F-score are ill-defined and being set to 0.0 in labels with no predicted samples. Use `zero_division` parameter to control this behavior.\n",
            "  _warn_prf(average, modifier, msg_start, len(result))\n"
          ]
        },
        {
          "data": {
            "text/plain": [
              "['mnb_model.pkl']"
            ]
          },
          "execution_count": 205,
          "metadata": {},
          "output_type": "execute_result"
        }
      ],
      "source": [
        "from sklearn.naive_bayes import MultinomialNB\n",
        "mnb = MultinomialNB()\n",
        "\n",
        "# Create the pipeline including the transformer, scaler, and logistic regression model\n",
        "base_model_pipe_mnb = make_pipeline(StandardScaler(with_mean=False), mnb)\n",
        "\n",
        "# Fit the pipeline on the training data\n",
        "base_model_pipe_mnb.fit(X_train, y_train)\n",
        "\n",
        "y_test_pred2 = base_model_pipe_mnb.predict(X_test)\n",
        "y_train_pred2= base_model_pipe_mnb.predict(X_train)\n",
        "\n",
        "print(\"Train Set Accuracy:\"+str(accuracy_score(y_train_pred2,y_train)*100))\n",
        "print(\"Test Set Accuracy:\"+str(accuracy_score(y_test_pred2,y_test)*100))\n",
        "\n",
        "#Confusion matrix and classification report\n",
        "print(\"\\nConfusion Matrix:\\n%s\"%confusion_matrix(y_test_pred2,y_test))\n",
        "print(\"\\nClassification Report:\\n%s\"%classification_report(y_test_pred2,y_test))\n",
        "\n",
        "# Save the trained model as a .pkl file\n",
        "joblib.dump(base_model_pipe_mnb, 'mnb_model.pkl')"
      ]
    },
    {
      "cell_type": "markdown",
      "metadata": {
        "id": "wDbOEehj13gb"
      },
      "source": [
        "## Evaluation"
      ]
    },
    {
      "cell_type": "code",
      "execution_count": null,
      "metadata": {
        "id": "Ne2eG7IK4joY"
      },
      "outputs": [],
      "source": [
        "# from sklearn.metrics import roc_curve, roc_auc_score\n",
        "\n",
        "\n",
        "# y_pred_proba = lr.predict_proba(np.array(X_test))[:,1]\n",
        "\n",
        "# fpr, tpr, thresholds = roc_curve(y_test, y_pred_proba)\n",
        "\n",
        "# sns.set()\n",
        "\n",
        "# plt.plot(fpr, tpr)\n",
        "\n",
        "# plt.plot(fpr, fpr, linestyle = '--', color = 'k')\n",
        "\n",
        "# plt.xlabel('False positive rate')\n",
        "\n",
        "# plt.ylabel('True positive rate')\n",
        "\n",
        "# AUROC = np.round(roc_auc_score(y_test, y_pred_proba), 2)\n",
        "\n",
        "# plt.title(f'Logistic Regression Model ROC curve; AUROC: {AUROC}');\n",
        "\n",
        "# plt.show()"
      ]
    },
    {
      "cell_type": "code",
      "execution_count": null,
      "metadata": {
        "id": "rMaLfQiq2heo"
      },
      "outputs": [],
      "source": [
        "# # Importing all necessary libraries\n",
        "# from sklearn.metrics import roc_curve, auc\n",
        "\n",
        "# class_probabilities = lr.predict_proba(X_test)\n",
        "# preds = class_probabilities[:, 1]\n",
        "\n",
        "# fpr, tpr, threshold = roc_curve(y_test, preds)\n",
        "# roc_auc = auc(fpr, tpr)\n",
        "\n",
        "# # Printing AUC\n",
        "# print(f\"AUC for our classifier is: {roc_auc}\")\n",
        "\n",
        "# # Plotting the ROC\n",
        "# plt.title('Receiver Operating Characteristic')\n",
        "# plt.plot(fpr, tpr, 'b', label = 'AUC = %0.2f' % roc_auc)\n",
        "# plt.legend(loc = 'lower right')\n",
        "# plt.plot([0, 1], [0, 1],'r--')\n",
        "# plt.xlim([0, 1])\n",
        "# plt.ylim([0, 1])\n",
        "# plt.ylabel('True Positive Rate')\n",
        "# plt.xlabel('False Positive Rate')\n",
        "# plt.show()"
      ]
    },
    {
      "cell_type": "code",
      "execution_count": null,
      "metadata": {
        "id": "Wignkqrp172H"
      },
      "outputs": [],
      "source": [
        "# # Perform cross-validation\n",
        "# cv_scores = cross_val_score(lr, X, y, cv=5)\n",
        "\n",
        "# # Print the cross-validation scores\n",
        "# print('Cross-Validation Scores:', cv_scores)\n",
        "# print('Average Accuracy:', cv_scores.mean())"
      ]
    }
  ],
  "metadata": {
    "accelerator": "GPU",
    "colab": {
      "collapsed_sections": [
        "mHxYPTuGNG9b"
      ],
      "gpuType": "T4",
      "provenance": []
    },
    "kernelspec": {
      "display_name": "Python 3",
      "name": "python3"
    },
    "language_info": {
      "codemirror_mode": {
        "name": "ipython",
        "version": 3
      },
      "file_extension": ".py",
      "mimetype": "text/x-python",
      "name": "python",
      "nbconvert_exporter": "python",
      "pygments_lexer": "ipython3",
      "version": "3.9.13"
    }
  },
  "nbformat": 4,
  "nbformat_minor": 0
}
